{
  "nbformat": 4,
  "nbformat_minor": 0,
  "metadata": {
    "colab": {
      "provenance": [],
      "collapsed_sections": []
    },
    "kernelspec": {
      "name": "python3",
      "display_name": "Python 3"
    },
    "language_info": {
      "name": "python"
    }
  },
  "cells": [
    {
      "cell_type": "code",
      "execution_count": null,
      "metadata": {
        "id": "WOEXmlkPn2sA"
      },
      "outputs": [],
      "source": [
        "import pandas as pd\n",
        "import numpy as np\n",
        "import matplotlib.pyplot as plt"
      ]
    },
    {
      "cell_type": "code",
      "source": [
        "from google.colab import drive\n",
        "drive.mount('/content/gdrive')"
      ],
      "metadata": {
        "colab": {
          "base_uri": "https://localhost:8080/"
        },
        "id": "HTJ-BdPDoMck",
        "outputId": "233cb576-06a2-49cf-a273-71fcc0362950"
      },
      "execution_count": null,
      "outputs": [
        {
          "output_type": "stream",
          "name": "stdout",
          "text": [
            "Drive already mounted at /content/gdrive; to attempt to forcibly remount, call drive.mount(\"/content/gdrive\", force_remount=True).\n"
          ]
        }
      ]
    },
    {
      "cell_type": "code",
      "source": [
        "df = pd.read_csv('gdrive/My Drive/train.csv')"
      ],
      "metadata": {
        "id": "qQS_L-Zboeaj"
      },
      "execution_count": null,
      "outputs": []
    },
    {
      "cell_type": "code",
      "source": [
        "df.head()"
      ],
      "metadata": {
        "colab": {
          "base_uri": "https://localhost:8080/",
          "height": 372
        },
        "id": "sz0wBzB6otps",
        "outputId": "53a239ed-775e-40d0-ef4f-73e32d89cc56"
      },
      "execution_count": null,
      "outputs": [
        {
          "output_type": "execute_result",
          "data": {
            "text/plain": [
              "   PRODUCT_ID                      PRODUCT_NAME  PRODUCT_CONDITION  \\\n",
              "0      952289     Lipstick queen reserved maiwu                  4   \n",
              "1      121903         Garbage Pail Kids blu ray                  3   \n",
              "2      280534                 green floam/slime                  1   \n",
              "3      787961             Wallet beige monogram                  1   \n",
              "4      479292  Triangle Bike Or Body Blue Light                  3   \n",
              "\n",
              "                            CATEGORY PRODUCT_BRAND  SHIPPING_AVAILABILITY  \\\n",
              "0                 Beauty/Makeup/Lips           NaN                      0   \n",
              "1          Electronics/Media/Blu-Ray           NaN                      1   \n",
              "2            Kids/Toys/Arts & Crafts           NaN                      0   \n",
              "3  Women/Women's Accessories/Wallets           NaN                      0   \n",
              "4   Sports & Outdoors/Outdoors/Other           NaN                      0   \n",
              "\n",
              "                                 PRODUCT_DESCRIPTION  PRODUCT_PRICE  \n",
              "0  Lipstick Queen Jean Queen and medieval lipstic...           20.0  \n",
              "1  26Plays great. Tested. Watched once. No scratc...           15.0  \n",
              "2  -6 oz, dragon fruit scented - KEEP OUT OF REAC...            8.0  \n",
              "3                        Wallet brand new never used           31.0  \n",
              "4  Triangle Bike Or Body Blue Light, steady or fl...            8.0  "
            ],
            "text/html": [
              "\n",
              "  <div id=\"df-7ad8e128-84af-4c90-9127-dbbd4da23bc9\">\n",
              "    <div class=\"colab-df-container\">\n",
              "      <div>\n",
              "<style scoped>\n",
              "    .dataframe tbody tr th:only-of-type {\n",
              "        vertical-align: middle;\n",
              "    }\n",
              "\n",
              "    .dataframe tbody tr th {\n",
              "        vertical-align: top;\n",
              "    }\n",
              "\n",
              "    .dataframe thead th {\n",
              "        text-align: right;\n",
              "    }\n",
              "</style>\n",
              "<table border=\"1\" class=\"dataframe\">\n",
              "  <thead>\n",
              "    <tr style=\"text-align: right;\">\n",
              "      <th></th>\n",
              "      <th>PRODUCT_ID</th>\n",
              "      <th>PRODUCT_NAME</th>\n",
              "      <th>PRODUCT_CONDITION</th>\n",
              "      <th>CATEGORY</th>\n",
              "      <th>PRODUCT_BRAND</th>\n",
              "      <th>SHIPPING_AVAILABILITY</th>\n",
              "      <th>PRODUCT_DESCRIPTION</th>\n",
              "      <th>PRODUCT_PRICE</th>\n",
              "    </tr>\n",
              "  </thead>\n",
              "  <tbody>\n",
              "    <tr>\n",
              "      <th>0</th>\n",
              "      <td>952289</td>\n",
              "      <td>Lipstick queen reserved maiwu</td>\n",
              "      <td>4</td>\n",
              "      <td>Beauty/Makeup/Lips</td>\n",
              "      <td>NaN</td>\n",
              "      <td>0</td>\n",
              "      <td>Lipstick Queen Jean Queen and medieval lipstic...</td>\n",
              "      <td>20.0</td>\n",
              "    </tr>\n",
              "    <tr>\n",
              "      <th>1</th>\n",
              "      <td>121903</td>\n",
              "      <td>Garbage Pail Kids blu ray</td>\n",
              "      <td>3</td>\n",
              "      <td>Electronics/Media/Blu-Ray</td>\n",
              "      <td>NaN</td>\n",
              "      <td>1</td>\n",
              "      <td>26Plays great. Tested. Watched once. No scratc...</td>\n",
              "      <td>15.0</td>\n",
              "    </tr>\n",
              "    <tr>\n",
              "      <th>2</th>\n",
              "      <td>280534</td>\n",
              "      <td>green floam/slime</td>\n",
              "      <td>1</td>\n",
              "      <td>Kids/Toys/Arts &amp; Crafts</td>\n",
              "      <td>NaN</td>\n",
              "      <td>0</td>\n",
              "      <td>-6 oz, dragon fruit scented - KEEP OUT OF REAC...</td>\n",
              "      <td>8.0</td>\n",
              "    </tr>\n",
              "    <tr>\n",
              "      <th>3</th>\n",
              "      <td>787961</td>\n",
              "      <td>Wallet beige monogram</td>\n",
              "      <td>1</td>\n",
              "      <td>Women/Women's Accessories/Wallets</td>\n",
              "      <td>NaN</td>\n",
              "      <td>0</td>\n",
              "      <td>Wallet brand new never used</td>\n",
              "      <td>31.0</td>\n",
              "    </tr>\n",
              "    <tr>\n",
              "      <th>4</th>\n",
              "      <td>479292</td>\n",
              "      <td>Triangle Bike Or Body Blue Light</td>\n",
              "      <td>3</td>\n",
              "      <td>Sports &amp; Outdoors/Outdoors/Other</td>\n",
              "      <td>NaN</td>\n",
              "      <td>0</td>\n",
              "      <td>Triangle Bike Or Body Blue Light, steady or fl...</td>\n",
              "      <td>8.0</td>\n",
              "    </tr>\n",
              "  </tbody>\n",
              "</table>\n",
              "</div>\n",
              "      <button class=\"colab-df-convert\" onclick=\"convertToInteractive('df-7ad8e128-84af-4c90-9127-dbbd4da23bc9')\"\n",
              "              title=\"Convert this dataframe to an interactive table.\"\n",
              "              style=\"display:none;\">\n",
              "        \n",
              "  <svg xmlns=\"http://www.w3.org/2000/svg\" height=\"24px\"viewBox=\"0 0 24 24\"\n",
              "       width=\"24px\">\n",
              "    <path d=\"M0 0h24v24H0V0z\" fill=\"none\"/>\n",
              "    <path d=\"M18.56 5.44l.94 2.06.94-2.06 2.06-.94-2.06-.94-.94-2.06-.94 2.06-2.06.94zm-11 1L8.5 8.5l.94-2.06 2.06-.94-2.06-.94L8.5 2.5l-.94 2.06-2.06.94zm10 10l.94 2.06.94-2.06 2.06-.94-2.06-.94-.94-2.06-.94 2.06-2.06.94z\"/><path d=\"M17.41 7.96l-1.37-1.37c-.4-.4-.92-.59-1.43-.59-.52 0-1.04.2-1.43.59L10.3 9.45l-7.72 7.72c-.78.78-.78 2.05 0 2.83L4 21.41c.39.39.9.59 1.41.59.51 0 1.02-.2 1.41-.59l7.78-7.78 2.81-2.81c.8-.78.8-2.07 0-2.86zM5.41 20L4 18.59l7.72-7.72 1.47 1.35L5.41 20z\"/>\n",
              "  </svg>\n",
              "      </button>\n",
              "      \n",
              "  <style>\n",
              "    .colab-df-container {\n",
              "      display:flex;\n",
              "      flex-wrap:wrap;\n",
              "      gap: 12px;\n",
              "    }\n",
              "\n",
              "    .colab-df-convert {\n",
              "      background-color: #E8F0FE;\n",
              "      border: none;\n",
              "      border-radius: 50%;\n",
              "      cursor: pointer;\n",
              "      display: none;\n",
              "      fill: #1967D2;\n",
              "      height: 32px;\n",
              "      padding: 0 0 0 0;\n",
              "      width: 32px;\n",
              "    }\n",
              "\n",
              "    .colab-df-convert:hover {\n",
              "      background-color: #E2EBFA;\n",
              "      box-shadow: 0px 1px 2px rgba(60, 64, 67, 0.3), 0px 1px 3px 1px rgba(60, 64, 67, 0.15);\n",
              "      fill: #174EA6;\n",
              "    }\n",
              "\n",
              "    [theme=dark] .colab-df-convert {\n",
              "      background-color: #3B4455;\n",
              "      fill: #D2E3FC;\n",
              "    }\n",
              "\n",
              "    [theme=dark] .colab-df-convert:hover {\n",
              "      background-color: #434B5C;\n",
              "      box-shadow: 0px 1px 3px 1px rgba(0, 0, 0, 0.15);\n",
              "      filter: drop-shadow(0px 1px 2px rgba(0, 0, 0, 0.3));\n",
              "      fill: #FFFFFF;\n",
              "    }\n",
              "  </style>\n",
              "\n",
              "      <script>\n",
              "        const buttonEl =\n",
              "          document.querySelector('#df-7ad8e128-84af-4c90-9127-dbbd4da23bc9 button.colab-df-convert');\n",
              "        buttonEl.style.display =\n",
              "          google.colab.kernel.accessAllowed ? 'block' : 'none';\n",
              "\n",
              "        async function convertToInteractive(key) {\n",
              "          const element = document.querySelector('#df-7ad8e128-84af-4c90-9127-dbbd4da23bc9');\n",
              "          const dataTable =\n",
              "            await google.colab.kernel.invokeFunction('convertToInteractive',\n",
              "                                                     [key], {});\n",
              "          if (!dataTable) return;\n",
              "\n",
              "          const docLinkHtml = 'Like what you see? Visit the ' +\n",
              "            '<a target=\"_blank\" href=https://colab.research.google.com/notebooks/data_table.ipynb>data table notebook</a>'\n",
              "            + ' to learn more about interactive tables.';\n",
              "          element.innerHTML = '';\n",
              "          dataTable['output_type'] = 'display_data';\n",
              "          await google.colab.output.renderOutput(dataTable, element);\n",
              "          const docLink = document.createElement('div');\n",
              "          docLink.innerHTML = docLinkHtml;\n",
              "          element.appendChild(docLink);\n",
              "        }\n",
              "      </script>\n",
              "    </div>\n",
              "  </div>\n",
              "  "
            ]
          },
          "metadata": {},
          "execution_count": 60
        }
      ]
    },
    {
      "cell_type": "code",
      "source": [
        "df.isnull().sum()"
      ],
      "metadata": {
        "colab": {
          "base_uri": "https://localhost:8080/"
        },
        "id": "qVMPA1aFpMUf",
        "outputId": "fc29fcaa-15fe-44ac-f4dc-0664d2ad8a43"
      },
      "execution_count": null,
      "outputs": [
        {
          "output_type": "execute_result",
          "data": {
            "text/plain": [
              "PRODUCT_ID                    0\n",
              "PRODUCT_NAME                  0\n",
              "PRODUCT_CONDITION             0\n",
              "CATEGORY                   5416\n",
              "PRODUCT_BRAND            537885\n",
              "SHIPPING_AVAILABILITY         0\n",
              "PRODUCT_DESCRIPTION           3\n",
              "PRODUCT_PRICE                 0\n",
              "dtype: int64"
            ]
          },
          "metadata": {},
          "execution_count": 61
        }
      ]
    },
    {
      "cell_type": "code",
      "source": [
        "df.drop(axis=\"columns\", labels=\"PRODUCT_ID\", inplace=True)"
      ],
      "metadata": {
        "id": "82-ciTJxo16H"
      },
      "execution_count": null,
      "outputs": []
    },
    {
      "cell_type": "code",
      "source": [
        "null_index = df.index[df['PRODUCT_DESCRIPTION'].isnull()]"
      ],
      "metadata": {
        "id": "1sc3DMINqB4P"
      },
      "execution_count": null,
      "outputs": []
    },
    {
      "cell_type": "code",
      "source": [
        "df.drop(axis=\"rows\", index=null_index, inplace=True)"
      ],
      "metadata": {
        "id": "9gt0ej8gqOlq"
      },
      "execution_count": null,
      "outputs": []
    },
    {
      "cell_type": "code",
      "source": [
        "df.isnull().sum()"
      ],
      "metadata": {
        "colab": {
          "base_uri": "https://localhost:8080/"
        },
        "id": "M87zDnmuqzX3",
        "outputId": "37cc8c65-4d75-4302-abd8-a1eba422d044"
      },
      "execution_count": null,
      "outputs": [
        {
          "output_type": "execute_result",
          "data": {
            "text/plain": [
              "PRODUCT_NAME                  0\n",
              "PRODUCT_CONDITION             0\n",
              "CATEGORY                   5416\n",
              "PRODUCT_BRAND            537883\n",
              "SHIPPING_AVAILABILITY         0\n",
              "PRODUCT_DESCRIPTION           0\n",
              "PRODUCT_PRICE                 0\n",
              "dtype: int64"
            ]
          },
          "metadata": {},
          "execution_count": 65
        }
      ]
    },
    {
      "cell_type": "code",
      "source": [
        "df.describe()"
      ],
      "metadata": {
        "colab": {
          "base_uri": "https://localhost:8080/",
          "height": 300
        },
        "id": "mKHkNLPssHei",
        "outputId": "12dd457e-2ac9-470e-82f1-dd72c8597fb2"
      },
      "execution_count": null,
      "outputs": [
        {
          "output_type": "execute_result",
          "data": {
            "text/plain": [
              "       PRODUCT_CONDITION  SHIPPING_AVAILABILITY  PRODUCT_PRICE\n",
              "count       1.260151e+06           1.260151e+06   1.260151e+06\n",
              "mean        1.907478e+00           4.472393e-01   2.672049e+01\n",
              "std         9.032447e-01           4.972087e-01   3.855898e+01\n",
              "min         1.000000e+00           0.000000e+00   0.000000e+00\n",
              "25%         1.000000e+00           0.000000e+00   1.000000e+01\n",
              "50%         2.000000e+00           0.000000e+00   1.700000e+01\n",
              "75%         3.000000e+00           1.000000e+00   2.900000e+01\n",
              "max         5.000000e+00           1.000000e+00   2.009000e+03"
            ],
            "text/html": [
              "\n",
              "  <div id=\"df-d7feb4cd-8685-4f0e-a1b6-1536cb8b29a3\">\n",
              "    <div class=\"colab-df-container\">\n",
              "      <div>\n",
              "<style scoped>\n",
              "    .dataframe tbody tr th:only-of-type {\n",
              "        vertical-align: middle;\n",
              "    }\n",
              "\n",
              "    .dataframe tbody tr th {\n",
              "        vertical-align: top;\n",
              "    }\n",
              "\n",
              "    .dataframe thead th {\n",
              "        text-align: right;\n",
              "    }\n",
              "</style>\n",
              "<table border=\"1\" class=\"dataframe\">\n",
              "  <thead>\n",
              "    <tr style=\"text-align: right;\">\n",
              "      <th></th>\n",
              "      <th>PRODUCT_CONDITION</th>\n",
              "      <th>SHIPPING_AVAILABILITY</th>\n",
              "      <th>PRODUCT_PRICE</th>\n",
              "    </tr>\n",
              "  </thead>\n",
              "  <tbody>\n",
              "    <tr>\n",
              "      <th>count</th>\n",
              "      <td>1.260151e+06</td>\n",
              "      <td>1.260151e+06</td>\n",
              "      <td>1.260151e+06</td>\n",
              "    </tr>\n",
              "    <tr>\n",
              "      <th>mean</th>\n",
              "      <td>1.907478e+00</td>\n",
              "      <td>4.472393e-01</td>\n",
              "      <td>2.672049e+01</td>\n",
              "    </tr>\n",
              "    <tr>\n",
              "      <th>std</th>\n",
              "      <td>9.032447e-01</td>\n",
              "      <td>4.972087e-01</td>\n",
              "      <td>3.855898e+01</td>\n",
              "    </tr>\n",
              "    <tr>\n",
              "      <th>min</th>\n",
              "      <td>1.000000e+00</td>\n",
              "      <td>0.000000e+00</td>\n",
              "      <td>0.000000e+00</td>\n",
              "    </tr>\n",
              "    <tr>\n",
              "      <th>25%</th>\n",
              "      <td>1.000000e+00</td>\n",
              "      <td>0.000000e+00</td>\n",
              "      <td>1.000000e+01</td>\n",
              "    </tr>\n",
              "    <tr>\n",
              "      <th>50%</th>\n",
              "      <td>2.000000e+00</td>\n",
              "      <td>0.000000e+00</td>\n",
              "      <td>1.700000e+01</td>\n",
              "    </tr>\n",
              "    <tr>\n",
              "      <th>75%</th>\n",
              "      <td>3.000000e+00</td>\n",
              "      <td>1.000000e+00</td>\n",
              "      <td>2.900000e+01</td>\n",
              "    </tr>\n",
              "    <tr>\n",
              "      <th>max</th>\n",
              "      <td>5.000000e+00</td>\n",
              "      <td>1.000000e+00</td>\n",
              "      <td>2.009000e+03</td>\n",
              "    </tr>\n",
              "  </tbody>\n",
              "</table>\n",
              "</div>\n",
              "      <button class=\"colab-df-convert\" onclick=\"convertToInteractive('df-d7feb4cd-8685-4f0e-a1b6-1536cb8b29a3')\"\n",
              "              title=\"Convert this dataframe to an interactive table.\"\n",
              "              style=\"display:none;\">\n",
              "        \n",
              "  <svg xmlns=\"http://www.w3.org/2000/svg\" height=\"24px\"viewBox=\"0 0 24 24\"\n",
              "       width=\"24px\">\n",
              "    <path d=\"M0 0h24v24H0V0z\" fill=\"none\"/>\n",
              "    <path d=\"M18.56 5.44l.94 2.06.94-2.06 2.06-.94-2.06-.94-.94-2.06-.94 2.06-2.06.94zm-11 1L8.5 8.5l.94-2.06 2.06-.94-2.06-.94L8.5 2.5l-.94 2.06-2.06.94zm10 10l.94 2.06.94-2.06 2.06-.94-2.06-.94-.94-2.06-.94 2.06-2.06.94z\"/><path d=\"M17.41 7.96l-1.37-1.37c-.4-.4-.92-.59-1.43-.59-.52 0-1.04.2-1.43.59L10.3 9.45l-7.72 7.72c-.78.78-.78 2.05 0 2.83L4 21.41c.39.39.9.59 1.41.59.51 0 1.02-.2 1.41-.59l7.78-7.78 2.81-2.81c.8-.78.8-2.07 0-2.86zM5.41 20L4 18.59l7.72-7.72 1.47 1.35L5.41 20z\"/>\n",
              "  </svg>\n",
              "      </button>\n",
              "      \n",
              "  <style>\n",
              "    .colab-df-container {\n",
              "      display:flex;\n",
              "      flex-wrap:wrap;\n",
              "      gap: 12px;\n",
              "    }\n",
              "\n",
              "    .colab-df-convert {\n",
              "      background-color: #E8F0FE;\n",
              "      border: none;\n",
              "      border-radius: 50%;\n",
              "      cursor: pointer;\n",
              "      display: none;\n",
              "      fill: #1967D2;\n",
              "      height: 32px;\n",
              "      padding: 0 0 0 0;\n",
              "      width: 32px;\n",
              "    }\n",
              "\n",
              "    .colab-df-convert:hover {\n",
              "      background-color: #E2EBFA;\n",
              "      box-shadow: 0px 1px 2px rgba(60, 64, 67, 0.3), 0px 1px 3px 1px rgba(60, 64, 67, 0.15);\n",
              "      fill: #174EA6;\n",
              "    }\n",
              "\n",
              "    [theme=dark] .colab-df-convert {\n",
              "      background-color: #3B4455;\n",
              "      fill: #D2E3FC;\n",
              "    }\n",
              "\n",
              "    [theme=dark] .colab-df-convert:hover {\n",
              "      background-color: #434B5C;\n",
              "      box-shadow: 0px 1px 3px 1px rgba(0, 0, 0, 0.15);\n",
              "      filter: drop-shadow(0px 1px 2px rgba(0, 0, 0, 0.3));\n",
              "      fill: #FFFFFF;\n",
              "    }\n",
              "  </style>\n",
              "\n",
              "      <script>\n",
              "        const buttonEl =\n",
              "          document.querySelector('#df-d7feb4cd-8685-4f0e-a1b6-1536cb8b29a3 button.colab-df-convert');\n",
              "        buttonEl.style.display =\n",
              "          google.colab.kernel.accessAllowed ? 'block' : 'none';\n",
              "\n",
              "        async function convertToInteractive(key) {\n",
              "          const element = document.querySelector('#df-d7feb4cd-8685-4f0e-a1b6-1536cb8b29a3');\n",
              "          const dataTable =\n",
              "            await google.colab.kernel.invokeFunction('convertToInteractive',\n",
              "                                                     [key], {});\n",
              "          if (!dataTable) return;\n",
              "\n",
              "          const docLinkHtml = 'Like what you see? Visit the ' +\n",
              "            '<a target=\"_blank\" href=https://colab.research.google.com/notebooks/data_table.ipynb>data table notebook</a>'\n",
              "            + ' to learn more about interactive tables.';\n",
              "          element.innerHTML = '';\n",
              "          dataTable['output_type'] = 'display_data';\n",
              "          await google.colab.output.renderOutput(dataTable, element);\n",
              "          const docLink = document.createElement('div');\n",
              "          docLink.innerHTML = docLinkHtml;\n",
              "          element.appendChild(docLink);\n",
              "        }\n",
              "      </script>\n",
              "    </div>\n",
              "  </div>\n",
              "  "
            ]
          },
          "metadata": {},
          "execution_count": 66
        }
      ]
    },
    {
      "cell_type": "code",
      "source": [
        "free_products = df.index[df['PRODUCT_PRICE']==0]"
      ],
      "metadata": {
        "id": "MEFiAV_OsSgi"
      },
      "execution_count": null,
      "outputs": []
    },
    {
      "cell_type": "code",
      "source": [
        "df.drop(axis=\"rows\", index=free_products, inplace=True)"
      ],
      "metadata": {
        "id": "jXyg8Cu-7GfB"
      },
      "execution_count": null,
      "outputs": []
    },
    {
      "cell_type": "code",
      "source": [
        "df[(df['PRODUCT_DESCRIPTION'] == 'No description yet')]['PRODUCT_PRICE'].describe()"
      ],
      "metadata": {
        "id": "mCgqPXUo8Pnm",
        "colab": {
          "base_uri": "https://localhost:8080/"
        },
        "outputId": "6f4cd6eb-c098-45b9-c05e-d5fa36d28883"
      },
      "execution_count": null,
      "outputs": [
        {
          "output_type": "execute_result",
          "data": {
            "text/plain": [
              "count    70171.000000\n",
              "mean        21.980697\n",
              "std         29.244397\n",
              "min          3.000000\n",
              "25%         10.000000\n",
              "50%         15.000000\n",
              "75%         25.000000\n",
              "max       1400.000000\n",
              "Name: PRODUCT_PRICE, dtype: float64"
            ]
          },
          "metadata": {},
          "execution_count": 69
        }
      ]
    },
    {
      "cell_type": "code",
      "source": [
        "shipping = ['Paid by Buyer', 'Paid by Seller']\n",
        "counts = [(df['SHIPPING_AVAILABILITY']==0).sum(),(df['SHIPPING_AVAILABILITY']==1).sum()]\n",
        "plt.bar(shipping,counts,color=['skyblue','pink'],edgecolor='black')\n",
        "plt.show()"
      ],
      "metadata": {
        "colab": {
          "base_uri": "https://localhost:8080/",
          "height": 265
        },
        "id": "N9i0kveAGiVD",
        "outputId": "abb9d42d-7c8f-41f1-ba81-c042ab5e9347"
      },
      "execution_count": null,
      "outputs": [
        {
          "output_type": "display_data",
          "data": {
            "text/plain": [
              "<Figure size 432x288 with 1 Axes>"
            ],
            "image/png": "[encoded data removed]"
          },
          "metadata": {
            "needs_background": "light"
          }
        }
      ]
    },
    {
      "cell_type": "code",
      "source": [
        "cat = ['1','2','3','4','5']\n",
        "counts = [(df['PRODUCT_CONDITION']==1).sum(),(df['PRODUCT_CONDITION']==2).sum(),(df['PRODUCT_CONDITION']==3).sum(),(df['PRODUCT_CONDITION']==4).sum(),(df['PRODUCT_CONDITION']==5).sum()]\n",
        "plt.bar(cat,counts,color=['yellow','pink','red','green','blue'],edgecolor='black')\n",
        "plt.title(\"\")\n",
        "plt.show()"
      ],
      "metadata": {
        "colab": {
          "base_uri": "https://localhost:8080/",
          "height": 265
        },
        "id": "kqqKGhv2KnQl",
        "outputId": "02076828-eeda-47e6-84df-4bc17fd7a245"
      },
      "execution_count": null,
      "outputs": [
        {
          "output_type": "display_data",
          "data": {
            "text/plain": [
              "<Figure size 432x288 with 1 Axes>"
            ],
            "image/png": "[encoded data removed]"
          },
          "metadata": {
            "needs_background": "light"
          }
        }
      ]
    },
    {
      "cell_type": "code",
      "source": [
        "(df['CATEGORY'].str.count('/')).max()"
      ],
      "metadata": {
        "colab": {
          "base_uri": "https://localhost:8080/"
        },
        "id": "UExA7ugnmCfv",
        "outputId": "8dba6c60-1b83-4b39-a718-db364aa06f07"
      },
      "execution_count": null,
      "outputs": [
        {
          "output_type": "execute_result",
          "data": {
            "text/plain": [
              "4.0"
            ]
          },
          "metadata": {},
          "execution_count": 72
        }
      ]
    },
    {
      "cell_type": "markdown",
      "source": [
        "The above Operation shows 'The maximum occurence of / in column CATEGORY'."
      ],
      "metadata": {
        "id": "fbAL9B0vopnU"
      }
    },
    {
      "cell_type": "markdown",
      "source": [
        "Thus Maximum number of Categories can be 5."
      ],
      "metadata": {
        "id": "kinLUMSYpFvE"
      }
    },
    {
      "cell_type": "code",
      "source": [
        "df[['CATEGORY_1','CATEGORY_2','CATEGORY_3','CATEGORY_4','CATEGORY_5']]=df.CATEGORY.str.split(\"/\",expand=True).loc[:,:4]"
      ],
      "metadata": {
        "id": "EkzlMx9NMGgi"
      },
      "execution_count": null,
      "outputs": []
    },
    {
      "cell_type": "code",
      "source": [
        "df.head()"
      ],
      "metadata": {
        "id": "lNiPeBXfOnki",
        "colab": {
          "base_uri": "https://localhost:8080/",
          "height": 409
        },
        "outputId": "f6a1da17-5c99-41bb-ed9a-710980c78bb5"
      },
      "execution_count": null,
      "outputs": [
        {
          "output_type": "execute_result",
          "data": {
            "text/plain": [
              "                       PRODUCT_NAME  PRODUCT_CONDITION  \\\n",
              "0     Lipstick queen reserved maiwu                  4   \n",
              "1         Garbage Pail Kids blu ray                  3   \n",
              "2                 green floam/slime                  1   \n",
              "3             Wallet beige monogram                  1   \n",
              "4  Triangle Bike Or Body Blue Light                  3   \n",
              "\n",
              "                            CATEGORY PRODUCT_BRAND  SHIPPING_AVAILABILITY  \\\n",
              "0                 Beauty/Makeup/Lips           NaN                      0   \n",
              "1          Electronics/Media/Blu-Ray           NaN                      1   \n",
              "2            Kids/Toys/Arts & Crafts           NaN                      0   \n",
              "3  Women/Women's Accessories/Wallets           NaN                      0   \n",
              "4   Sports & Outdoors/Outdoors/Other           NaN                      0   \n",
              "\n",
              "                                 PRODUCT_DESCRIPTION  PRODUCT_PRICE  \\\n",
              "0  Lipstick Queen Jean Queen and medieval lipstic...           20.0   \n",
              "1  26Plays great. Tested. Watched once. No scratc...           15.0   \n",
              "2  -6 oz, dragon fruit scented - KEEP OUT OF REAC...            8.0   \n",
              "3                        Wallet brand new never used           31.0   \n",
              "4  Triangle Bike Or Body Blue Light, steady or fl...            8.0   \n",
              "\n",
              "          CATEGORY_1           CATEGORY_2     CATEGORY_3 CATEGORY_4 CATEGORY_5  \n",
              "0             Beauty               Makeup           Lips       None       None  \n",
              "1        Electronics                Media        Blu-Ray       None       None  \n",
              "2               Kids                 Toys  Arts & Crafts       None       None  \n",
              "3              Women  Women's Accessories        Wallets       None       None  \n",
              "4  Sports & Outdoors             Outdoors          Other       None       None  "
            ],
            "text/html": [
              "\n",
              "  <div id=\"df-133d705c-27b7-48cc-92b3-e5853c346060\">\n",
              "    <div class=\"colab-df-container\">\n",
              "      <div>\n",
              "<style scoped>\n",
              "    .dataframe tbody tr th:only-of-type {\n",
              "        vertical-align: middle;\n",
              "    }\n",
              "\n",
              "    .dataframe tbody tr th {\n",
              "        vertical-align: top;\n",
              "    }\n",
              "\n",
              "    .dataframe thead th {\n",
              "        text-align: right;\n",
              "    }\n",
              "</style>\n",
              "<table border=\"1\" class=\"dataframe\">\n",
              "  <thead>\n",
              "    <tr style=\"text-align: right;\">\n",
              "      <th></th>\n",
              "      <th>PRODUCT_NAME</th>\n",
              "      <th>PRODUCT_CONDITION</th>\n",
              "      <th>CATEGORY</th>\n",
              "      <th>PRODUCT_BRAND</th>\n",
              "      <th>SHIPPING_AVAILABILITY</th>\n",
              "      <th>PRODUCT_DESCRIPTION</th>\n",
              "      <th>PRODUCT_PRICE</th>\n",
              "      <th>CATEGORY_1</th>\n",
              "      <th>CATEGORY_2</th>\n",
              "      <th>CATEGORY_3</th>\n",
              "      <th>CATEGORY_4</th>\n",
              "      <th>CATEGORY_5</th>\n",
              "    </tr>\n",
              "  </thead>\n",
              "  <tbody>\n",
              "    <tr>\n",
              "      <th>0</th>\n",
              "      <td>Lipstick queen reserved maiwu</td>\n",
              "      <td>4</td>\n",
              "      <td>Beauty/Makeup/Lips</td>\n",
              "      <td>NaN</td>\n",
              "      <td>0</td>\n",
              "      <td>Lipstick Queen Jean Queen and medieval lipstic...</td>\n",
              "      <td>20.0</td>\n",
              "      <td>Beauty</td>\n",
              "      <td>Makeup</td>\n",
              "      <td>Lips</td>\n",
              "      <td>None</td>\n",
              "      <td>None</td>\n",
              "    </tr>\n",
              "    <tr>\n",
              "      <th>1</th>\n",
              "      <td>Garbage Pail Kids blu ray</td>\n",
              "      <td>3</td>\n",
              "      <td>Electronics/Media/Blu-Ray</td>\n",
              "      <td>NaN</td>\n",
              "      <td>1</td>\n",
              "      <td>26Plays great. Tested. Watched once. No scratc...</td>\n",
              "      <td>15.0</td>\n",
              "      <td>Electronics</td>\n",
              "      <td>Media</td>\n",
              "      <td>Blu-Ray</td>\n",
              "      <td>None</td>\n",
              "      <td>None</td>\n",
              "    </tr>\n",
              "    <tr>\n",
              "      <th>2</th>\n",
              "      <td>green floam/slime</td>\n",
              "      <td>1</td>\n",
              "      <td>Kids/Toys/Arts &amp; Crafts</td>\n",
              "      <td>NaN</td>\n",
              "      <td>0</td>\n",
              "      <td>-6 oz, dragon fruit scented - KEEP OUT OF REAC...</td>\n",
              "      <td>8.0</td>\n",
              "      <td>Kids</td>\n",
              "      <td>Toys</td>\n",
              "      <td>Arts &amp; Crafts</td>\n",
              "      <td>None</td>\n",
              "      <td>None</td>\n",
              "    </tr>\n",
              "    <tr>\n",
              "      <th>3</th>\n",
              "      <td>Wallet beige monogram</td>\n",
              "      <td>1</td>\n",
              "      <td>Women/Women's Accessories/Wallets</td>\n",
              "      <td>NaN</td>\n",
              "      <td>0</td>\n",
              "      <td>Wallet brand new never used</td>\n",
              "      <td>31.0</td>\n",
              "      <td>Women</td>\n",
              "      <td>Women's Accessories</td>\n",
              "      <td>Wallets</td>\n",
              "      <td>None</td>\n",
              "      <td>None</td>\n",
              "    </tr>\n",
              "    <tr>\n",
              "      <th>4</th>\n",
              "      <td>Triangle Bike Or Body Blue Light</td>\n",
              "      <td>3</td>\n",
              "      <td>Sports &amp; Outdoors/Outdoors/Other</td>\n",
              "      <td>NaN</td>\n",
              "      <td>0</td>\n",
              "      <td>Triangle Bike Or Body Blue Light, steady or fl...</td>\n",
              "      <td>8.0</td>\n",
              "      <td>Sports &amp; Outdoors</td>\n",
              "      <td>Outdoors</td>\n",
              "      <td>Other</td>\n",
              "      <td>None</td>\n",
              "      <td>None</td>\n",
              "    </tr>\n",
              "  </tbody>\n",
              "</table>\n",
              "</div>\n",
              "      <button class=\"colab-df-convert\" onclick=\"convertToInteractive('df-133d705c-27b7-48cc-92b3-e5853c346060')\"\n",
              "              title=\"Convert this dataframe to an interactive table.\"\n",
              "              style=\"display:none;\">\n",
              "        \n",
              "  <svg xmlns=\"http://www.w3.org/2000/svg\" height=\"24px\"viewBox=\"0 0 24 24\"\n",
              "       width=\"24px\">\n",
              "    <path d=\"M0 0h24v24H0V0z\" fill=\"none\"/>\n",
              "    <path d=\"M18.56 5.44l.94 2.06.94-2.06 2.06-.94-2.06-.94-.94-2.06-.94 2.06-2.06.94zm-11 1L8.5 8.5l.94-2.06 2.06-.94-2.06-.94L8.5 2.5l-.94 2.06-2.06.94zm10 10l.94 2.06.94-2.06 2.06-.94-2.06-.94-.94-2.06-.94 2.06-2.06.94z\"/><path d=\"M17.41 7.96l-1.37-1.37c-.4-.4-.92-.59-1.43-.59-.52 0-1.04.2-1.43.59L10.3 9.45l-7.72 7.72c-.78.78-.78 2.05 0 2.83L4 21.41c.39.39.9.59 1.41.59.51 0 1.02-.2 1.41-.59l7.78-7.78 2.81-2.81c.8-.78.8-2.07 0-2.86zM5.41 20L4 18.59l7.72-7.72 1.47 1.35L5.41 20z\"/>\n",
              "  </svg>\n",
              "      </button>\n",
              "      \n",
              "  <style>\n",
              "    .colab-df-container {\n",
              "      display:flex;\n",
              "      flex-wrap:wrap;\n",
              "      gap: 12px;\n",
              "    }\n",
              "\n",
              "    .colab-df-convert {\n",
              "      background-color: #E8F0FE;\n",
              "      border: none;\n",
              "      border-radius: 50%;\n",
              "      cursor: pointer;\n",
              "      display: none;\n",
              "      fill: #1967D2;\n",
              "      height: 32px;\n",
              "      padding: 0 0 0 0;\n",
              "      width: 32px;\n",
              "    }\n",
              "\n",
              "    .colab-df-convert:hover {\n",
              "      background-color: #E2EBFA;\n",
              "      box-shadow: 0px 1px 2px rgba(60, 64, 67, 0.3), 0px 1px 3px 1px rgba(60, 64, 67, 0.15);\n",
              "      fill: #174EA6;\n",
              "    }\n",
              "\n",
              "    [theme=dark] .colab-df-convert {\n",
              "      background-color: #3B4455;\n",
              "      fill: #D2E3FC;\n",
              "    }\n",
              "\n",
              "    [theme=dark] .colab-df-convert:hover {\n",
              "      background-color: #434B5C;\n",
              "      box-shadow: 0px 1px 3px 1px rgba(0, 0, 0, 0.15);\n",
              "      filter: drop-shadow(0px 1px 2px rgba(0, 0, 0, 0.3));\n",
              "      fill: #FFFFFF;\n",
              "    }\n",
              "  </style>\n",
              "\n",
              "      <script>\n",
              "        const buttonEl =\n",
              "          document.querySelector('#df-133d705c-27b7-48cc-92b3-e5853c346060 button.colab-df-convert');\n",
              "        buttonEl.style.display =\n",
              "          google.colab.kernel.accessAllowed ? 'block' : 'none';\n",
              "\n",
              "        async function convertToInteractive(key) {\n",
              "          const element = document.querySelector('#df-133d705c-27b7-48cc-92b3-e5853c346060');\n",
              "          const dataTable =\n",
              "            await google.colab.kernel.invokeFunction('convertToInteractive',\n",
              "                                                     [key], {});\n",
              "          if (!dataTable) return;\n",
              "\n",
              "          const docLinkHtml = 'Like what you see? Visit the ' +\n",
              "            '<a target=\"_blank\" href=https://colab.research.google.com/notebooks/data_table.ipynb>data table notebook</a>'\n",
              "            + ' to learn more about interactive tables.';\n",
              "          element.innerHTML = '';\n",
              "          dataTable['output_type'] = 'display_data';\n",
              "          await google.colab.output.renderOutput(dataTable, element);\n",
              "          const docLink = document.createElement('div');\n",
              "          docLink.innerHTML = docLinkHtml;\n",
              "          element.appendChild(docLink);\n",
              "        }\n",
              "      </script>\n",
              "    </div>\n",
              "  </div>\n",
              "  "
            ]
          },
          "metadata": {},
          "execution_count": 74
        }
      ]
    },
    {
      "cell_type": "code",
      "source": [
        "(df['CATEGORY_4'].isna()).sum()"
      ],
      "metadata": {
        "colab": {
          "base_uri": "https://localhost:8080/"
        },
        "id": "RbRyMea-PoGd",
        "outputId": "c05f3cbf-61d7-4175-d520-c91654569259"
      },
      "execution_count": null,
      "outputs": [
        {
          "output_type": "execute_result",
          "data": {
            "text/plain": [
              "1255723"
            ]
          },
          "metadata": {},
          "execution_count": 75
        }
      ]
    },
    {
      "cell_type": "code",
      "source": [
        "(df['CATEGORY_5'].isna()).sum()"
      ],
      "metadata": {
        "colab": {
          "base_uri": "https://localhost:8080/"
        },
        "id": "qTglKD9_P4P4",
        "outputId": "175147ff-aeac-41aa-83a9-9fd65cb4638a"
      },
      "execution_count": null,
      "outputs": [
        {
          "output_type": "execute_result",
          "data": {
            "text/plain": [
              "1256846"
            ]
          },
          "metadata": {},
          "execution_count": 76
        }
      ]
    },
    {
      "cell_type": "code",
      "source": [
        "(df['CATEGORY_3'].isna()).sum()"
      ],
      "metadata": {
        "colab": {
          "base_uri": "https://localhost:8080/"
        },
        "id": "_UsTHRBrP-Xc",
        "outputId": "0f80992f-562a-4537-be98-60d8a017ee36"
      },
      "execution_count": null,
      "outputs": [
        {
          "output_type": "execute_result",
          "data": {
            "text/plain": [
              "5407"
            ]
          },
          "metadata": {},
          "execution_count": 77
        }
      ]
    },
    {
      "cell_type": "code",
      "source": [
        "df.shape"
      ],
      "metadata": {
        "colab": {
          "base_uri": "https://localhost:8080/"
        },
        "id": "jG5G9Zqhifpf",
        "outputId": "cb4ff320-097a-45a8-9a0e-2a94c7f99b06"
      },
      "execution_count": null,
      "outputs": [
        {
          "output_type": "execute_result",
          "data": {
            "text/plain": [
              "(1259411, 12)"
            ]
          },
          "metadata": {},
          "execution_count": 78
        }
      ]
    },
    {
      "cell_type": "code",
      "source": [
        "df.drop(axis='columns',labels=['CATEGORY','CATEGORY_4','CATEGORY_5'],inplace=True)"
      ],
      "metadata": {
        "id": "C9UHcchtkkV9"
      },
      "execution_count": null,
      "outputs": []
    },
    {
      "cell_type": "code",
      "source": [
        "df.head()"
      ],
      "metadata": {
        "colab": {
          "base_uri": "https://localhost:8080/",
          "height": 409
        },
        "id": "3ogiKXfrlJyw",
        "outputId": "48121fa1-c331-49f0-e014-81124486f117"
      },
      "execution_count": null,
      "outputs": [
        {
          "output_type": "execute_result",
          "data": {
            "text/plain": [
              "                       PRODUCT_NAME  PRODUCT_CONDITION PRODUCT_BRAND  \\\n",
              "0     Lipstick queen reserved maiwu                  4           NaN   \n",
              "1         Garbage Pail Kids blu ray                  3           NaN   \n",
              "2                 green floam/slime                  1           NaN   \n",
              "3             Wallet beige monogram                  1           NaN   \n",
              "4  Triangle Bike Or Body Blue Light                  3           NaN   \n",
              "\n",
              "   SHIPPING_AVAILABILITY                                PRODUCT_DESCRIPTION  \\\n",
              "0                      0  Lipstick Queen Jean Queen and medieval lipstic...   \n",
              "1                      1  26Plays great. Tested. Watched once. No scratc...   \n",
              "2                      0  -6 oz, dragon fruit scented - KEEP OUT OF REAC...   \n",
              "3                      0                        Wallet brand new never used   \n",
              "4                      0  Triangle Bike Or Body Blue Light, steady or fl...   \n",
              "\n",
              "   PRODUCT_PRICE         CATEGORY_1           CATEGORY_2     CATEGORY_3  \n",
              "0           20.0             Beauty               Makeup           Lips  \n",
              "1           15.0        Electronics                Media        Blu-Ray  \n",
              "2            8.0               Kids                 Toys  Arts & Crafts  \n",
              "3           31.0              Women  Women's Accessories        Wallets  \n",
              "4            8.0  Sports & Outdoors             Outdoors          Other  "
            ],
            "text/html": [
              "\n",
              "  <div id=\"df-547e8cd4-a230-4818-a3df-e6401af4fef0\">\n",
              "    <div class=\"colab-df-container\">\n",
              "      <div>\n",
              "<style scoped>\n",
              "    .dataframe tbody tr th:only-of-type {\n",
              "        vertical-align: middle;\n",
              "    }\n",
              "\n",
              "    .dataframe tbody tr th {\n",
              "        vertical-align: top;\n",
              "    }\n",
              "\n",
              "    .dataframe thead th {\n",
              "        text-align: right;\n",
              "    }\n",
              "</style>\n",
              "<table border=\"1\" class=\"dataframe\">\n",
              "  <thead>\n",
              "    <tr style=\"text-align: right;\">\n",
              "      <th></th>\n",
              "      <th>PRODUCT_NAME</th>\n",
              "      <th>PRODUCT_CONDITION</th>\n",
              "      <th>PRODUCT_BRAND</th>\n",
              "      <th>SHIPPING_AVAILABILITY</th>\n",
              "      <th>PRODUCT_DESCRIPTION</th>\n",
              "      <th>PRODUCT_PRICE</th>\n",
              "      <th>CATEGORY_1</th>\n",
              "      <th>CATEGORY_2</th>\n",
              "      <th>CATEGORY_3</th>\n",
              "    </tr>\n",
              "  </thead>\n",
              "  <tbody>\n",
              "    <tr>\n",
              "      <th>0</th>\n",
              "      <td>Lipstick queen reserved maiwu</td>\n",
              "      <td>4</td>\n",
              "      <td>NaN</td>\n",
              "      <td>0</td>\n",
              "      <td>Lipstick Queen Jean Queen and medieval lipstic...</td>\n",
              "      <td>20.0</td>\n",
              "      <td>Beauty</td>\n",
              "      <td>Makeup</td>\n",
              "      <td>Lips</td>\n",
              "    </tr>\n",
              "    <tr>\n",
              "      <th>1</th>\n",
              "      <td>Garbage Pail Kids blu ray</td>\n",
              "      <td>3</td>\n",
              "      <td>NaN</td>\n",
              "      <td>1</td>\n",
              "      <td>26Plays great. Tested. Watched once. No scratc...</td>\n",
              "      <td>15.0</td>\n",
              "      <td>Electronics</td>\n",
              "      <td>Media</td>\n",
              "      <td>Blu-Ray</td>\n",
              "    </tr>\n",
              "    <tr>\n",
              "      <th>2</th>\n",
              "      <td>green floam/slime</td>\n",
              "      <td>1</td>\n",
              "      <td>NaN</td>\n",
              "      <td>0</td>\n",
              "      <td>-6 oz, dragon fruit scented - KEEP OUT OF REAC...</td>\n",
              "      <td>8.0</td>\n",
              "      <td>Kids</td>\n",
              "      <td>Toys</td>\n",
              "      <td>Arts &amp; Crafts</td>\n",
              "    </tr>\n",
              "    <tr>\n",
              "      <th>3</th>\n",
              "      <td>Wallet beige monogram</td>\n",
              "      <td>1</td>\n",
              "      <td>NaN</td>\n",
              "      <td>0</td>\n",
              "      <td>Wallet brand new never used</td>\n",
              "      <td>31.0</td>\n",
              "      <td>Women</td>\n",
              "      <td>Women's Accessories</td>\n",
              "      <td>Wallets</td>\n",
              "    </tr>\n",
              "    <tr>\n",
              "      <th>4</th>\n",
              "      <td>Triangle Bike Or Body Blue Light</td>\n",
              "      <td>3</td>\n",
              "      <td>NaN</td>\n",
              "      <td>0</td>\n",
              "      <td>Triangle Bike Or Body Blue Light, steady or fl...</td>\n",
              "      <td>8.0</td>\n",
              "      <td>Sports &amp; Outdoors</td>\n",
              "      <td>Outdoors</td>\n",
              "      <td>Other</td>\n",
              "    </tr>\n",
              "  </tbody>\n",
              "</table>\n",
              "</div>\n",
              "      <button class=\"colab-df-convert\" onclick=\"convertToInteractive('df-547e8cd4-a230-4818-a3df-e6401af4fef0')\"\n",
              "              title=\"Convert this dataframe to an interactive table.\"\n",
              "              style=\"display:none;\">\n",
              "        \n",
              "  <svg xmlns=\"http://www.w3.org/2000/svg\" height=\"24px\"viewBox=\"0 0 24 24\"\n",
              "       width=\"24px\">\n",
              "    <path d=\"M0 0h24v24H0V0z\" fill=\"none\"/>\n",
              "    <path d=\"M18.56 5.44l.94 2.06.94-2.06 2.06-.94-2.06-.94-.94-2.06-.94 2.06-2.06.94zm-11 1L8.5 8.5l.94-2.06 2.06-.94-2.06-.94L8.5 2.5l-.94 2.06-2.06.94zm10 10l.94 2.06.94-2.06 2.06-.94-2.06-.94-.94-2.06-.94 2.06-2.06.94z\"/><path d=\"M17.41 7.96l-1.37-1.37c-.4-.4-.92-.59-1.43-.59-.52 0-1.04.2-1.43.59L10.3 9.45l-7.72 7.72c-.78.78-.78 2.05 0 2.83L4 21.41c.39.39.9.59 1.41.59.51 0 1.02-.2 1.41-.59l7.78-7.78 2.81-2.81c.8-.78.8-2.07 0-2.86zM5.41 20L4 18.59l7.72-7.72 1.47 1.35L5.41 20z\"/>\n",
              "  </svg>\n",
              "      </button>\n",
              "      \n",
              "  <style>\n",
              "    .colab-df-container {\n",
              "      display:flex;\n",
              "      flex-wrap:wrap;\n",
              "      gap: 12px;\n",
              "    }\n",
              "\n",
              "    .colab-df-convert {\n",
              "      background-color: #E8F0FE;\n",
              "      border: none;\n",
              "      border-radius: 50%;\n",
              "      cursor: pointer;\n",
              "      display: none;\n",
              "      fill: #1967D2;\n",
              "      height: 32px;\n",
              "      padding: 0 0 0 0;\n",
              "      width: 32px;\n",
              "    }\n",
              "\n",
              "    .colab-df-convert:hover {\n",
              "      background-color: #E2EBFA;\n",
              "      box-shadow: 0px 1px 2px rgba(60, 64, 67, 0.3), 0px 1px 3px 1px rgba(60, 64, 67, 0.15);\n",
              "      fill: #174EA6;\n",
              "    }\n",
              "\n",
              "    [theme=dark] .colab-df-convert {\n",
              "      background-color: #3B4455;\n",
              "      fill: #D2E3FC;\n",
              "    }\n",
              "\n",
              "    [theme=dark] .colab-df-convert:hover {\n",
              "      background-color: #434B5C;\n",
              "      box-shadow: 0px 1px 3px 1px rgba(0, 0, 0, 0.15);\n",
              "      filter: drop-shadow(0px 1px 2px rgba(0, 0, 0, 0.3));\n",
              "      fill: #FFFFFF;\n",
              "    }\n",
              "  </style>\n",
              "\n",
              "      <script>\n",
              "        const buttonEl =\n",
              "          document.querySelector('#df-547e8cd4-a230-4818-a3df-e6401af4fef0 button.colab-df-convert');\n",
              "        buttonEl.style.display =\n",
              "          google.colab.kernel.accessAllowed ? 'block' : 'none';\n",
              "\n",
              "        async function convertToInteractive(key) {\n",
              "          const element = document.querySelector('#df-547e8cd4-a230-4818-a3df-e6401af4fef0');\n",
              "          const dataTable =\n",
              "            await google.colab.kernel.invokeFunction('convertToInteractive',\n",
              "                                                     [key], {});\n",
              "          if (!dataTable) return;\n",
              "\n",
              "          const docLinkHtml = 'Like what you see? Visit the ' +\n",
              "            '<a target=\"_blank\" href=https://colab.research.google.com/notebooks/data_table.ipynb>data table notebook</a>'\n",
              "            + ' to learn more about interactive tables.';\n",
              "          element.innerHTML = '';\n",
              "          dataTable['output_type'] = 'display_data';\n",
              "          await google.colab.output.renderOutput(dataTable, element);\n",
              "          const docLink = document.createElement('div');\n",
              "          docLink.innerHTML = docLinkHtml;\n",
              "          element.appendChild(docLink);\n",
              "        }\n",
              "      </script>\n",
              "    </div>\n",
              "  </div>\n",
              "  "
            ]
          },
          "metadata": {},
          "execution_count": 80
        }
      ]
    },
    {
      "cell_type": "code",
      "source": [
        "df.isna().sum()"
      ],
      "metadata": {
        "colab": {
          "base_uri": "https://localhost:8080/"
        },
        "id": "-U2ke1n_lO67",
        "outputId": "7d590477-867c-4a51-e193-90b68105d691"
      },
      "execution_count": null,
      "outputs": [
        {
          "output_type": "execute_result",
          "data": {
            "text/plain": [
              "PRODUCT_NAME                  0\n",
              "PRODUCT_CONDITION             0\n",
              "PRODUCT_BRAND            537586\n",
              "SHIPPING_AVAILABILITY         0\n",
              "PRODUCT_DESCRIPTION           0\n",
              "PRODUCT_PRICE                 0\n",
              "CATEGORY_1                 5407\n",
              "CATEGORY_2                 5407\n",
              "CATEGORY_3                 5407\n",
              "dtype: int64"
            ]
          },
          "metadata": {},
          "execution_count": 81
        }
      ]
    },
    {
      "cell_type": "markdown",
      "source": [
        "As of now we are removing null Categories. Let us know if there is any better solution."
      ],
      "metadata": {
        "id": "Le0U8sxKykPI"
      }
    },
    {
      "cell_type": "markdown",
      "source": [
        "By removing these NULL Categories number of Brands reduced by 17."
      ],
      "metadata": {
        "id": "m_2_y_37y0G7"
      }
    },
    {
      "cell_type": "markdown",
      "source": [
        "One of the solution we came across, replaced the Null values by \"Not Available\" making it a new Category in itself"
      ],
      "metadata": {
        "id": "GW2qRyOU89kp"
      }
    },
    {
      "cell_type": "code",
      "source": [
        "df.drop(axis='rows', index= df.index[df['CATEGORY_1'].isna()], inplace=True)"
      ],
      "metadata": {
        "id": "BAueUmncxYBs"
      },
      "execution_count": null,
      "outputs": []
    },
    {
      "cell_type": "code",
      "source": [
        "category=df['CATEGORY_1'].unique()\n",
        "category.shape"
      ],
      "metadata": {
        "colab": {
          "base_uri": "https://localhost:8080/"
        },
        "id": "MqOi-gFupqSU",
        "outputId": "9aaac975-52f0-48c2-c232-02399f0b85a1"
      },
      "execution_count": null,
      "outputs": [
        {
          "output_type": "execute_result",
          "data": {
            "text/plain": [
              "(10,)"
            ]
          },
          "metadata": {},
          "execution_count": 141
        }
      ]
    },
    {
      "cell_type": "code",
      "source": [],
      "metadata": {
        "id": "V0lESrbrxVih"
      },
      "execution_count": null,
      "outputs": []
    },
    {
      "cell_type": "code",
      "source": [
        "catcounts=[0]*category.shape[0]\n",
        "for i in range(category.shape[0]):\n",
        "  catcounts[i] = (df['CATEGORY_1']==category[i]).sum()"
      ],
      "metadata": {
        "id": "flk6DUTS0bHE"
      },
      "execution_count": null,
      "outputs": []
    },
    {
      "cell_type": "code",
      "source": [
        "# category=category.tolist()\n",
        "f = plt.figure()\n",
        "f.set_figwidth(20)\n",
        "# f.set_figheight(1)\n",
        "plt.bar(category,catcounts,edgecolor='black',color=['skyblue','yellow','aqua','pink','red','green','blue','orange','purple','magenta'])\n",
        "plt.title(\"Category-wise division\")\n",
        "plt.xlabel(\"Category\")\n",
        "plt.ylabel(\"Counts\")\n",
        "plt.show()\n"
      ],
      "metadata": {
        "id": "4O_9x7LlqDlS",
        "colab": {
          "base_uri": "https://localhost:8080/",
          "height": 295
        },
        "outputId": "6305d8fc-4cbb-4835-ebb9-1eda2965de4f"
      },
      "execution_count": null,
      "outputs": [
        {
          "output_type": "display_data",
          "data": {
            "text/plain": [
              "<Figure size 1440x288 with 1 Axes>"
            ],
            "image/png": "[encoded data removed]"
          },
          "metadata": {
            "needs_background": "light"
          }
        }
      ]
    },
    {
      "cell_type": "code",
      "source": [
        "category2=df['CATEGORY_2'].unique()\n",
        "category2.shape"
      ],
      "metadata": {
        "colab": {
          "base_uri": "https://localhost:8080/"
        },
        "id": "0RqJp7Me2wND",
        "outputId": "c7f6318f-9a94-4c81-b013-298ee93a43e7"
      },
      "execution_count": null,
      "outputs": [
        {
          "output_type": "execute_result",
          "data": {
            "text/plain": [
              "(113,)"
            ]
          },
          "metadata": {},
          "execution_count": 159
        }
      ]
    },
    {
      "cell_type": "code",
      "source": [
        "category3=df['CATEGORY_3'].unique()\n",
        "category3.shape"
      ],
      "metadata": {
        "colab": {
          "base_uri": "https://localhost:8080/"
        },
        "id": "3YE3C4V_30_r",
        "outputId": "5394786a-f40d-410a-dec1-e8d8a825f215"
      },
      "execution_count": null,
      "outputs": [
        {
          "output_type": "execute_result",
          "data": {
            "text/plain": [
              "(863,)"
            ]
          },
          "metadata": {},
          "execution_count": 162
        }
      ]
    },
    {
      "cell_type": "code",
      "source": [
        "brands = df['PRODUCT_BRAND'].unique().tolist()"
      ],
      "metadata": {
        "id": "iDn4Mf4s4Pi9"
      },
      "execution_count": null,
      "outputs": []
    },
    {
      "cell_type": "code",
      "source": [
        "null_idx = df.index[df['PRODUCT_BRAND'].isna()]"
      ],
      "metadata": {
        "id": "M3XKOW2h_jQS"
      },
      "execution_count": null,
      "outputs": []
    },
    {
      "cell_type": "code",
      "source": [
        "null_idx"
      ],
      "metadata": {
        "colab": {
          "base_uri": "https://localhost:8080/"
        },
        "id": "czbbyGhOA5C0",
        "outputId": "64b1c95e-e2a7-4e83-8985-f678bfa157f0"
      },
      "execution_count": null,
      "outputs": [
        {
          "output_type": "execute_result",
          "data": {
            "text/plain": [
              "Int64Index([      0,       1,       2,       3,       4,       8,      10,\n",
              "                 11,      12,      15,\n",
              "            ...\n",
              "            1260136, 1260137, 1260139, 1260140, 1260141, 1260144, 1260145,\n",
              "            1260150, 1260151, 1260153],\n",
              "           dtype='int64', length=534629)"
            ]
          },
          "metadata": {},
          "execution_count": 178
        }
      ]
    },
    {
      "cell_type": "code",
      "source": [
        "c=0\n",
        "for i in null_idx:\n",
        "  if(c%1000==0):\n",
        "    print(c) \n",
        "  flag = 0\n",
        "  c=c+1\n",
        "  for name in brands[1:100]:\n",
        "    if(name in (df['PRODUCT_DESCRIPTION'][i])):\n",
        "      df['PRODUCT_BRAND']=name\n",
        "      flag=1\n",
        "      break\n",
        "  if(flag==1):\n",
        "    break\n",
        "  for name in brands[1:]:\n",
        "    if(name in (df['PRODUCT_NAME'][i])):\n",
        "      df['PRODUCT_BRAND']=name\n",
        "      break"
      ],
      "metadata": {
        "colab": {
          "base_uri": "https://localhost:8080/"
        },
        "id": "8TfPyLJnA6rh",
        "outputId": "fceda3f0-31fb-4c87-8a4e-c0b5339ce93a"
      },
      "execution_count": null,
      "outputs": [
        {
          "output_type": "stream",
          "name": "stdout",
          "text": [
            "0\n"
          ]
        }
      ]
    },
    {
      "cell_type": "code",
      "source": [
        "for i in null_idx:\n",
        "  print(df['PRODUCT_BRAND'][i])"
      ],
      "metadata": {
        "id": "2_ZXGde2BlCz"
      },
      "execution_count": null,
      "outputs": []
    }
  ]
}