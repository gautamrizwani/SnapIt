{
  "cells": [
    {
      "cell_type": "code",
      "execution_count": null,
      "metadata": {
        "id": "FLTAZCtB9zfR"
      },
      "outputs": [],
      "source": [
        "import pandas as pd\n",
        "import numpy as np\n",
        "import matplotlib.pyplot as plt\n",
        "import seaborn as sns"
      ]
    },
    {
      "cell_type": "code",
      "execution_count": null,
      "metadata": {
        "colab": {
          "base_uri": "https://localhost:8080/"
        },
        "id": "iB2lFIAB967z",
        "outputId": "f737156c-d2cc-4ea8-e7fa-2e3dd46a8213"
      },
      "outputs": [
        {
          "output_type": "stream",
          "name": "stdout",
          "text": [
            "Mounted at /content/gdrive\n"
          ]
        }
      ],
      "source": [
        "from google.colab import drive\n",
        "drive.mount('/content/gdrive')"
      ]
    },
    {
      "cell_type": "code",
      "execution_count": null,
      "metadata": {
        "id": "5eoU8LLCHrrw"
      },
      "outputs": [],
      "source": [
        "tr_df = pd.read_csv('gdrive/My Drive/train.csv')"
      ]
    },
    {
      "cell_type": "code",
      "execution_count": null,
      "metadata": {
        "id": "3_rc79HpH4OX"
      },
      "outputs": [],
      "source": [
        "tr_df.drop(tr_df.index[250000:], inplace=True)"
      ]
    },
    {
      "cell_type": "code",
      "execution_count": null,
      "metadata": {
        "colab": {
          "base_uri": "https://localhost:8080/",
          "height": 337
        },
        "id": "rbgVrzC-IVhm",
        "outputId": "404799f7-9879-400b-b593-81fbc0c958d6"
      },
      "outputs": [
        {
          "data": {
            "text/html": [
              "\n",
              "  <div id=\"df-c8c04baa-b93d-48d0-96c0-2d88e2446eea\">\n",
              "    <div class=\"colab-df-container\">\n",
              "      <div>\n",
              "<style scoped>\n",
              "    .dataframe tbody tr th:only-of-type {\n",
              "        vertical-align: middle;\n",
              "    }\n",
              "\n",
              "    .dataframe tbody tr th {\n",
              "        vertical-align: top;\n",
              "    }\n",
              "\n",
              "    .dataframe thead th {\n",
              "        text-align: right;\n",
              "    }\n",
              "</style>\n",
              "<table border=\"1\" class=\"dataframe\">\n",
              "  <thead>\n",
              "    <tr style=\"text-align: right;\">\n",
              "      <th></th>\n",
              "      <th>PRODUCT_ID</th>\n",
              "      <th>PRODUCT_NAME</th>\n",
              "      <th>PRODUCT_CONDITION</th>\n",
              "      <th>CATEGORY</th>\n",
              "      <th>PRODUCT_BRAND</th>\n",
              "      <th>SHIPPING_AVAILABILITY</th>\n",
              "      <th>PRODUCT_DESCRIPTION</th>\n",
              "      <th>PRODUCT_PRICE</th>\n",
              "    </tr>\n",
              "  </thead>\n",
              "  <tbody>\n",
              "    <tr>\n",
              "      <th>0</th>\n",
              "      <td>952289</td>\n",
              "      <td>Lipstick queen reserved maiwu</td>\n",
              "      <td>4</td>\n",
              "      <td>Beauty/Makeup/Lips</td>\n",
              "      <td>NaN</td>\n",
              "      <td>0</td>\n",
              "      <td>Lipstick Queen Jean Queen and medieval lipstic...</td>\n",
              "      <td>20.0</td>\n",
              "    </tr>\n",
              "    <tr>\n",
              "      <th>1</th>\n",
              "      <td>121903</td>\n",
              "      <td>Garbage Pail Kids blu ray</td>\n",
              "      <td>3</td>\n",
              "      <td>Electronics/Media/Blu-Ray</td>\n",
              "      <td>NaN</td>\n",
              "      <td>1</td>\n",
              "      <td>26Plays great. Tested. Watched once. No scratc...</td>\n",
              "      <td>15.0</td>\n",
              "    </tr>\n",
              "    <tr>\n",
              "      <th>2</th>\n",
              "      <td>280534</td>\n",
              "      <td>green floam/slime</td>\n",
              "      <td>1</td>\n",
              "      <td>Kids/Toys/Arts &amp; Crafts</td>\n",
              "      <td>NaN</td>\n",
              "      <td>0</td>\n",
              "      <td>-6 oz, dragon fruit scented - KEEP OUT OF REAC...</td>\n",
              "      <td>8.0</td>\n",
              "    </tr>\n",
              "    <tr>\n",
              "      <th>3</th>\n",
              "      <td>787961</td>\n",
              "      <td>Wallet beige monogram</td>\n",
              "      <td>1</td>\n",
              "      <td>Women/Women's Accessories/Wallets</td>\n",
              "      <td>NaN</td>\n",
              "      <td>0</td>\n",
              "      <td>Wallet brand new never used</td>\n",
              "      <td>31.0</td>\n",
              "    </tr>\n",
              "    <tr>\n",
              "      <th>4</th>\n",
              "      <td>479292</td>\n",
              "      <td>Triangle Bike Or Body Blue Light</td>\n",
              "      <td>3</td>\n",
              "      <td>Sports &amp; Outdoors/Outdoors/Other</td>\n",
              "      <td>NaN</td>\n",
              "      <td>0</td>\n",
              "      <td>Triangle Bike Or Body Blue Light, steady or fl...</td>\n",
              "      <td>8.0</td>\n",
              "    </tr>\n",
              "  </tbody>\n",
              "</table>\n",
              "</div>\n",
              "      <button class=\"colab-df-convert\" onclick=\"convertToInteractive('df-c8c04baa-b93d-48d0-96c0-2d88e2446eea')\"\n",
              "              title=\"Convert this dataframe to an interactive table.\"\n",
              "              style=\"display:none;\">\n",
              "        \n",
              "  <svg xmlns=\"http://www.w3.org/2000/svg\" height=\"24px\"viewBox=\"0 0 24 24\"\n",
              "       width=\"24px\">\n",
              "    <path d=\"M0 0h24v24H0V0z\" fill=\"none\"/>\n",
              "    <path d=\"M18.56 5.44l.94 2.06.94-2.06 2.06-.94-2.06-.94-.94-2.06-.94 2.06-2.06.94zm-11 1L8.5 8.5l.94-2.06 2.06-.94-2.06-.94L8.5 2.5l-.94 2.06-2.06.94zm10 10l.94 2.06.94-2.06 2.06-.94-2.06-.94-.94-2.06-.94 2.06-2.06.94z\"/><path d=\"M17.41 7.96l-1.37-1.37c-.4-.4-.92-.59-1.43-.59-.52 0-1.04.2-1.43.59L10.3 9.45l-7.72 7.72c-.78.78-.78 2.05 0 2.83L4 21.41c.39.39.9.59 1.41.59.51 0 1.02-.2 1.41-.59l7.78-7.78 2.81-2.81c.8-.78.8-2.07 0-2.86zM5.41 20L4 18.59l7.72-7.72 1.47 1.35L5.41 20z\"/>\n",
              "  </svg>\n",
              "      </button>\n",
              "      \n",
              "  <style>\n",
              "    .colab-df-container {\n",
              "      display:flex;\n",
              "      flex-wrap:wrap;\n",
              "      gap: 12px;\n",
              "    }\n",
              "\n",
              "    .colab-df-convert {\n",
              "      background-color: #E8F0FE;\n",
              "      border: none;\n",
              "      border-radius: 50%;\n",
              "      cursor: pointer;\n",
              "      display: none;\n",
              "      fill: #1967D2;\n",
              "      height: 32px;\n",
              "      padding: 0 0 0 0;\n",
              "      width: 32px;\n",
              "    }\n",
              "\n",
              "    .colab-df-convert:hover {\n",
              "      background-color: #E2EBFA;\n",
              "      box-shadow: 0px 1px 2px rgba(60, 64, 67, 0.3), 0px 1px 3px 1px rgba(60, 64, 67, 0.15);\n",
              "      fill: #174EA6;\n",
              "    }\n",
              "\n",
              "    [theme=dark] .colab-df-convert {\n",
              "      background-color: #3B4455;\n",
              "      fill: #D2E3FC;\n",
              "    }\n",
              "\n",
              "    [theme=dark] .colab-df-convert:hover {\n",
              "      background-color: #434B5C;\n",
              "      box-shadow: 0px 1px 3px 1px rgba(0, 0, 0, 0.15);\n",
              "      filter: drop-shadow(0px 1px 2px rgba(0, 0, 0, 0.3));\n",
              "      fill: #FFFFFF;\n",
              "    }\n",
              "  </style>\n",
              "\n",
              "      <script>\n",
              "        const buttonEl =\n",
              "          document.querySelector('#df-c8c04baa-b93d-48d0-96c0-2d88e2446eea button.colab-df-convert');\n",
              "        buttonEl.style.display =\n",
              "          google.colab.kernel.accessAllowed ? 'block' : 'none';\n",
              "\n",
              "        async function convertToInteractive(key) {\n",
              "          const element = document.querySelector('#df-c8c04baa-b93d-48d0-96c0-2d88e2446eea');\n",
              "          const dataTable =\n",
              "            await google.colab.kernel.invokeFunction('convertToInteractive',\n",
              "                                                     [key], {});\n",
              "          if (!dataTable) return;\n",
              "\n",
              "          const docLinkHtml = 'Like what you see? Visit the ' +\n",
              "            '<a target=\"_blank\" href=https://colab.research.google.com/notebooks/data_table.ipynb>data table notebook</a>'\n",
              "            + ' to learn more about interactive tables.';\n",
              "          element.innerHTML = '';\n",
              "          dataTable['output_type'] = 'display_data';\n",
              "          await google.colab.output.renderOutput(dataTable, element);\n",
              "          const docLink = document.createElement('div');\n",
              "          docLink.innerHTML = docLinkHtml;\n",
              "          element.appendChild(docLink);\n",
              "        }\n",
              "      </script>\n",
              "    </div>\n",
              "  </div>\n",
              "  "
            ],
            "text/plain": [
              "   PRODUCT_ID                      PRODUCT_NAME  PRODUCT_CONDITION  \\\n",
              "0      952289     Lipstick queen reserved maiwu                  4   \n",
              "1      121903         Garbage Pail Kids blu ray                  3   \n",
              "2      280534                 green floam/slime                  1   \n",
              "3      787961             Wallet beige monogram                  1   \n",
              "4      479292  Triangle Bike Or Body Blue Light                  3   \n",
              "\n",
              "                            CATEGORY PRODUCT_BRAND  SHIPPING_AVAILABILITY  \\\n",
              "0                 Beauty/Makeup/Lips           NaN                      0   \n",
              "1          Electronics/Media/Blu-Ray           NaN                      1   \n",
              "2            Kids/Toys/Arts & Crafts           NaN                      0   \n",
              "3  Women/Women's Accessories/Wallets           NaN                      0   \n",
              "4   Sports & Outdoors/Outdoors/Other           NaN                      0   \n",
              "\n",
              "                                 PRODUCT_DESCRIPTION  PRODUCT_PRICE  \n",
              "0  Lipstick Queen Jean Queen and medieval lipstic...           20.0  \n",
              "1  26Plays great. Tested. Watched once. No scratc...           15.0  \n",
              "2  -6 oz, dragon fruit scented - KEEP OUT OF REAC...            8.0  \n",
              "3                        Wallet brand new never used           31.0  \n",
              "4  Triangle Bike Or Body Blue Light, steady or fl...            8.0  "
            ]
          },
          "execution_count": 5,
          "metadata": {},
          "output_type": "execute_result"
        }
      ],
      "source": [
        "tr_df.head()"
      ]
    },
    {
      "cell_type": "code",
      "execution_count": null,
      "metadata": {
        "id": "GLyQi67-Iwte"
      },
      "outputs": [],
      "source": [
        "tr_price = tr_df['PRODUCT_PRICE']\n",
        "tr_df.drop({'PRODUCT_PRICE'}, axis=1, inplace=True)"
      ]
    },
    {
      "cell_type": "code",
      "execution_count": null,
      "metadata": {
        "id": "6E_38UuULG-W"
      },
      "outputs": [],
      "source": [
        "tr_price.to_csv('gdrive/My Drive/Pre_CountVectorizer(train_y).csv')"
      ]
    },
    {
      "cell_type": "code",
      "execution_count": null,
      "metadata": {
        "id": "QK7eJ6Ea-dAW"
      },
      "outputs": [],
      "source": [
        "tdf = pd.read_csv('gdrive/My Drive/test.csv')"
      ]
    },
    {
      "cell_type": "code",
      "source": [
        "tdf.iloc[10995]"
      ],
      "metadata": {
        "colab": {
          "base_uri": "https://localhost:8080/"
        },
        "id": "aHohuDv2SKxa",
        "outputId": "6f43fabe-d1c1-46a4-8424-3b5e96673356"
      },
      "execution_count": null,
      "outputs": [
        {
          "output_type": "execute_result",
          "data": {
            "text/plain": [
              "PRODUCT_ID                                                          243845\n",
              "PRODUCT_NAME                             Authentic Blue Beats Studio Wired\n",
              "PRODUCT_CONDITION                                                        3\n",
              "CATEGORY                   Electronics/TV, Audio & Surveillance/Headphones\n",
              "PRODUCT_BRAND                                                          NaN\n",
              "SHIPPING_AVAILABILITY                                                    0\n",
              "PRODUCT_DESCRIPTION      These beats are amazing quality and rich sound...\n",
              "Name: 10995, dtype: object"
            ]
          },
          "metadata": {},
          "execution_count": 11
        }
      ]
    },
    {
      "cell_type": "code",
      "source": [
        "hansal = tdf['PRODUCT_ID']"
      ],
      "metadata": {
        "id": "GMsLfzMDIhPO"
      },
      "execution_count": null,
      "outputs": []
    },
    {
      "cell_type": "code",
      "source": [
        "tdf.shape"
      ],
      "metadata": {
        "colab": {
          "base_uri": "https://localhost:8080/"
        },
        "id": "puOhSghVIr0S",
        "outputId": "9600b970-3613-46eb-9574-e602e3889ec1"
      },
      "execution_count": null,
      "outputs": [
        {
          "output_type": "execute_result",
          "data": {
            "text/plain": [
              "(222381, 7)"
            ]
          },
          "metadata": {},
          "execution_count": 6
        }
      ]
    },
    {
      "cell_type": "code",
      "source": [
        "hansal.to_csv('gdrive/My Drive/Test_prod_id.csv')"
      ],
      "metadata": {
        "id": "zYxjuTVUI9qN"
      },
      "execution_count": null,
      "outputs": []
    },
    {
      "cell_type": "code",
      "execution_count": null,
      "metadata": {
        "colab": {
          "base_uri": "https://localhost:8080/"
        },
        "id": "7K8hEyX1JwhB",
        "outputId": "93f20e71-bc17-4722-a823-5b111b6857b8"
      },
      "outputs": [
        {
          "data": {
            "text/plain": [
              "(250000, 7)"
            ]
          },
          "execution_count": 11,
          "metadata": {},
          "output_type": "execute_result"
        }
      ],
      "source": [
        "tr_df.shape"
      ]
    },
    {
      "cell_type": "code",
      "execution_count": null,
      "metadata": {
        "colab": {
          "base_uri": "https://localhost:8080/",
          "height": 302
        },
        "id": "Io8JWOHo-ixV",
        "outputId": "1d6b2fba-a060-4eb5-f89d-8a529905814e"
      },
      "outputs": [
        {
          "data": {
            "text/html": [
              "\n",
              "  <div id=\"df-4e3bcdcf-e171-4d7c-a76d-c96256c0aeed\">\n",
              "    <div class=\"colab-df-container\">\n",
              "      <div>\n",
              "<style scoped>\n",
              "    .dataframe tbody tr th:only-of-type {\n",
              "        vertical-align: middle;\n",
              "    }\n",
              "\n",
              "    .dataframe tbody tr th {\n",
              "        vertical-align: top;\n",
              "    }\n",
              "\n",
              "    .dataframe thead th {\n",
              "        text-align: right;\n",
              "    }\n",
              "</style>\n",
              "<table border=\"1\" class=\"dataframe\">\n",
              "  <thead>\n",
              "    <tr style=\"text-align: right;\">\n",
              "      <th></th>\n",
              "      <th>PRODUCT_ID</th>\n",
              "      <th>PRODUCT_NAME</th>\n",
              "      <th>PRODUCT_CONDITION</th>\n",
              "      <th>CATEGORY</th>\n",
              "      <th>PRODUCT_BRAND</th>\n",
              "      <th>SHIPPING_AVAILABILITY</th>\n",
              "      <th>PRODUCT_DESCRIPTION</th>\n",
              "    </tr>\n",
              "  </thead>\n",
              "  <tbody>\n",
              "    <tr>\n",
              "      <th>0</th>\n",
              "      <td>777341</td>\n",
              "      <td>F/ship 4 Totoro Washi + 1 pen</td>\n",
              "      <td>1</td>\n",
              "      <td>Handmade/Paper Goods/Stationery</td>\n",
              "      <td>NaN</td>\n",
              "      <td>1</td>\n",
              "      <td>This listing is for all 4 Totoro washi tape fo...</td>\n",
              "    </tr>\n",
              "    <tr>\n",
              "      <th>1</th>\n",
              "      <td>1463629</td>\n",
              "      <td>UCLA Men's Bundle + Shorts</td>\n",
              "      <td>1</td>\n",
              "      <td>Women/Other/Other</td>\n",
              "      <td>Adidas</td>\n",
              "      <td>1</td>\n",
              "      <td>7 items. 1: XL. 2: 2XL. 3:2XL. 4: XL. 5: 2XL. ...</td>\n",
              "    </tr>\n",
              "    <tr>\n",
              "      <th>2</th>\n",
              "      <td>350669</td>\n",
              "      <td>Listing for lol</td>\n",
              "      <td>1</td>\n",
              "      <td>Beauty/Makeup/Lips</td>\n",
              "      <td>NaN</td>\n",
              "      <td>1</td>\n",
              "      <td>- sunglasses and necklace :)</td>\n",
              "    </tr>\n",
              "    <tr>\n",
              "      <th>3</th>\n",
              "      <td>310222</td>\n",
              "      <td>25 pcs kawaii sticker flakes</td>\n",
              "      <td>1</td>\n",
              "      <td>Kids/Toys/Arts &amp; Crafts</td>\n",
              "      <td>NaN</td>\n",
              "      <td>1</td>\n",
              "      <td>I ordered a bunch of stickers so you will reci...</td>\n",
              "    </tr>\n",
              "    <tr>\n",
              "      <th>4</th>\n",
              "      <td>759257</td>\n",
              "      <td>Chanel Mini Lipgloss Set</td>\n",
              "      <td>2</td>\n",
              "      <td>Beauty/Makeup/Lips</td>\n",
              "      <td>Chanel</td>\n",
              "      <td>1</td>\n",
              "      <td>Brand new never used authentic Mini Lipgloss g...</td>\n",
              "    </tr>\n",
              "  </tbody>\n",
              "</table>\n",
              "</div>\n",
              "      <button class=\"colab-df-convert\" onclick=\"convertToInteractive('df-4e3bcdcf-e171-4d7c-a76d-c96256c0aeed')\"\n",
              "              title=\"Convert this dataframe to an interactive table.\"\n",
              "              style=\"display:none;\">\n",
              "        \n",
              "  <svg xmlns=\"http://www.w3.org/2000/svg\" height=\"24px\"viewBox=\"0 0 24 24\"\n",
              "       width=\"24px\">\n",
              "    <path d=\"M0 0h24v24H0V0z\" fill=\"none\"/>\n",
              "    <path d=\"M18.56 5.44l.94 2.06.94-2.06 2.06-.94-2.06-.94-.94-2.06-.94 2.06-2.06.94zm-11 1L8.5 8.5l.94-2.06 2.06-.94-2.06-.94L8.5 2.5l-.94 2.06-2.06.94zm10 10l.94 2.06.94-2.06 2.06-.94-2.06-.94-.94-2.06-.94 2.06-2.06.94z\"/><path d=\"M17.41 7.96l-1.37-1.37c-.4-.4-.92-.59-1.43-.59-.52 0-1.04.2-1.43.59L10.3 9.45l-7.72 7.72c-.78.78-.78 2.05 0 2.83L4 21.41c.39.39.9.59 1.41.59.51 0 1.02-.2 1.41-.59l7.78-7.78 2.81-2.81c.8-.78.8-2.07 0-2.86zM5.41 20L4 18.59l7.72-7.72 1.47 1.35L5.41 20z\"/>\n",
              "  </svg>\n",
              "      </button>\n",
              "      \n",
              "  <style>\n",
              "    .colab-df-container {\n",
              "      display:flex;\n",
              "      flex-wrap:wrap;\n",
              "      gap: 12px;\n",
              "    }\n",
              "\n",
              "    .colab-df-convert {\n",
              "      background-color: #E8F0FE;\n",
              "      border: none;\n",
              "      border-radius: 50%;\n",
              "      cursor: pointer;\n",
              "      display: none;\n",
              "      fill: #1967D2;\n",
              "      height: 32px;\n",
              "      padding: 0 0 0 0;\n",
              "      width: 32px;\n",
              "    }\n",
              "\n",
              "    .colab-df-convert:hover {\n",
              "      background-color: #E2EBFA;\n",
              "      box-shadow: 0px 1px 2px rgba(60, 64, 67, 0.3), 0px 1px 3px 1px rgba(60, 64, 67, 0.15);\n",
              "      fill: #174EA6;\n",
              "    }\n",
              "\n",
              "    [theme=dark] .colab-df-convert {\n",
              "      background-color: #3B4455;\n",
              "      fill: #D2E3FC;\n",
              "    }\n",
              "\n",
              "    [theme=dark] .colab-df-convert:hover {\n",
              "      background-color: #434B5C;\n",
              "      box-shadow: 0px 1px 3px 1px rgba(0, 0, 0, 0.15);\n",
              "      filter: drop-shadow(0px 1px 2px rgba(0, 0, 0, 0.3));\n",
              "      fill: #FFFFFF;\n",
              "    }\n",
              "  </style>\n",
              "\n",
              "      <script>\n",
              "        const buttonEl =\n",
              "          document.querySelector('#df-4e3bcdcf-e171-4d7c-a76d-c96256c0aeed button.colab-df-convert');\n",
              "        buttonEl.style.display =\n",
              "          google.colab.kernel.accessAllowed ? 'block' : 'none';\n",
              "\n",
              "        async function convertToInteractive(key) {\n",
              "          const element = document.querySelector('#df-4e3bcdcf-e171-4d7c-a76d-c96256c0aeed');\n",
              "          const dataTable =\n",
              "            await google.colab.kernel.invokeFunction('convertToInteractive',\n",
              "                                                     [key], {});\n",
              "          if (!dataTable) return;\n",
              "\n",
              "          const docLinkHtml = 'Like what you see? Visit the ' +\n",
              "            '<a target=\"_blank\" href=https://colab.research.google.com/notebooks/data_table.ipynb>data table notebook</a>'\n",
              "            + ' to learn more about interactive tables.';\n",
              "          element.innerHTML = '';\n",
              "          dataTable['output_type'] = 'display_data';\n",
              "          await google.colab.output.renderOutput(dataTable, element);\n",
              "          const docLink = document.createElement('div');\n",
              "          docLink.innerHTML = docLinkHtml;\n",
              "          element.appendChild(docLink);\n",
              "        }\n",
              "      </script>\n",
              "    </div>\n",
              "  </div>\n",
              "  "
            ],
            "text/plain": [
              "   PRODUCT_ID                   PRODUCT_NAME  PRODUCT_CONDITION  \\\n",
              "0      777341  F/ship 4 Totoro Washi + 1 pen                  1   \n",
              "1     1463629     UCLA Men's Bundle + Shorts                  1   \n",
              "2      350669                Listing for lol                  1   \n",
              "3      310222   25 pcs kawaii sticker flakes                  1   \n",
              "4      759257       Chanel Mini Lipgloss Set                  2   \n",
              "\n",
              "                          CATEGORY PRODUCT_BRAND  SHIPPING_AVAILABILITY  \\\n",
              "0  Handmade/Paper Goods/Stationery           NaN                      1   \n",
              "1                Women/Other/Other        Adidas                      1   \n",
              "2               Beauty/Makeup/Lips           NaN                      1   \n",
              "3          Kids/Toys/Arts & Crafts           NaN                      1   \n",
              "4               Beauty/Makeup/Lips        Chanel                      1   \n",
              "\n",
              "                                 PRODUCT_DESCRIPTION  \n",
              "0  This listing is for all 4 Totoro washi tape fo...  \n",
              "1  7 items. 1: XL. 2: 2XL. 3:2XL. 4: XL. 5: 2XL. ...  \n",
              "2                       - sunglasses and necklace :)  \n",
              "3  I ordered a bunch of stickers so you will reci...  \n",
              "4  Brand new never used authentic Mini Lipgloss g...  "
            ]
          },
          "execution_count": 12,
          "metadata": {},
          "output_type": "execute_result"
        }
      ],
      "source": [
        "df.head()"
      ]
    },
    {
      "cell_type": "code",
      "execution_count": null,
      "metadata": {
        "id": "9lBKozo-J45w"
      },
      "outputs": [],
      "source": [
        "df = pd.concat([tr_df, df], ignore_index=True, axis=0)"
      ]
    },
    {
      "cell_type": "code",
      "execution_count": null,
      "metadata": {
        "colab": {
          "base_uri": "https://localhost:8080/"
        },
        "id": "Vc3r8lzDKPB4",
        "outputId": "3f15f76b-e47c-4bc2-be13-a3ffebc76796"
      },
      "outputs": [
        {
          "data": {
            "text/plain": [
              "(472381, 7)"
            ]
          },
          "execution_count": 14,
          "metadata": {},
          "output_type": "execute_result"
        }
      ],
      "source": [
        "df.shape"
      ]
    },
    {
      "cell_type": "code",
      "execution_count": null,
      "metadata": {
        "id": "XM-2yFo3-lz1"
      },
      "outputs": [],
      "source": [
        "# df_id=df['PRODUCT_ID']"
      ]
    },
    {
      "cell_type": "code",
      "execution_count": null,
      "metadata": {
        "id": "z3AwzgdE-t66"
      },
      "outputs": [],
      "source": [
        "# df_id.head()"
      ]
    },
    {
      "cell_type": "code",
      "execution_count": null,
      "metadata": {
        "id": "XMLfXOWg-_ob"
      },
      "outputs": [],
      "source": [
        "# type(df_id.to_list())"
      ]
    },
    {
      "cell_type": "code",
      "execution_count": null,
      "metadata": {
        "id": "AlOiys1G_MRs"
      },
      "outputs": [],
      "source": [
        "df.drop(axis=\"columns\", labels=\"PRODUCT_ID\", inplace=True)"
      ]
    },
    {
      "cell_type": "code",
      "execution_count": null,
      "metadata": {
        "id": "KKNJEFel_QdR"
      },
      "outputs": [],
      "source": [
        "df[['CATEGORY_1','CATEGORY_2','CATEGORY_3','CATEGORY_4','CATEGORY_5']]=df.CATEGORY.str.split(\"/\",expand=True).loc[:,:4]"
      ]
    },
    {
      "cell_type": "code",
      "execution_count": null,
      "metadata": {
        "colab": {
          "base_uri": "https://localhost:8080/",
          "height": 409
        },
        "id": "7D9og4cO_bhv",
        "outputId": "1a496350-bc37-4049-d1ac-c3bbd33bc7ef"
      },
      "outputs": [
        {
          "data": {
            "text/html": [
              "\n",
              "  <div id=\"df-62bd3c25-ca31-4c6d-87d2-65fc5a7bfddd\">\n",
              "    <div class=\"colab-df-container\">\n",
              "      <div>\n",
              "<style scoped>\n",
              "    .dataframe tbody tr th:only-of-type {\n",
              "        vertical-align: middle;\n",
              "    }\n",
              "\n",
              "    .dataframe tbody tr th {\n",
              "        vertical-align: top;\n",
              "    }\n",
              "\n",
              "    .dataframe thead th {\n",
              "        text-align: right;\n",
              "    }\n",
              "</style>\n",
              "<table border=\"1\" class=\"dataframe\">\n",
              "  <thead>\n",
              "    <tr style=\"text-align: right;\">\n",
              "      <th></th>\n",
              "      <th>PRODUCT_NAME</th>\n",
              "      <th>PRODUCT_CONDITION</th>\n",
              "      <th>CATEGORY</th>\n",
              "      <th>PRODUCT_BRAND</th>\n",
              "      <th>SHIPPING_AVAILABILITY</th>\n",
              "      <th>PRODUCT_DESCRIPTION</th>\n",
              "      <th>CATEGORY_1</th>\n",
              "      <th>CATEGORY_2</th>\n",
              "      <th>CATEGORY_3</th>\n",
              "      <th>CATEGORY_4</th>\n",
              "      <th>CATEGORY_5</th>\n",
              "    </tr>\n",
              "  </thead>\n",
              "  <tbody>\n",
              "    <tr>\n",
              "      <th>0</th>\n",
              "      <td>Lipstick queen reserved maiwu</td>\n",
              "      <td>4</td>\n",
              "      <td>Beauty/Makeup/Lips</td>\n",
              "      <td>NaN</td>\n",
              "      <td>0</td>\n",
              "      <td>Lipstick Queen Jean Queen and medieval lipstic...</td>\n",
              "      <td>Beauty</td>\n",
              "      <td>Makeup</td>\n",
              "      <td>Lips</td>\n",
              "      <td>None</td>\n",
              "      <td>None</td>\n",
              "    </tr>\n",
              "    <tr>\n",
              "      <th>1</th>\n",
              "      <td>Garbage Pail Kids blu ray</td>\n",
              "      <td>3</td>\n",
              "      <td>Electronics/Media/Blu-Ray</td>\n",
              "      <td>NaN</td>\n",
              "      <td>1</td>\n",
              "      <td>26Plays great. Tested. Watched once. No scratc...</td>\n",
              "      <td>Electronics</td>\n",
              "      <td>Media</td>\n",
              "      <td>Blu-Ray</td>\n",
              "      <td>None</td>\n",
              "      <td>None</td>\n",
              "    </tr>\n",
              "    <tr>\n",
              "      <th>2</th>\n",
              "      <td>green floam/slime</td>\n",
              "      <td>1</td>\n",
              "      <td>Kids/Toys/Arts &amp; Crafts</td>\n",
              "      <td>NaN</td>\n",
              "      <td>0</td>\n",
              "      <td>-6 oz, dragon fruit scented - KEEP OUT OF REAC...</td>\n",
              "      <td>Kids</td>\n",
              "      <td>Toys</td>\n",
              "      <td>Arts &amp; Crafts</td>\n",
              "      <td>None</td>\n",
              "      <td>None</td>\n",
              "    </tr>\n",
              "    <tr>\n",
              "      <th>3</th>\n",
              "      <td>Wallet beige monogram</td>\n",
              "      <td>1</td>\n",
              "      <td>Women/Women's Accessories/Wallets</td>\n",
              "      <td>NaN</td>\n",
              "      <td>0</td>\n",
              "      <td>Wallet brand new never used</td>\n",
              "      <td>Women</td>\n",
              "      <td>Women's Accessories</td>\n",
              "      <td>Wallets</td>\n",
              "      <td>None</td>\n",
              "      <td>None</td>\n",
              "    </tr>\n",
              "    <tr>\n",
              "      <th>4</th>\n",
              "      <td>Triangle Bike Or Body Blue Light</td>\n",
              "      <td>3</td>\n",
              "      <td>Sports &amp; Outdoors/Outdoors/Other</td>\n",
              "      <td>NaN</td>\n",
              "      <td>0</td>\n",
              "      <td>Triangle Bike Or Body Blue Light, steady or fl...</td>\n",
              "      <td>Sports &amp; Outdoors</td>\n",
              "      <td>Outdoors</td>\n",
              "      <td>Other</td>\n",
              "      <td>None</td>\n",
              "      <td>None</td>\n",
              "    </tr>\n",
              "  </tbody>\n",
              "</table>\n",
              "</div>\n",
              "      <button class=\"colab-df-convert\" onclick=\"convertToInteractive('df-62bd3c25-ca31-4c6d-87d2-65fc5a7bfddd')\"\n",
              "              title=\"Convert this dataframe to an interactive table.\"\n",
              "              style=\"display:none;\">\n",
              "        \n",
              "  <svg xmlns=\"http://www.w3.org/2000/svg\" height=\"24px\"viewBox=\"0 0 24 24\"\n",
              "       width=\"24px\">\n",
              "    <path d=\"M0 0h24v24H0V0z\" fill=\"none\"/>\n",
              "    <path d=\"M18.56 5.44l.94 2.06.94-2.06 2.06-.94-2.06-.94-.94-2.06-.94 2.06-2.06.94zm-11 1L8.5 8.5l.94-2.06 2.06-.94-2.06-.94L8.5 2.5l-.94 2.06-2.06.94zm10 10l.94 2.06.94-2.06 2.06-.94-2.06-.94-.94-2.06-.94 2.06-2.06.94z\"/><path d=\"M17.41 7.96l-1.37-1.37c-.4-.4-.92-.59-1.43-.59-.52 0-1.04.2-1.43.59L10.3 9.45l-7.72 7.72c-.78.78-.78 2.05 0 2.83L4 21.41c.39.39.9.59 1.41.59.51 0 1.02-.2 1.41-.59l7.78-7.78 2.81-2.81c.8-.78.8-2.07 0-2.86zM5.41 20L4 18.59l7.72-7.72 1.47 1.35L5.41 20z\"/>\n",
              "  </svg>\n",
              "      </button>\n",
              "      \n",
              "  <style>\n",
              "    .colab-df-container {\n",
              "      display:flex;\n",
              "      flex-wrap:wrap;\n",
              "      gap: 12px;\n",
              "    }\n",
              "\n",
              "    .colab-df-convert {\n",
              "      background-color: #E8F0FE;\n",
              "      border: none;\n",
              "      border-radius: 50%;\n",
              "      cursor: pointer;\n",
              "      display: none;\n",
              "      fill: #1967D2;\n",
              "      height: 32px;\n",
              "      padding: 0 0 0 0;\n",
              "      width: 32px;\n",
              "    }\n",
              "\n",
              "    .colab-df-convert:hover {\n",
              "      background-color: #E2EBFA;\n",
              "      box-shadow: 0px 1px 2px rgba(60, 64, 67, 0.3), 0px 1px 3px 1px rgba(60, 64, 67, 0.15);\n",
              "      fill: #174EA6;\n",
              "    }\n",
              "\n",
              "    [theme=dark] .colab-df-convert {\n",
              "      background-color: #3B4455;\n",
              "      fill: #D2E3FC;\n",
              "    }\n",
              "\n",
              "    [theme=dark] .colab-df-convert:hover {\n",
              "      background-color: #434B5C;\n",
              "      box-shadow: 0px 1px 3px 1px rgba(0, 0, 0, 0.15);\n",
              "      filter: drop-shadow(0px 1px 2px rgba(0, 0, 0, 0.3));\n",
              "      fill: #FFFFFF;\n",
              "    }\n",
              "  </style>\n",
              "\n",
              "      <script>\n",
              "        const buttonEl =\n",
              "          document.querySelector('#df-62bd3c25-ca31-4c6d-87d2-65fc5a7bfddd button.colab-df-convert');\n",
              "        buttonEl.style.display =\n",
              "          google.colab.kernel.accessAllowed ? 'block' : 'none';\n",
              "\n",
              "        async function convertToInteractive(key) {\n",
              "          const element = document.querySelector('#df-62bd3c25-ca31-4c6d-87d2-65fc5a7bfddd');\n",
              "          const dataTable =\n",
              "            await google.colab.kernel.invokeFunction('convertToInteractive',\n",
              "                                                     [key], {});\n",
              "          if (!dataTable) return;\n",
              "\n",
              "          const docLinkHtml = 'Like what you see? Visit the ' +\n",
              "            '<a target=\"_blank\" href=https://colab.research.google.com/notebooks/data_table.ipynb>data table notebook</a>'\n",
              "            + ' to learn more about interactive tables.';\n",
              "          element.innerHTML = '';\n",
              "          dataTable['output_type'] = 'display_data';\n",
              "          await google.colab.output.renderOutput(dataTable, element);\n",
              "          const docLink = document.createElement('div');\n",
              "          docLink.innerHTML = docLinkHtml;\n",
              "          element.appendChild(docLink);\n",
              "        }\n",
              "      </script>\n",
              "    </div>\n",
              "  </div>\n",
              "  "
            ],
            "text/plain": [
              "                       PRODUCT_NAME  PRODUCT_CONDITION  \\\n",
              "0     Lipstick queen reserved maiwu                  4   \n",
              "1         Garbage Pail Kids blu ray                  3   \n",
              "2                 green floam/slime                  1   \n",
              "3             Wallet beige monogram                  1   \n",
              "4  Triangle Bike Or Body Blue Light                  3   \n",
              "\n",
              "                            CATEGORY PRODUCT_BRAND  SHIPPING_AVAILABILITY  \\\n",
              "0                 Beauty/Makeup/Lips           NaN                      0   \n",
              "1          Electronics/Media/Blu-Ray           NaN                      1   \n",
              "2            Kids/Toys/Arts & Crafts           NaN                      0   \n",
              "3  Women/Women's Accessories/Wallets           NaN                      0   \n",
              "4   Sports & Outdoors/Outdoors/Other           NaN                      0   \n",
              "\n",
              "                                 PRODUCT_DESCRIPTION         CATEGORY_1  \\\n",
              "0  Lipstick Queen Jean Queen and medieval lipstic...             Beauty   \n",
              "1  26Plays great. Tested. Watched once. No scratc...        Electronics   \n",
              "2  -6 oz, dragon fruit scented - KEEP OUT OF REAC...               Kids   \n",
              "3                        Wallet brand new never used              Women   \n",
              "4  Triangle Bike Or Body Blue Light, steady or fl...  Sports & Outdoors   \n",
              "\n",
              "            CATEGORY_2     CATEGORY_3 CATEGORY_4 CATEGORY_5  \n",
              "0               Makeup           Lips       None       None  \n",
              "1                Media        Blu-Ray       None       None  \n",
              "2                 Toys  Arts & Crafts       None       None  \n",
              "3  Women's Accessories        Wallets       None       None  \n",
              "4             Outdoors          Other       None       None  "
            ]
          },
          "execution_count": 20,
          "metadata": {},
          "output_type": "execute_result"
        }
      ],
      "source": [
        "df.head()"
      ]
    },
    {
      "cell_type": "code",
      "execution_count": null,
      "metadata": {
        "id": "hvIVynfl_hA-"
      },
      "outputs": [],
      "source": [
        "df.drop(axis='columns',labels=['CATEGORY','CATEGORY_4','CATEGORY_5'],inplace=True)"
      ]
    },
    {
      "cell_type": "code",
      "execution_count": null,
      "metadata": {
        "id": "rlboF7XC_9gl"
      },
      "outputs": [],
      "source": [
        "brands = df['PRODUCT_BRAND'].unique().tolist()"
      ]
    },
    {
      "cell_type": "code",
      "execution_count": null,
      "metadata": {
        "id": "08dWTdH5_2It"
      },
      "outputs": [],
      "source": [
        "null_idx = df.index[df['PRODUCT_BRAND'].isna()]"
      ]
    },
    {
      "cell_type": "code",
      "execution_count": null,
      "metadata": {
        "colab": {
          "base_uri": "https://localhost:8080/"
        },
        "id": "ws8BGGt7LLk5",
        "outputId": "02c9953f-c7ed-4ad0-f223-5d4749a1edda"
      },
      "outputs": [
        {
          "data": {
            "text/plain": [
              "(472381, 8)"
            ]
          },
          "execution_count": 24,
          "metadata": {},
          "output_type": "execute_result"
        }
      ],
      "source": [
        "df.shape"
      ]
    },
    {
      "cell_type": "code",
      "execution_count": null,
      "metadata": {
        "colab": {
          "base_uri": "https://localhost:8080/"
        },
        "id": "ftQbDLSn_pUJ",
        "outputId": "d09d09dd-966a-4cd8-c122-f107d16bced4"
      },
      "outputs": [
        {
          "name": "stdout",
          "output_type": "stream",
          "text": [
            "0\n",
            "10000\n",
            "20000\n",
            "30000\n",
            "40000\n",
            "50000\n",
            "60000\n",
            "70000\n",
            "80000\n",
            "90000\n",
            "100000\n",
            "110000\n",
            "120000\n",
            "130000\n",
            "140000\n",
            "150000\n",
            "160000\n",
            "170000\n",
            "180000\n",
            "190000\n",
            "200000\n"
          ]
        }
      ],
      "source": [
        "c=0\n",
        "for i in null_idx:\n",
        "  if(c%10000==0):\n",
        "    print(c) \n",
        "  flag = 0\n",
        "  c=c+1\n",
        "  myStr = str(df['PRODUCT_DESCRIPTION'][i]) + ' ' + str(df['PRODUCT_NAME'][i])\n",
        "  # print(myStr)\n",
        "  for name in brands[1:]:\n",
        "    if(name in myStr):\n",
        "      df.at[i, 'PRODUCT_BRAND'] = name\n",
        "      flag=1\n",
        "      break"
      ]
    },
    {
      "cell_type": "code",
      "execution_count": null,
      "metadata": {
        "id": "o67qf0d-BYzw"
      },
      "outputs": [],
      "source": [
        "(df['PRODUCT_BRAND']).fillna('Unknown', inplace=True)"
      ]
    },
    {
      "cell_type": "code",
      "execution_count": null,
      "metadata": {
        "id": "nTtp_ssOBn3N"
      },
      "outputs": [],
      "source": [
        "import re"
      ]
    },
    {
      "cell_type": "code",
      "execution_count": null,
      "metadata": {
        "colab": {
          "base_uri": "https://localhost:8080/"
        },
        "id": "U0oXhv9oBr2Y",
        "outputId": "ca9e8412-0f40-4623-bf84-0db803ef3a81"
      },
      "outputs": [
        {
          "name": "stdout",
          "output_type": "stream",
          "text": [
            "0\n",
            "10000\n",
            "20000\n",
            "30000\n",
            "40000\n",
            "50000\n",
            "60000\n",
            "70000\n",
            "80000\n",
            "90000\n",
            "100000\n",
            "110000\n",
            "120000\n",
            "130000\n",
            "140000\n",
            "150000\n",
            "160000\n",
            "170000\n",
            "180000\n",
            "190000\n",
            "200000\n",
            "210000\n",
            "220000\n",
            "230000\n",
            "240000\n",
            "250000\n",
            "260000\n",
            "270000\n",
            "280000\n",
            "290000\n",
            "300000\n",
            "310000\n",
            "320000\n",
            "330000\n",
            "340000\n",
            "350000\n",
            "360000\n",
            "370000\n",
            "380000\n",
            "390000\n",
            "400000\n",
            "410000\n",
            "420000\n",
            "430000\n",
            "440000\n",
            "450000\n",
            "460000\n",
            "470000\n"
          ]
        }
      ],
      "source": [
        "c = 0\n",
        "for i in range(df.shape[0]):\n",
        "  if(c%10000==0):\n",
        "    print(c)\n",
        "  c = c+1\n",
        "  temp = str(df['CATEGORY_1'][i])\n",
        "  temp = re.sub('[^A-Za-z0-9]+',' ',temp)\n",
        "  temp = temp.lower()\n",
        "  temp = temp.split()\n",
        "  temp = '_'.join(temp)\n",
        "  df.at[i, 'CATEGORY_1'] = temp\n",
        "\n",
        "  temp = str(df['CATEGORY_2'][i])\n",
        "  temp = re.sub('[^A-Za-z0-9]+',' ',temp)\n",
        "  temp = temp.lower()\n",
        "  temp = temp.split()\n",
        "  temp = '_'.join(temp)\n",
        "  df.at[i, 'CATEGORY_2'] = temp\n",
        "\n",
        "  temp = str(df['CATEGORY_3'][i])\n",
        "  temp = re.sub('[^A-Za-z0-9]+',' ',temp)\n",
        "  temp = temp.lower()\n",
        "  temp = temp.split()\n",
        "  temp = '_'.join(temp)\n",
        "  df.at[i, 'CATEGORY_3'] = temp"
      ]
    },
    {
      "cell_type": "code",
      "execution_count": null,
      "metadata": {
        "colab": {
          "base_uri": "https://localhost:8080/"
        },
        "id": "2lA6-IlyB9Py",
        "outputId": "6a9c1f72-9e67-4862-e99b-0db7d807f298"
      },
      "outputs": [
        {
          "name": "stderr",
          "output_type": "stream",
          "text": [
            "[nltk_data] Downloading package stopwords to /root/nltk_data...\n",
            "[nltk_data]   Unzipping corpora/stopwords.zip.\n",
            "[nltk_data] Downloading package wordnet to /root/nltk_data...\n",
            "[nltk_data] Downloading package omw-1.4 to /root/nltk_data...\n"
          ]
        },
        {
          "data": {
            "text/plain": [
              "True"
            ]
          },
          "execution_count": 29,
          "metadata": {},
          "output_type": "execute_result"
        }
      ],
      "source": [
        "import nltk\n",
        "nltk.download('stopwords')\n",
        "nltk.download('wordnet')\n",
        "nltk.download('omw-1.4')"
      ]
    },
    {
      "cell_type": "code",
      "execution_count": null,
      "metadata": {
        "colab": {
          "background_save": true,
          "base_uri": "https://localhost:8080/"
        },
        "id": "KO9OyzCUCEXf",
        "outputId": "d55f0d9d-781a-414a-f049-04fe9f7a3e52"
      },
      "outputs": [
        {
          "name": "stdout",
          "output_type": "stream",
          "text": [
            "0\n",
            "10000\n",
            "20000\n",
            "30000\n",
            "40000\n",
            "50000\n",
            "60000\n",
            "70000\n",
            "80000\n",
            "90000\n",
            "100000\n",
            "110000\n",
            "120000\n",
            "130000\n",
            "140000\n",
            "150000\n",
            "160000\n",
            "170000\n",
            "180000\n",
            "190000\n",
            "200000\n",
            "210000\n",
            "220000\n",
            "230000\n",
            "240000\n",
            "250000\n",
            "260000\n",
            "270000\n",
            "280000\n",
            "290000\n",
            "300000\n",
            "310000\n",
            "320000\n",
            "330000\n",
            "340000\n",
            "350000\n",
            "360000\n",
            "370000\n",
            "380000\n",
            "390000\n",
            "400000\n",
            "410000\n",
            "420000\n",
            "430000\n",
            "440000\n",
            "450000\n",
            "460000\n",
            "470000\n"
          ]
        }
      ],
      "source": [
        "from nltk.corpus import stopwords\n",
        "from nltk.stem import WordNetLemmatizer\n",
        "\n",
        "lemmatizer=WordNetLemmatizer()\n",
        "c=0\n",
        "for i in range(df.shape[0]):\n",
        "    if(c%10000==0):\n",
        "      print(c)\n",
        "    c = c+1\n",
        "    temp = str(df['PRODUCT_DESCRIPTION'][i])\n",
        "    temp = re.sub('[^a-zA-Z0-9]', ' ', temp)\n",
        "    temp = temp.lower()\n",
        "    temp = temp.split()\n",
        "    temp = [lemmatizer.lemmatize(word) for word in temp if not word in set(stopwords.words('english')) and word!='rm']\n",
        "    temp = ' '.join(temp)\n",
        "    df.at[i, 'PRODUCT_DESCRIPTION'] = temp"
      ]
    },
    {
      "cell_type": "code",
      "source": [
        "lemmatizer=WordNetLemmatizer()\n",
        "c=0\n",
        "for i in range(df.shape[0]):\n",
        "    if(c%10000==0):\n",
        "      print(c)\n",
        "    c = c+1\n",
        "    temp = str(df['PRODUCT_NAME'][i])\n",
        "    temp = re.sub('[^a-zA-Z0-9]', ' ', temp)\n",
        "    temp = temp.lower()\n",
        "    temp = temp.split()\n",
        "    temp = [lemmatizer.lemmatize(word) for word in temp if not word in set(stopwords.words('english')) and word!='rm']\n",
        "    temp = ' '.join(temp)\n",
        "    df.at[i, 'PRODUCT_NAME'] = temp"
      ],
      "metadata": {
        "colab": {
          "base_uri": "https://localhost:8080/"
        },
        "id": "D78YdXghxVRT",
        "outputId": "33ae3281-c7ae-493c-82b5-47d0410f1bbc"
      },
      "execution_count": null,
      "outputs": [
        {
          "output_type": "stream",
          "name": "stdout",
          "text": [
            "0\n",
            "10000\n",
            "20000\n",
            "30000\n",
            "40000\n",
            "50000\n",
            "60000\n",
            "70000\n",
            "80000\n",
            "90000\n",
            "100000\n",
            "110000\n",
            "120000\n",
            "130000\n",
            "140000\n",
            "150000\n",
            "160000\n",
            "170000\n",
            "180000\n",
            "190000\n",
            "200000\n",
            "210000\n",
            "220000\n",
            "230000\n",
            "240000\n",
            "250000\n",
            "260000\n",
            "270000\n",
            "280000\n",
            "290000\n",
            "300000\n",
            "310000\n",
            "320000\n",
            "330000\n",
            "340000\n",
            "350000\n",
            "360000\n",
            "370000\n",
            "380000\n",
            "390000\n",
            "400000\n",
            "410000\n",
            "420000\n",
            "430000\n",
            "440000\n",
            "450000\n",
            "460000\n",
            "470000\n"
          ]
        }
      ]
    },
    {
      "cell_type": "code",
      "source": [
        "df.head()"
      ],
      "metadata": {
        "colab": {
          "base_uri": "https://localhost:8080/",
          "height": 444
        },
        "id": "9KWi75tdwANW",
        "outputId": "3d7649fa-5979-4ebc-eb38-19fe871e2ad2"
      },
      "execution_count": null,
      "outputs": [
        {
          "output_type": "execute_result",
          "data": {
            "text/plain": [
              "                    PRODUCT_NAME  PRODUCT_CONDITION   PRODUCT_BRAND  \\\n",
              "0  lipstick queen reserved maiwu                  4  Lipstick Queen   \n",
              "1       garbage pail kid blu ray                  3         Unknown   \n",
              "2              green floam slime                  1             CHI   \n",
              "3          wallet beige monogram                  1         Unknown   \n",
              "4  triangle bike body blue light                  3         Triangl   \n",
              "\n",
              "   SHIPPING_AVAILABILITY                                PRODUCT_DESCRIPTION  \\\n",
              "0                      0  lipstick queen jean queen medieval lipstick us...   \n",
              "1                      1               26plays great tested watched scratch   \n",
              "2                      0  6 oz dragon fruit scented keep reach young chi...   \n",
              "3                      0                        wallet brand new never used   \n",
              "4                      0  triangle bike body blue light steady flashing ...   \n",
              "\n",
              "        CATEGORY_1           CATEGORY_2   CATEGORY_3  \\\n",
              "0           beauty               makeup         lips   \n",
              "1      electronics                media      blu_ray   \n",
              "2             kids                 toys  arts_crafts   \n",
              "3            women  women_s_accessories      wallets   \n",
              "4  sports_outdoors             outdoors        other   \n",
              "\n",
              "                                     PRODUCT_DETAILS  \n",
              "0  Lipstick queen reserved maiwu beauty makeup li...  \n",
              "1  Garbage Pail Kids blu ray electronics media bl...  \n",
              "2  green floam/slime kids toys arts_crafts CHI 6 ...  \n",
              "3  Wallet beige monogram women women_s_accessorie...  \n",
              "4  Triangle Bike Or Body Blue Light sports_outdoo...  "
            ],
            "text/html": [
              "\n",
              "  <div id=\"df-1dd6b978-e4e3-4dc0-b82b-d8dabc63f228\">\n",
              "    <div class=\"colab-df-container\">\n",
              "      <div>\n",
              "<style scoped>\n",
              "    .dataframe tbody tr th:only-of-type {\n",
              "        vertical-align: middle;\n",
              "    }\n",
              "\n",
              "    .dataframe tbody tr th {\n",
              "        vertical-align: top;\n",
              "    }\n",
              "\n",
              "    .dataframe thead th {\n",
              "        text-align: right;\n",
              "    }\n",
              "</style>\n",
              "<table border=\"1\" class=\"dataframe\">\n",
              "  <thead>\n",
              "    <tr style=\"text-align: right;\">\n",
              "      <th></th>\n",
              "      <th>PRODUCT_NAME</th>\n",
              "      <th>PRODUCT_CONDITION</th>\n",
              "      <th>PRODUCT_BRAND</th>\n",
              "      <th>SHIPPING_AVAILABILITY</th>\n",
              "      <th>PRODUCT_DESCRIPTION</th>\n",
              "      <th>CATEGORY_1</th>\n",
              "      <th>CATEGORY_2</th>\n",
              "      <th>CATEGORY_3</th>\n",
              "      <th>PRODUCT_DETAILS</th>\n",
              "    </tr>\n",
              "  </thead>\n",
              "  <tbody>\n",
              "    <tr>\n",
              "      <th>0</th>\n",
              "      <td>lipstick queen reserved maiwu</td>\n",
              "      <td>4</td>\n",
              "      <td>Lipstick Queen</td>\n",
              "      <td>0</td>\n",
              "      <td>lipstick queen jean queen medieval lipstick us...</td>\n",
              "      <td>beauty</td>\n",
              "      <td>makeup</td>\n",
              "      <td>lips</td>\n",
              "      <td>Lipstick queen reserved maiwu beauty makeup li...</td>\n",
              "    </tr>\n",
              "    <tr>\n",
              "      <th>1</th>\n",
              "      <td>garbage pail kid blu ray</td>\n",
              "      <td>3</td>\n",
              "      <td>Unknown</td>\n",
              "      <td>1</td>\n",
              "      <td>26plays great tested watched scratch</td>\n",
              "      <td>electronics</td>\n",
              "      <td>media</td>\n",
              "      <td>blu_ray</td>\n",
              "      <td>Garbage Pail Kids blu ray electronics media bl...</td>\n",
              "    </tr>\n",
              "    <tr>\n",
              "      <th>2</th>\n",
              "      <td>green floam slime</td>\n",
              "      <td>1</td>\n",
              "      <td>CHI</td>\n",
              "      <td>0</td>\n",
              "      <td>6 oz dragon fruit scented keep reach young chi...</td>\n",
              "      <td>kids</td>\n",
              "      <td>toys</td>\n",
              "      <td>arts_crafts</td>\n",
              "      <td>green floam/slime kids toys arts_crafts CHI 6 ...</td>\n",
              "    </tr>\n",
              "    <tr>\n",
              "      <th>3</th>\n",
              "      <td>wallet beige monogram</td>\n",
              "      <td>1</td>\n",
              "      <td>Unknown</td>\n",
              "      <td>0</td>\n",
              "      <td>wallet brand new never used</td>\n",
              "      <td>women</td>\n",
              "      <td>women_s_accessories</td>\n",
              "      <td>wallets</td>\n",
              "      <td>Wallet beige monogram women women_s_accessorie...</td>\n",
              "    </tr>\n",
              "    <tr>\n",
              "      <th>4</th>\n",
              "      <td>triangle bike body blue light</td>\n",
              "      <td>3</td>\n",
              "      <td>Triangl</td>\n",
              "      <td>0</td>\n",
              "      <td>triangle bike body blue light steady flashing ...</td>\n",
              "      <td>sports_outdoors</td>\n",
              "      <td>outdoors</td>\n",
              "      <td>other</td>\n",
              "      <td>Triangle Bike Or Body Blue Light sports_outdoo...</td>\n",
              "    </tr>\n",
              "  </tbody>\n",
              "</table>\n",
              "</div>\n",
              "      <button class=\"colab-df-convert\" onclick=\"convertToInteractive('df-1dd6b978-e4e3-4dc0-b82b-d8dabc63f228')\"\n",
              "              title=\"Convert this dataframe to an interactive table.\"\n",
              "              style=\"display:none;\">\n",
              "        \n",
              "  <svg xmlns=\"http://www.w3.org/2000/svg\" height=\"24px\"viewBox=\"0 0 24 24\"\n",
              "       width=\"24px\">\n",
              "    <path d=\"M0 0h24v24H0V0z\" fill=\"none\"/>\n",
              "    <path d=\"M18.56 5.44l.94 2.06.94-2.06 2.06-.94-2.06-.94-.94-2.06-.94 2.06-2.06.94zm-11 1L8.5 8.5l.94-2.06 2.06-.94-2.06-.94L8.5 2.5l-.94 2.06-2.06.94zm10 10l.94 2.06.94-2.06 2.06-.94-2.06-.94-.94-2.06-.94 2.06-2.06.94z\"/><path d=\"M17.41 7.96l-1.37-1.37c-.4-.4-.92-.59-1.43-.59-.52 0-1.04.2-1.43.59L10.3 9.45l-7.72 7.72c-.78.78-.78 2.05 0 2.83L4 21.41c.39.39.9.59 1.41.59.51 0 1.02-.2 1.41-.59l7.78-7.78 2.81-2.81c.8-.78.8-2.07 0-2.86zM5.41 20L4 18.59l7.72-7.72 1.47 1.35L5.41 20z\"/>\n",
              "  </svg>\n",
              "      </button>\n",
              "      \n",
              "  <style>\n",
              "    .colab-df-container {\n",
              "      display:flex;\n",
              "      flex-wrap:wrap;\n",
              "      gap: 12px;\n",
              "    }\n",
              "\n",
              "    .colab-df-convert {\n",
              "      background-color: #E8F0FE;\n",
              "      border: none;\n",
              "      border-radius: 50%;\n",
              "      cursor: pointer;\n",
              "      display: none;\n",
              "      fill: #1967D2;\n",
              "      height: 32px;\n",
              "      padding: 0 0 0 0;\n",
              "      width: 32px;\n",
              "    }\n",
              "\n",
              "    .colab-df-convert:hover {\n",
              "      background-color: #E2EBFA;\n",
              "      box-shadow: 0px 1px 2px rgba(60, 64, 67, 0.3), 0px 1px 3px 1px rgba(60, 64, 67, 0.15);\n",
              "      fill: #174EA6;\n",
              "    }\n",
              "\n",
              "    [theme=dark] .colab-df-convert {\n",
              "      background-color: #3B4455;\n",
              "      fill: #D2E3FC;\n",
              "    }\n",
              "\n",
              "    [theme=dark] .colab-df-convert:hover {\n",
              "      background-color: #434B5C;\n",
              "      box-shadow: 0px 1px 3px 1px rgba(0, 0, 0, 0.15);\n",
              "      filter: drop-shadow(0px 1px 2px rgba(0, 0, 0, 0.3));\n",
              "      fill: #FFFFFF;\n",
              "    }\n",
              "  </style>\n",
              "\n",
              "      <script>\n",
              "        const buttonEl =\n",
              "          document.querySelector('#df-1dd6b978-e4e3-4dc0-b82b-d8dabc63f228 button.colab-df-convert');\n",
              "        buttonEl.style.display =\n",
              "          google.colab.kernel.accessAllowed ? 'block' : 'none';\n",
              "\n",
              "        async function convertToInteractive(key) {\n",
              "          const element = document.querySelector('#df-1dd6b978-e4e3-4dc0-b82b-d8dabc63f228');\n",
              "          const dataTable =\n",
              "            await google.colab.kernel.invokeFunction('convertToInteractive',\n",
              "                                                     [key], {});\n",
              "          if (!dataTable) return;\n",
              "\n",
              "          const docLinkHtml = 'Like what you see? Visit the ' +\n",
              "            '<a target=\"_blank\" href=https://colab.research.google.com/notebooks/data_table.ipynb>data table notebook</a>'\n",
              "            + ' to learn more about interactive tables.';\n",
              "          element.innerHTML = '';\n",
              "          dataTable['output_type'] = 'display_data';\n",
              "          await google.colab.output.renderOutput(dataTable, element);\n",
              "          const docLink = document.createElement('div');\n",
              "          docLink.innerHTML = docLinkHtml;\n",
              "          element.appendChild(docLink);\n",
              "        }\n",
              "      </script>\n",
              "    </div>\n",
              "  </div>\n",
              "  "
            ]
          },
          "metadata": {},
          "execution_count": 39
        }
      ]
    },
    {
      "cell_type": "code",
      "execution_count": null,
      "metadata": {
        "colab": {
          "base_uri": "https://localhost:8080/"
        },
        "id": "-5nDIDBqFPMS",
        "outputId": "020d097b-9a30-4c03-88e9-7ef121bb3f17"
      },
      "outputs": [
        {
          "output_type": "stream",
          "name": "stdout",
          "text": [
            "100000\n",
            "200000\n",
            "300000\n",
            "400000\n"
          ]
        }
      ],
      "source": [
        "temp=[]\n",
        "c=0\n",
        "for i in range(df.shape[0]):\n",
        "  c=c+1\n",
        "  if(c%100000==0):\n",
        "    print(c)\n",
        "  temp.append(str(df['PRODUCT_NAME'][i]) +\" \"\n",
        "            +str(df['PRODUCT_DESCRIPTION'][i]))"
      ]
    },
    {
      "cell_type": "code",
      "execution_count": null,
      "metadata": {
        "id": "AtcpxcyAFuWa"
      },
      "outputs": [],
      "source": [
        "df['PRODUCT_DETAILS']=temp"
      ]
    },
    {
      "cell_type": "code",
      "source": [
        "(df['PRODUCT_BRAND']=='chi').sum()"
      ],
      "metadata": {
        "colab": {
          "base_uri": "https://localhost:8080/"
        },
        "id": "myJwyknLzpZm",
        "outputId": "33f9cdc3-7199-4772-929d-4d20da572f5e"
      },
      "execution_count": null,
      "outputs": [
        {
          "output_type": "execute_result",
          "data": {
            "text/plain": [
              "0"
            ]
          },
          "metadata": {},
          "execution_count": 49
        }
      ]
    },
    {
      "cell_type": "code",
      "execution_count": null,
      "metadata": {
        "colab": {
          "base_uri": "https://localhost:8080/",
          "height": 461
        },
        "id": "xd2SGLDgFnPi",
        "outputId": "19b2ce5b-75cc-4a6f-973f-2005470061d9"
      },
      "outputs": [
        {
          "output_type": "execute_result",
          "data": {
            "text/plain": [
              "                    PRODUCT_NAME  PRODUCT_CONDITION   PRODUCT_BRAND  \\\n",
              "0  lipstick queen reserved maiwu                  4  Lipstick Queen   \n",
              "1       garbage pail kid blu ray                  3         Unknown   \n",
              "2              green floam slime                  1             CHI   \n",
              "3          wallet beige monogram                  1         Unknown   \n",
              "4  triangle bike body blue light                  3         Triangl   \n",
              "\n",
              "   SHIPPING_AVAILABILITY                                PRODUCT_DESCRIPTION  \\\n",
              "0                      0  lipstick queen jean queen medieval lipstick us...   \n",
              "1                      1               26plays great tested watched scratch   \n",
              "2                      0  6 oz dragon fruit scented keep reach young chi...   \n",
              "3                      0                        wallet brand new never used   \n",
              "4                      0  triangle bike body blue light steady flashing ...   \n",
              "\n",
              "        CATEGORY_1           CATEGORY_2   CATEGORY_3  \\\n",
              "0           beauty               makeup         lips   \n",
              "1      electronics                media      blu_ray   \n",
              "2             kids                 toys  arts_crafts   \n",
              "3            women  women_s_accessories      wallets   \n",
              "4  sports_outdoors             outdoors        other   \n",
              "\n",
              "                                     PRODUCT_DETAILS  \n",
              "0  lipstick queen reserved maiwu lipstick queen j...  \n",
              "1  garbage pail kid blu ray 26plays great tested ...  \n",
              "2  green floam slime 6 oz dragon fruit scented ke...  \n",
              "3  wallet beige monogram wallet brand new never used  \n",
              "4  triangle bike body blue light triangle bike bo...  "
            ],
            "text/html": [
              "\n",
              "  <div id=\"df-6d018da1-3e3d-4078-b671-de2aecc2800f\">\n",
              "    <div class=\"colab-df-container\">\n",
              "      <div>\n",
              "<style scoped>\n",
              "    .dataframe tbody tr th:only-of-type {\n",
              "        vertical-align: middle;\n",
              "    }\n",
              "\n",
              "    .dataframe tbody tr th {\n",
              "        vertical-align: top;\n",
              "    }\n",
              "\n",
              "    .dataframe thead th {\n",
              "        text-align: right;\n",
              "    }\n",
              "</style>\n",
              "<table border=\"1\" class=\"dataframe\">\n",
              "  <thead>\n",
              "    <tr style=\"text-align: right;\">\n",
              "      <th></th>\n",
              "      <th>PRODUCT_NAME</th>\n",
              "      <th>PRODUCT_CONDITION</th>\n",
              "      <th>PRODUCT_BRAND</th>\n",
              "      <th>SHIPPING_AVAILABILITY</th>\n",
              "      <th>PRODUCT_DESCRIPTION</th>\n",
              "      <th>CATEGORY_1</th>\n",
              "      <th>CATEGORY_2</th>\n",
              "      <th>CATEGORY_3</th>\n",
              "      <th>PRODUCT_DETAILS</th>\n",
              "    </tr>\n",
              "  </thead>\n",
              "  <tbody>\n",
              "    <tr>\n",
              "      <th>0</th>\n",
              "      <td>lipstick queen reserved maiwu</td>\n",
              "      <td>4</td>\n",
              "      <td>Lipstick Queen</td>\n",
              "      <td>0</td>\n",
              "      <td>lipstick queen jean queen medieval lipstick us...</td>\n",
              "      <td>beauty</td>\n",
              "      <td>makeup</td>\n",
              "      <td>lips</td>\n",
              "      <td>lipstick queen reserved maiwu lipstick queen j...</td>\n",
              "    </tr>\n",
              "    <tr>\n",
              "      <th>1</th>\n",
              "      <td>garbage pail kid blu ray</td>\n",
              "      <td>3</td>\n",
              "      <td>Unknown</td>\n",
              "      <td>1</td>\n",
              "      <td>26plays great tested watched scratch</td>\n",
              "      <td>electronics</td>\n",
              "      <td>media</td>\n",
              "      <td>blu_ray</td>\n",
              "      <td>garbage pail kid blu ray 26plays great tested ...</td>\n",
              "    </tr>\n",
              "    <tr>\n",
              "      <th>2</th>\n",
              "      <td>green floam slime</td>\n",
              "      <td>1</td>\n",
              "      <td>CHI</td>\n",
              "      <td>0</td>\n",
              "      <td>6 oz dragon fruit scented keep reach young chi...</td>\n",
              "      <td>kids</td>\n",
              "      <td>toys</td>\n",
              "      <td>arts_crafts</td>\n",
              "      <td>green floam slime 6 oz dragon fruit scented ke...</td>\n",
              "    </tr>\n",
              "    <tr>\n",
              "      <th>3</th>\n",
              "      <td>wallet beige monogram</td>\n",
              "      <td>1</td>\n",
              "      <td>Unknown</td>\n",
              "      <td>0</td>\n",
              "      <td>wallet brand new never used</td>\n",
              "      <td>women</td>\n",
              "      <td>women_s_accessories</td>\n",
              "      <td>wallets</td>\n",
              "      <td>wallet beige monogram wallet brand new never used</td>\n",
              "    </tr>\n",
              "    <tr>\n",
              "      <th>4</th>\n",
              "      <td>triangle bike body blue light</td>\n",
              "      <td>3</td>\n",
              "      <td>Triangl</td>\n",
              "      <td>0</td>\n",
              "      <td>triangle bike body blue light steady flashing ...</td>\n",
              "      <td>sports_outdoors</td>\n",
              "      <td>outdoors</td>\n",
              "      <td>other</td>\n",
              "      <td>triangle bike body blue light triangle bike bo...</td>\n",
              "    </tr>\n",
              "  </tbody>\n",
              "</table>\n",
              "</div>\n",
              "      <button class=\"colab-df-convert\" onclick=\"convertToInteractive('df-6d018da1-3e3d-4078-b671-de2aecc2800f')\"\n",
              "              title=\"Convert this dataframe to an interactive table.\"\n",
              "              style=\"display:none;\">\n",
              "        \n",
              "  <svg xmlns=\"http://www.w3.org/2000/svg\" height=\"24px\"viewBox=\"0 0 24 24\"\n",
              "       width=\"24px\">\n",
              "    <path d=\"M0 0h24v24H0V0z\" fill=\"none\"/>\n",
              "    <path d=\"M18.56 5.44l.94 2.06.94-2.06 2.06-.94-2.06-.94-.94-2.06-.94 2.06-2.06.94zm-11 1L8.5 8.5l.94-2.06 2.06-.94-2.06-.94L8.5 2.5l-.94 2.06-2.06.94zm10 10l.94 2.06.94-2.06 2.06-.94-2.06-.94-.94-2.06-.94 2.06-2.06.94z\"/><path d=\"M17.41 7.96l-1.37-1.37c-.4-.4-.92-.59-1.43-.59-.52 0-1.04.2-1.43.59L10.3 9.45l-7.72 7.72c-.78.78-.78 2.05 0 2.83L4 21.41c.39.39.9.59 1.41.59.51 0 1.02-.2 1.41-.59l7.78-7.78 2.81-2.81c.8-.78.8-2.07 0-2.86zM5.41 20L4 18.59l7.72-7.72 1.47 1.35L5.41 20z\"/>\n",
              "  </svg>\n",
              "      </button>\n",
              "      \n",
              "  <style>\n",
              "    .colab-df-container {\n",
              "      display:flex;\n",
              "      flex-wrap:wrap;\n",
              "      gap: 12px;\n",
              "    }\n",
              "\n",
              "    .colab-df-convert {\n",
              "      background-color: #E8F0FE;\n",
              "      border: none;\n",
              "      border-radius: 50%;\n",
              "      cursor: pointer;\n",
              "      display: none;\n",
              "      fill: #1967D2;\n",
              "      height: 32px;\n",
              "      padding: 0 0 0 0;\n",
              "      width: 32px;\n",
              "    }\n",
              "\n",
              "    .colab-df-convert:hover {\n",
              "      background-color: #E2EBFA;\n",
              "      box-shadow: 0px 1px 2px rgba(60, 64, 67, 0.3), 0px 1px 3px 1px rgba(60, 64, 67, 0.15);\n",
              "      fill: #174EA6;\n",
              "    }\n",
              "\n",
              "    [theme=dark] .colab-df-convert {\n",
              "      background-color: #3B4455;\n",
              "      fill: #D2E3FC;\n",
              "    }\n",
              "\n",
              "    [theme=dark] .colab-df-convert:hover {\n",
              "      background-color: #434B5C;\n",
              "      box-shadow: 0px 1px 3px 1px rgba(0, 0, 0, 0.15);\n",
              "      filter: drop-shadow(0px 1px 2px rgba(0, 0, 0, 0.3));\n",
              "      fill: #FFFFFF;\n",
              "    }\n",
              "  </style>\n",
              "\n",
              "      <script>\n",
              "        const buttonEl =\n",
              "          document.querySelector('#df-6d018da1-3e3d-4078-b671-de2aecc2800f button.colab-df-convert');\n",
              "        buttonEl.style.display =\n",
              "          google.colab.kernel.accessAllowed ? 'block' : 'none';\n",
              "\n",
              "        async function convertToInteractive(key) {\n",
              "          const element = document.querySelector('#df-6d018da1-3e3d-4078-b671-de2aecc2800f');\n",
              "          const dataTable =\n",
              "            await google.colab.kernel.invokeFunction('convertToInteractive',\n",
              "                                                     [key], {});\n",
              "          if (!dataTable) return;\n",
              "\n",
              "          const docLinkHtml = 'Like what you see? Visit the ' +\n",
              "            '<a target=\"_blank\" href=https://colab.research.google.com/notebooks/data_table.ipynb>data table notebook</a>'\n",
              "            + ' to learn more about interactive tables.';\n",
              "          element.innerHTML = '';\n",
              "          dataTable['output_type'] = 'display_data';\n",
              "          await google.colab.output.renderOutput(dataTable, element);\n",
              "          const docLink = document.createElement('div');\n",
              "          docLink.innerHTML = docLinkHtml;\n",
              "          element.appendChild(docLink);\n",
              "        }\n",
              "      </script>\n",
              "    </div>\n",
              "  </div>\n",
              "  "
            ]
          },
          "metadata": {},
          "execution_count": 43
        }
      ],
      "source": [
        "df.head()"
      ]
    },
    {
      "cell_type": "code",
      "execution_count": null,
      "metadata": {
        "id": "4PQHf3b-KU8c"
      },
      "outputs": [],
      "source": [
        "df.to_csv('gdrive/My Drive/Pre_CountVectorizer(Tr+Test).csv')"
      ]
    },
    {
      "cell_type": "code",
      "execution_count": null,
      "metadata": {
        "id": "UNiaWmv0FAp8"
      },
      "outputs": [],
      "source": [
        "from sklearn.feature_extraction.text import CountVectorizer\n",
        "cv = CountVectorizer(max_features=1500)\n",
        "X = cv.fit_transform(df['PRODUCT_DETAILS']).toarray()"
      ]
    },
    {
      "cell_type": "code",
      "execution_count": null,
      "metadata": {
        "id": "ZtOuygnSFAgq"
      },
      "outputs": [],
      "source": [
        "from sklearn import preprocessing\n",
        "le = preprocessing.LabelEncoder()\n",
        "df['CATEGORY_1']=le.fit_transform(df['CATEGORY_1'])\n"
      ]
    },
    {
      "cell_type": "code",
      "execution_count": null,
      "metadata": {
        "id": "TdSCeKKqGZAM"
      },
      "outputs": [],
      "source": [
        "df['CATEGORY_2']=le.fit_transform(df['CATEGORY_2'])\n",
        "df['CATEGORY_3']=le.fit_transform(df['CATEGORY_3'])\n",
        "df['PRODUCT_BRAND']=le.fit_transform(df['PRODUCT_BRAND'])\n",
        "\n"
      ]
    },
    {
      "cell_type": "code",
      "execution_count": null,
      "metadata": {
        "id": "t6-qlWtIGlYX"
      },
      "outputs": [],
      "source": [
        "df.drop(axis='columns', labels={'PRODUCT_NAME','PRODUCT_DESCRIPTION','PRODUCT_DETAILS'},inplace=True)"
      ]
    },
    {
      "cell_type": "code",
      "execution_count": null,
      "metadata": {
        "id": "oDknu_RdGnGF"
      },
      "outputs": [],
      "source": [
        "df=pd.concat([df,pd.DataFrame(X)],axis=1,join='inner')"
      ]
    },
    {
      "cell_type": "code",
      "execution_count": null,
      "metadata": {
        "id": "EAv0Vv8MG8Le"
      },
      "outputs": [],
      "source": [
        "df = pd.read_csv('gdrive/My Drive/Pre_CountVectorizer(Tr+Test).csv')"
      ]
    },
    {
      "cell_type": "code",
      "execution_count": null,
      "metadata": {
        "id": "c_1Cz0xMR6zQ",
        "colab": {
          "base_uri": "https://localhost:8080/"
        },
        "outputId": "07073274-1664-4038-bf75-3a0f3b80c207"
      },
      "outputs": [
        {
          "output_type": "execute_result",
          "data": {
            "text/plain": [
              "Unnamed: 0                                                          260995\n",
              "PRODUCT_NAME                              authentic blue beat studio wired\n",
              "PRODUCT_CONDITION                                                        3\n",
              "PRODUCT_BRAND                                                        Beats\n",
              "SHIPPING_AVAILABILITY                                                    0\n",
              "PRODUCT_DESCRIPTION      beat amazing quality rich sound beat working p...\n",
              "CATEGORY_1                                                     electronics\n",
              "CATEGORY_2                                           tv_audio_surveillance\n",
              "CATEGORY_3                                                      headphones\n",
              "PRODUCT_DETAILS          authentic blue beat studio wired beat amazing ...\n",
              "Name: 260995, dtype: object"
            ]
          },
          "metadata": {},
          "execution_count": 7
        }
      ],
      "source": [
        "df.iloc[260995]"
      ]
    },
    {
      "cell_type": "code",
      "source": [],
      "metadata": {
        "id": "xRBmS7m4R-sq"
      },
      "execution_count": null,
      "outputs": []
    }
  ],
  "metadata": {
    "colab": {
      "provenance": []
    },
    "kernelspec": {
      "display_name": "Python 3",
      "name": "python3"
    },
    "language_info": {
      "name": "python"
    }
  },
  "nbformat": 4,
  "nbformat_minor": 0
}