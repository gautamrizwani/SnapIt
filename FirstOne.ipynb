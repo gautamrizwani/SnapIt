{
  "nbformat": 4,
  "nbformat_minor": 0,
  "metadata": {
    "colab": {
      "provenance": [],
      "collapsed_sections": [],
      "authorship_tag": "ABX9TyMrnn7A2GTPGRnjBfNrzmvo",
      "include_colab_link": true
    },
    "kernelspec": {
      "name": "python3",
      "display_name": "Python 3"
    },
    "language_info": {
      "name": "python"
    }
  },
  "cells": [
    {
      "cell_type": "markdown",
      "metadata": {
        "id": "view-in-github",
        "colab_type": "text"
      },
      "source": [
        "<a href=\"https://colab.research.google.com/github/Hansal21/SnapIt/blob/main/FirstOne.ipynb\" target=\"_parent\"><img src=\"https://colab.research.google.com/assets/colab-badge.svg\" alt=\"Open In Colab\"/></a>"
      ]
    },
    {
      "cell_type": "code",
      "execution_count": null,
      "metadata": {
        "id": "WOEXmlkPn2sA"
      },
      "outputs": [],
      "source": [
        "import pandas as pd\n",
        "import numpy as np\n",
        "import matplotlib.pyplot as plt"
      ]
    },
    {
      "cell_type": "code",
      "source": [
        "from google.colab import drive\n",
        "drive.mount('/content/gdrive')"
      ],
      "metadata": {
        "colab": {
          "base_uri": "https://localhost:8080/"
        },
        "id": "HTJ-BdPDoMck",
        "outputId": "7dadb1a7-efe3-45b3-cf38-d00b75d3dc7c"
      },
      "execution_count": null,
      "outputs": [
        {
          "output_type": "stream",
          "name": "stdout",
          "text": [
            "Drive already mounted at /content/gdrive; to attempt to forcibly remount, call drive.mount(\"/content/gdrive\", force_remount=True).\n"
          ]
        }
      ]
    },
    {
      "cell_type": "code",
      "source": [
        "df = pd.read_csv('gdrive/My Drive/train.csv')"
      ],
      "metadata": {
        "id": "qQS_L-Zboeaj"
      },
      "execution_count": null,
      "outputs": []
    },
    {
      "cell_type": "code",
      "source": [
        "df.head()"
      ],
      "metadata": {
        "colab": {
          "base_uri": "https://localhost:8080/",
          "height": 337
        },
        "id": "sz0wBzB6otps",
        "outputId": "6fc493ab-9084-4938-b879-2aa6d5be3d4f"
      },
      "execution_count": null,
      "outputs": [
        {
          "output_type": "execute_result",
          "data": {
            "text/plain": [
              "   PRODUCT_ID                      PRODUCT_NAME  PRODUCT_CONDITION  \\\n",
              "0      952289     Lipstick queen reserved maiwu                  4   \n",
              "1      121903         Garbage Pail Kids blu ray                  3   \n",
              "2      280534                 green floam/slime                  1   \n",
              "3      787961             Wallet beige monogram                  1   \n",
              "4      479292  Triangle Bike Or Body Blue Light                  3   \n",
              "\n",
              "                            CATEGORY PRODUCT_BRAND  SHIPPING_AVAILABILITY  \\\n",
              "0                 Beauty/Makeup/Lips           NaN                      0   \n",
              "1          Electronics/Media/Blu-Ray           NaN                      1   \n",
              "2            Kids/Toys/Arts & Crafts           NaN                      0   \n",
              "3  Women/Women's Accessories/Wallets           NaN                      0   \n",
              "4   Sports & Outdoors/Outdoors/Other           NaN                      0   \n",
              "\n",
              "                                 PRODUCT_DESCRIPTION  PRODUCT_PRICE  \n",
              "0  Lipstick Queen Jean Queen and medieval lipstic...           20.0  \n",
              "1  26Plays great. Tested. Watched once. No scratc...           15.0  \n",
              "2  -6 oz, dragon fruit scented - KEEP OUT OF REAC...            8.0  \n",
              "3                        Wallet brand new never used           31.0  \n",
              "4  Triangle Bike Or Body Blue Light, steady or fl...            8.0  "
            ],
            "text/html": [
              "\n",
              "  <div id=\"df-d9a21aa5-ed11-4484-9138-8587e1fdea71\">\n",
              "    <div class=\"colab-df-container\">\n",
              "      <div>\n",
              "<style scoped>\n",
              "    .dataframe tbody tr th:only-of-type {\n",
              "        vertical-align: middle;\n",
              "    }\n",
              "\n",
              "    .dataframe tbody tr th {\n",
              "        vertical-align: top;\n",
              "    }\n",
              "\n",
              "    .dataframe thead th {\n",
              "        text-align: right;\n",
              "    }\n",
              "</style>\n",
              "<table border=\"1\" class=\"dataframe\">\n",
              "  <thead>\n",
              "    <tr style=\"text-align: right;\">\n",
              "      <th></th>\n",
              "      <th>PRODUCT_ID</th>\n",
              "      <th>PRODUCT_NAME</th>\n",
              "      <th>PRODUCT_CONDITION</th>\n",
              "      <th>CATEGORY</th>\n",
              "      <th>PRODUCT_BRAND</th>\n",
              "      <th>SHIPPING_AVAILABILITY</th>\n",
              "      <th>PRODUCT_DESCRIPTION</th>\n",
              "      <th>PRODUCT_PRICE</th>\n",
              "    </tr>\n",
              "  </thead>\n",
              "  <tbody>\n",
              "    <tr>\n",
              "      <th>0</th>\n",
              "      <td>952289</td>\n",
              "      <td>Lipstick queen reserved maiwu</td>\n",
              "      <td>4</td>\n",
              "      <td>Beauty/Makeup/Lips</td>\n",
              "      <td>NaN</td>\n",
              "      <td>0</td>\n",
              "      <td>Lipstick Queen Jean Queen and medieval lipstic...</td>\n",
              "      <td>20.0</td>\n",
              "    </tr>\n",
              "    <tr>\n",
              "      <th>1</th>\n",
              "      <td>121903</td>\n",
              "      <td>Garbage Pail Kids blu ray</td>\n",
              "      <td>3</td>\n",
              "      <td>Electronics/Media/Blu-Ray</td>\n",
              "      <td>NaN</td>\n",
              "      <td>1</td>\n",
              "      <td>26Plays great. Tested. Watched once. No scratc...</td>\n",
              "      <td>15.0</td>\n",
              "    </tr>\n",
              "    <tr>\n",
              "      <th>2</th>\n",
              "      <td>280534</td>\n",
              "      <td>green floam/slime</td>\n",
              "      <td>1</td>\n",
              "      <td>Kids/Toys/Arts &amp; Crafts</td>\n",
              "      <td>NaN</td>\n",
              "      <td>0</td>\n",
              "      <td>-6 oz, dragon fruit scented - KEEP OUT OF REAC...</td>\n",
              "      <td>8.0</td>\n",
              "    </tr>\n",
              "    <tr>\n",
              "      <th>3</th>\n",
              "      <td>787961</td>\n",
              "      <td>Wallet beige monogram</td>\n",
              "      <td>1</td>\n",
              "      <td>Women/Women's Accessories/Wallets</td>\n",
              "      <td>NaN</td>\n",
              "      <td>0</td>\n",
              "      <td>Wallet brand new never used</td>\n",
              "      <td>31.0</td>\n",
              "    </tr>\n",
              "    <tr>\n",
              "      <th>4</th>\n",
              "      <td>479292</td>\n",
              "      <td>Triangle Bike Or Body Blue Light</td>\n",
              "      <td>3</td>\n",
              "      <td>Sports &amp; Outdoors/Outdoors/Other</td>\n",
              "      <td>NaN</td>\n",
              "      <td>0</td>\n",
              "      <td>Triangle Bike Or Body Blue Light, steady or fl...</td>\n",
              "      <td>8.0</td>\n",
              "    </tr>\n",
              "  </tbody>\n",
              "</table>\n",
              "</div>\n",
              "      <button class=\"colab-df-convert\" onclick=\"convertToInteractive('df-d9a21aa5-ed11-4484-9138-8587e1fdea71')\"\n",
              "              title=\"Convert this dataframe to an interactive table.\"\n",
              "              style=\"display:none;\">\n",
              "        \n",
              "  <svg xmlns=\"http://www.w3.org/2000/svg\" height=\"24px\"viewBox=\"0 0 24 24\"\n",
              "       width=\"24px\">\n",
              "    <path d=\"M0 0h24v24H0V0z\" fill=\"none\"/>\n",
              "    <path d=\"M18.56 5.44l.94 2.06.94-2.06 2.06-.94-2.06-.94-.94-2.06-.94 2.06-2.06.94zm-11 1L8.5 8.5l.94-2.06 2.06-.94-2.06-.94L8.5 2.5l-.94 2.06-2.06.94zm10 10l.94 2.06.94-2.06 2.06-.94-2.06-.94-.94-2.06-.94 2.06-2.06.94z\"/><path d=\"M17.41 7.96l-1.37-1.37c-.4-.4-.92-.59-1.43-.59-.52 0-1.04.2-1.43.59L10.3 9.45l-7.72 7.72c-.78.78-.78 2.05 0 2.83L4 21.41c.39.39.9.59 1.41.59.51 0 1.02-.2 1.41-.59l7.78-7.78 2.81-2.81c.8-.78.8-2.07 0-2.86zM5.41 20L4 18.59l7.72-7.72 1.47 1.35L5.41 20z\"/>\n",
              "  </svg>\n",
              "      </button>\n",
              "      \n",
              "  <style>\n",
              "    .colab-df-container {\n",
              "      display:flex;\n",
              "      flex-wrap:wrap;\n",
              "      gap: 12px;\n",
              "    }\n",
              "\n",
              "    .colab-df-convert {\n",
              "      background-color: #E8F0FE;\n",
              "      border: none;\n",
              "      border-radius: 50%;\n",
              "      cursor: pointer;\n",
              "      display: none;\n",
              "      fill: #1967D2;\n",
              "      height: 32px;\n",
              "      padding: 0 0 0 0;\n",
              "      width: 32px;\n",
              "    }\n",
              "\n",
              "    .colab-df-convert:hover {\n",
              "      background-color: #E2EBFA;\n",
              "      box-shadow: 0px 1px 2px rgba(60, 64, 67, 0.3), 0px 1px 3px 1px rgba(60, 64, 67, 0.15);\n",
              "      fill: #174EA6;\n",
              "    }\n",
              "\n",
              "    [theme=dark] .colab-df-convert {\n",
              "      background-color: #3B4455;\n",
              "      fill: #D2E3FC;\n",
              "    }\n",
              "\n",
              "    [theme=dark] .colab-df-convert:hover {\n",
              "      background-color: #434B5C;\n",
              "      box-shadow: 0px 1px 3px 1px rgba(0, 0, 0, 0.15);\n",
              "      filter: drop-shadow(0px 1px 2px rgba(0, 0, 0, 0.3));\n",
              "      fill: #FFFFFF;\n",
              "    }\n",
              "  </style>\n",
              "\n",
              "      <script>\n",
              "        const buttonEl =\n",
              "          document.querySelector('#df-d9a21aa5-ed11-4484-9138-8587e1fdea71 button.colab-df-convert');\n",
              "        buttonEl.style.display =\n",
              "          google.colab.kernel.accessAllowed ? 'block' : 'none';\n",
              "\n",
              "        async function convertToInteractive(key) {\n",
              "          const element = document.querySelector('#df-d9a21aa5-ed11-4484-9138-8587e1fdea71');\n",
              "          const dataTable =\n",
              "            await google.colab.kernel.invokeFunction('convertToInteractive',\n",
              "                                                     [key], {});\n",
              "          if (!dataTable) return;\n",
              "\n",
              "          const docLinkHtml = 'Like what you see? Visit the ' +\n",
              "            '<a target=\"_blank\" href=https://colab.research.google.com/notebooks/data_table.ipynb>data table notebook</a>'\n",
              "            + ' to learn more about interactive tables.';\n",
              "          element.innerHTML = '';\n",
              "          dataTable['output_type'] = 'display_data';\n",
              "          await google.colab.output.renderOutput(dataTable, element);\n",
              "          const docLink = document.createElement('div');\n",
              "          docLink.innerHTML = docLinkHtml;\n",
              "          element.appendChild(docLink);\n",
              "        }\n",
              "      </script>\n",
              "    </div>\n",
              "  </div>\n",
              "  "
            ]
          },
          "metadata": {},
          "execution_count": 284
        }
      ]
    },
    {
      "cell_type": "code",
      "source": [
        "df.isnull().sum()"
      ],
      "metadata": {
        "colab": {
          "base_uri": "https://localhost:8080/"
        },
        "id": "qVMPA1aFpMUf",
        "outputId": "c74e95c2-6a9b-4ba6-86c6-a6eb1d34b957"
      },
      "execution_count": null,
      "outputs": [
        {
          "output_type": "execute_result",
          "data": {
            "text/plain": [
              "PRODUCT_ID                    0\n",
              "PRODUCT_NAME                  0\n",
              "PRODUCT_CONDITION             0\n",
              "CATEGORY                   5416\n",
              "PRODUCT_BRAND            537885\n",
              "SHIPPING_AVAILABILITY         0\n",
              "PRODUCT_DESCRIPTION           3\n",
              "PRODUCT_PRICE                 0\n",
              "dtype: int64"
            ]
          },
          "metadata": {},
          "execution_count": 285
        }
      ]
    },
    {
      "cell_type": "code",
      "source": [
        "df.drop(axis=\"columns\", labels=\"PRODUCT_ID\", inplace=True)"
      ],
      "metadata": {
        "id": "82-ciTJxo16H"
      },
      "execution_count": null,
      "outputs": []
    },
    {
      "cell_type": "code",
      "source": [
        "null_index = df.index[df['PRODUCT_DESCRIPTION'].isnull()]"
      ],
      "metadata": {
        "id": "1sc3DMINqB4P"
      },
      "execution_count": null,
      "outputs": []
    },
    {
      "cell_type": "code",
      "source": [
        "df.drop(axis=\"rows\", index=null_index, inplace=True)"
      ],
      "metadata": {
        "id": "9gt0ej8gqOlq"
      },
      "execution_count": null,
      "outputs": []
    },
    {
      "cell_type": "code",
      "source": [
        "df.isnull().sum()"
      ],
      "metadata": {
        "colab": {
          "base_uri": "https://localhost:8080/"
        },
        "id": "M87zDnmuqzX3",
        "outputId": "77549826-8eaa-4d63-da56-936d7d615db2"
      },
      "execution_count": null,
      "outputs": [
        {
          "output_type": "execute_result",
          "data": {
            "text/plain": [
              "PRODUCT_NAME                  0\n",
              "PRODUCT_CONDITION             0\n",
              "CATEGORY                   5416\n",
              "PRODUCT_BRAND            537883\n",
              "SHIPPING_AVAILABILITY         0\n",
              "PRODUCT_DESCRIPTION           0\n",
              "PRODUCT_PRICE                 0\n",
              "dtype: int64"
            ]
          },
          "metadata": {},
          "execution_count": 289
        }
      ]
    },
    {
      "cell_type": "code",
      "source": [
        "df.describe()"
      ],
      "metadata": {
        "colab": {
          "base_uri": "https://localhost:8080/",
          "height": 300
        },
        "id": "mKHkNLPssHei",
        "outputId": "cf254552-0d43-4b56-9016-32f86d609406"
      },
      "execution_count": null,
      "outputs": [
        {
          "output_type": "execute_result",
          "data": {
            "text/plain": [
              "       PRODUCT_CONDITION  SHIPPING_AVAILABILITY  PRODUCT_PRICE\n",
              "count       1.260151e+06           1.260151e+06   1.260151e+06\n",
              "mean        1.907478e+00           4.472393e-01   2.672049e+01\n",
              "std         9.032447e-01           4.972087e-01   3.855898e+01\n",
              "min         1.000000e+00           0.000000e+00   0.000000e+00\n",
              "25%         1.000000e+00           0.000000e+00   1.000000e+01\n",
              "50%         2.000000e+00           0.000000e+00   1.700000e+01\n",
              "75%         3.000000e+00           1.000000e+00   2.900000e+01\n",
              "max         5.000000e+00           1.000000e+00   2.009000e+03"
            ],
            "text/html": [
              "\n",
              "  <div id=\"df-5992454b-6fff-4df8-b3ba-becd8628ac9c\">\n",
              "    <div class=\"colab-df-container\">\n",
              "      <div>\n",
              "<style scoped>\n",
              "    .dataframe tbody tr th:only-of-type {\n",
              "        vertical-align: middle;\n",
              "    }\n",
              "\n",
              "    .dataframe tbody tr th {\n",
              "        vertical-align: top;\n",
              "    }\n",
              "\n",
              "    .dataframe thead th {\n",
              "        text-align: right;\n",
              "    }\n",
              "</style>\n",
              "<table border=\"1\" class=\"dataframe\">\n",
              "  <thead>\n",
              "    <tr style=\"text-align: right;\">\n",
              "      <th></th>\n",
              "      <th>PRODUCT_CONDITION</th>\n",
              "      <th>SHIPPING_AVAILABILITY</th>\n",
              "      <th>PRODUCT_PRICE</th>\n",
              "    </tr>\n",
              "  </thead>\n",
              "  <tbody>\n",
              "    <tr>\n",
              "      <th>count</th>\n",
              "      <td>1.260151e+06</td>\n",
              "      <td>1.260151e+06</td>\n",
              "      <td>1.260151e+06</td>\n",
              "    </tr>\n",
              "    <tr>\n",
              "      <th>mean</th>\n",
              "      <td>1.907478e+00</td>\n",
              "      <td>4.472393e-01</td>\n",
              "      <td>2.672049e+01</td>\n",
              "    </tr>\n",
              "    <tr>\n",
              "      <th>std</th>\n",
              "      <td>9.032447e-01</td>\n",
              "      <td>4.972087e-01</td>\n",
              "      <td>3.855898e+01</td>\n",
              "    </tr>\n",
              "    <tr>\n",
              "      <th>min</th>\n",
              "      <td>1.000000e+00</td>\n",
              "      <td>0.000000e+00</td>\n",
              "      <td>0.000000e+00</td>\n",
              "    </tr>\n",
              "    <tr>\n",
              "      <th>25%</th>\n",
              "      <td>1.000000e+00</td>\n",
              "      <td>0.000000e+00</td>\n",
              "      <td>1.000000e+01</td>\n",
              "    </tr>\n",
              "    <tr>\n",
              "      <th>50%</th>\n",
              "      <td>2.000000e+00</td>\n",
              "      <td>0.000000e+00</td>\n",
              "      <td>1.700000e+01</td>\n",
              "    </tr>\n",
              "    <tr>\n",
              "      <th>75%</th>\n",
              "      <td>3.000000e+00</td>\n",
              "      <td>1.000000e+00</td>\n",
              "      <td>2.900000e+01</td>\n",
              "    </tr>\n",
              "    <tr>\n",
              "      <th>max</th>\n",
              "      <td>5.000000e+00</td>\n",
              "      <td>1.000000e+00</td>\n",
              "      <td>2.009000e+03</td>\n",
              "    </tr>\n",
              "  </tbody>\n",
              "</table>\n",
              "</div>\n",
              "      <button class=\"colab-df-convert\" onclick=\"convertToInteractive('df-5992454b-6fff-4df8-b3ba-becd8628ac9c')\"\n",
              "              title=\"Convert this dataframe to an interactive table.\"\n",
              "              style=\"display:none;\">\n",
              "        \n",
              "  <svg xmlns=\"http://www.w3.org/2000/svg\" height=\"24px\"viewBox=\"0 0 24 24\"\n",
              "       width=\"24px\">\n",
              "    <path d=\"M0 0h24v24H0V0z\" fill=\"none\"/>\n",
              "    <path d=\"M18.56 5.44l.94 2.06.94-2.06 2.06-.94-2.06-.94-.94-2.06-.94 2.06-2.06.94zm-11 1L8.5 8.5l.94-2.06 2.06-.94-2.06-.94L8.5 2.5l-.94 2.06-2.06.94zm10 10l.94 2.06.94-2.06 2.06-.94-2.06-.94-.94-2.06-.94 2.06-2.06.94z\"/><path d=\"M17.41 7.96l-1.37-1.37c-.4-.4-.92-.59-1.43-.59-.52 0-1.04.2-1.43.59L10.3 9.45l-7.72 7.72c-.78.78-.78 2.05 0 2.83L4 21.41c.39.39.9.59 1.41.59.51 0 1.02-.2 1.41-.59l7.78-7.78 2.81-2.81c.8-.78.8-2.07 0-2.86zM5.41 20L4 18.59l7.72-7.72 1.47 1.35L5.41 20z\"/>\n",
              "  </svg>\n",
              "      </button>\n",
              "      \n",
              "  <style>\n",
              "    .colab-df-container {\n",
              "      display:flex;\n",
              "      flex-wrap:wrap;\n",
              "      gap: 12px;\n",
              "    }\n",
              "\n",
              "    .colab-df-convert {\n",
              "      background-color: #E8F0FE;\n",
              "      border: none;\n",
              "      border-radius: 50%;\n",
              "      cursor: pointer;\n",
              "      display: none;\n",
              "      fill: #1967D2;\n",
              "      height: 32px;\n",
              "      padding: 0 0 0 0;\n",
              "      width: 32px;\n",
              "    }\n",
              "\n",
              "    .colab-df-convert:hover {\n",
              "      background-color: #E2EBFA;\n",
              "      box-shadow: 0px 1px 2px rgba(60, 64, 67, 0.3), 0px 1px 3px 1px rgba(60, 64, 67, 0.15);\n",
              "      fill: #174EA6;\n",
              "    }\n",
              "\n",
              "    [theme=dark] .colab-df-convert {\n",
              "      background-color: #3B4455;\n",
              "      fill: #D2E3FC;\n",
              "    }\n",
              "\n",
              "    [theme=dark] .colab-df-convert:hover {\n",
              "      background-color: #434B5C;\n",
              "      box-shadow: 0px 1px 3px 1px rgba(0, 0, 0, 0.15);\n",
              "      filter: drop-shadow(0px 1px 2px rgba(0, 0, 0, 0.3));\n",
              "      fill: #FFFFFF;\n",
              "    }\n",
              "  </style>\n",
              "\n",
              "      <script>\n",
              "        const buttonEl =\n",
              "          document.querySelector('#df-5992454b-6fff-4df8-b3ba-becd8628ac9c button.colab-df-convert');\n",
              "        buttonEl.style.display =\n",
              "          google.colab.kernel.accessAllowed ? 'block' : 'none';\n",
              "\n",
              "        async function convertToInteractive(key) {\n",
              "          const element = document.querySelector('#df-5992454b-6fff-4df8-b3ba-becd8628ac9c');\n",
              "          const dataTable =\n",
              "            await google.colab.kernel.invokeFunction('convertToInteractive',\n",
              "                                                     [key], {});\n",
              "          if (!dataTable) return;\n",
              "\n",
              "          const docLinkHtml = 'Like what you see? Visit the ' +\n",
              "            '<a target=\"_blank\" href=https://colab.research.google.com/notebooks/data_table.ipynb>data table notebook</a>'\n",
              "            + ' to learn more about interactive tables.';\n",
              "          element.innerHTML = '';\n",
              "          dataTable['output_type'] = 'display_data';\n",
              "          await google.colab.output.renderOutput(dataTable, element);\n",
              "          const docLink = document.createElement('div');\n",
              "          docLink.innerHTML = docLinkHtml;\n",
              "          element.appendChild(docLink);\n",
              "        }\n",
              "      </script>\n",
              "    </div>\n",
              "  </div>\n",
              "  "
            ]
          },
          "metadata": {},
          "execution_count": 290
        }
      ]
    },
    {
      "cell_type": "code",
      "source": [
        "free_products = df.index[df['PRODUCT_PRICE']==0]"
      ],
      "metadata": {
        "id": "MEFiAV_OsSgi"
      },
      "execution_count": null,
      "outputs": []
    },
    {
      "cell_type": "code",
      "source": [
        "df.drop(axis=\"rows\", index=free_products, inplace=True)"
      ],
      "metadata": {
        "id": "jXyg8Cu-7GfB"
      },
      "execution_count": null,
      "outputs": []
    },
    {
      "cell_type": "code",
      "source": [
        "df[(df['PRODUCT_DESCRIPTION'] == 'No description yet')]['PRODUCT_PRICE'].describe()"
      ],
      "metadata": {
        "id": "mCgqPXUo8Pnm",
        "colab": {
          "base_uri": "https://localhost:8080/"
        },
        "outputId": "68991d68-1445-49b8-8e40-624a7372d7e3"
      },
      "execution_count": null,
      "outputs": [
        {
          "output_type": "execute_result",
          "data": {
            "text/plain": [
              "count    70171.000000\n",
              "mean        21.980697\n",
              "std         29.244397\n",
              "min          3.000000\n",
              "25%         10.000000\n",
              "50%         15.000000\n",
              "75%         25.000000\n",
              "max       1400.000000\n",
              "Name: PRODUCT_PRICE, dtype: float64"
            ]
          },
          "metadata": {},
          "execution_count": 293
        }
      ]
    },
    {
      "cell_type": "code",
      "source": [
        "shipping = ['Paid by Buyer', 'Paid by Seller']\n",
        "counts = [(df['SHIPPING_AVAILABILITY']==0).sum(),(df['SHIPPING_AVAILABILITY']==1).sum()]\n",
        "plt.bar(shipping,counts,color=['skyblue','pink'],edgecolor='black')\n",
        "plt.title(\"Shipping Availablity\")\n",
        "plt.ylabel(\"Counts\")\n",
        "plt.show()"
      ],
      "metadata": {
        "colab": {
          "base_uri": "https://localhost:8080/",
          "height": 281
        },
        "id": "N9i0kveAGiVD",
        "outputId": "b4edab52-9f0f-456f-ad67-f5d761340101"
      },
      "execution_count": null,
      "outputs": [
        {
          "output_type": "display_data",
          "data": {
            "text/plain": [
              "<Figure size 432x288 with 1 Axes>"
            ],
            "image/png": "[encoded data removed]"
          },
          "metadata": {
            "needs_background": "light"
          }
        }
      ]
    },
    {
      "cell_type": "code",
      "source": [
        "cat = ['1','2','3','4','5']\n",
        "counts = [(df['PRODUCT_CONDITION']==1).sum(),(df['PRODUCT_CONDITION']==2).sum(),(df['PRODUCT_CONDITION']==3).sum(),(df['PRODUCT_CONDITION']==4).sum(),(df['PRODUCT_CONDITION']==5).sum()]\n",
        "plt.bar(cat,counts,color=['yellow','pink','red','green','blue'],edgecolor='black')\n",
        "plt.title(\"Product Conditions\")\n",
        "plt.xlabel(\"Condition\")\n",
        "plt.ylabel(\"Counts\")\n",
        "plt.show()"
      ],
      "metadata": {
        "colab": {
          "base_uri": "https://localhost:8080/",
          "height": 295
        },
        "id": "kqqKGhv2KnQl",
        "outputId": "9bbdc6fa-1e49-4f79-fca2-2629f3ae995b"
      },
      "execution_count": null,
      "outputs": [
        {
          "output_type": "display_data",
          "data": {
            "text/plain": [
              "<Figure size 432x288 with 1 Axes>"
            ],
            "image/png": "[encoded data removed]"
          },
          "metadata": {
            "needs_background": "light"
          }
        }
      ]
    },
    {
      "cell_type": "code",
      "source": [
        "(df['CATEGORY'].str.count('/')).max()"
      ],
      "metadata": {
        "colab": {
          "base_uri": "https://localhost:8080/"
        },
        "id": "UExA7ugnmCfv",
        "outputId": "35910c24-836c-433e-f2c0-883f51f5a7ec"
      },
      "execution_count": null,
      "outputs": [
        {
          "output_type": "execute_result",
          "data": {
            "text/plain": [
              "4.0"
            ]
          },
          "metadata": {},
          "execution_count": 296
        }
      ]
    },
    {
      "cell_type": "markdown",
      "source": [
        "The above Operation shows 'The maximum occurence of / in column CATEGORY'."
      ],
      "metadata": {
        "id": "fbAL9B0vopnU"
      }
    },
    {
      "cell_type": "markdown",
      "source": [
        "Thus Maximum number of Categories can be 5."
      ],
      "metadata": {
        "id": "kinLUMSYpFvE"
      }
    },
    {
      "cell_type": "code",
      "source": [
        "df[['CATEGORY_1','CATEGORY_2','CATEGORY_3','CATEGORY_4','CATEGORY_5']]=df.CATEGORY.str.split(\"/\",expand=True).loc[:,:4]"
      ],
      "metadata": {
        "id": "EkzlMx9NMGgi"
      },
      "execution_count": null,
      "outputs": []
    },
    {
      "cell_type": "code",
      "source": [
        "df.head()"
      ],
      "metadata": {
        "id": "lNiPeBXfOnki",
        "colab": {
          "base_uri": "https://localhost:8080/",
          "height": 409
        },
        "outputId": "41a074cf-c38f-4892-85f6-5aa69111a2a9"
      },
      "execution_count": null,
      "outputs": [
        {
          "output_type": "execute_result",
          "data": {
            "text/plain": [
              "                       PRODUCT_NAME  PRODUCT_CONDITION  \\\n",
              "0     Lipstick queen reserved maiwu                  4   \n",
              "1         Garbage Pail Kids blu ray                  3   \n",
              "2                 green floam/slime                  1   \n",
              "3             Wallet beige monogram                  1   \n",
              "4  Triangle Bike Or Body Blue Light                  3   \n",
              "\n",
              "                            CATEGORY PRODUCT_BRAND  SHIPPING_AVAILABILITY  \\\n",
              "0                 Beauty/Makeup/Lips           NaN                      0   \n",
              "1          Electronics/Media/Blu-Ray           NaN                      1   \n",
              "2            Kids/Toys/Arts & Crafts           NaN                      0   \n",
              "3  Women/Women's Accessories/Wallets           NaN                      0   \n",
              "4   Sports & Outdoors/Outdoors/Other           NaN                      0   \n",
              "\n",
              "                                 PRODUCT_DESCRIPTION  PRODUCT_PRICE  \\\n",
              "0  Lipstick Queen Jean Queen and medieval lipstic...           20.0   \n",
              "1  26Plays great. Tested. Watched once. No scratc...           15.0   \n",
              "2  -6 oz, dragon fruit scented - KEEP OUT OF REAC...            8.0   \n",
              "3                        Wallet brand new never used           31.0   \n",
              "4  Triangle Bike Or Body Blue Light, steady or fl...            8.0   \n",
              "\n",
              "          CATEGORY_1           CATEGORY_2     CATEGORY_3 CATEGORY_4 CATEGORY_5  \n",
              "0             Beauty               Makeup           Lips       None       None  \n",
              "1        Electronics                Media        Blu-Ray       None       None  \n",
              "2               Kids                 Toys  Arts & Crafts       None       None  \n",
              "3              Women  Women's Accessories        Wallets       None       None  \n",
              "4  Sports & Outdoors             Outdoors          Other       None       None  "
            ],
            "text/html": [
              "\n",
              "  <div id=\"df-9e3b8eda-f32d-4f12-a773-e7c28a692fb3\">\n",
              "    <div class=\"colab-df-container\">\n",
              "      <div>\n",
              "<style scoped>\n",
              "    .dataframe tbody tr th:only-of-type {\n",
              "        vertical-align: middle;\n",
              "    }\n",
              "\n",
              "    .dataframe tbody tr th {\n",
              "        vertical-align: top;\n",
              "    }\n",
              "\n",
              "    .dataframe thead th {\n",
              "        text-align: right;\n",
              "    }\n",
              "</style>\n",
              "<table border=\"1\" class=\"dataframe\">\n",
              "  <thead>\n",
              "    <tr style=\"text-align: right;\">\n",
              "      <th></th>\n",
              "      <th>PRODUCT_NAME</th>\n",
              "      <th>PRODUCT_CONDITION</th>\n",
              "      <th>CATEGORY</th>\n",
              "      <th>PRODUCT_BRAND</th>\n",
              "      <th>SHIPPING_AVAILABILITY</th>\n",
              "      <th>PRODUCT_DESCRIPTION</th>\n",
              "      <th>PRODUCT_PRICE</th>\n",
              "      <th>CATEGORY_1</th>\n",
              "      <th>CATEGORY_2</th>\n",
              "      <th>CATEGORY_3</th>\n",
              "      <th>CATEGORY_4</th>\n",
              "      <th>CATEGORY_5</th>\n",
              "    </tr>\n",
              "  </thead>\n",
              "  <tbody>\n",
              "    <tr>\n",
              "      <th>0</th>\n",
              "      <td>Lipstick queen reserved maiwu</td>\n",
              "      <td>4</td>\n",
              "      <td>Beauty/Makeup/Lips</td>\n",
              "      <td>NaN</td>\n",
              "      <td>0</td>\n",
              "      <td>Lipstick Queen Jean Queen and medieval lipstic...</td>\n",
              "      <td>20.0</td>\n",
              "      <td>Beauty</td>\n",
              "      <td>Makeup</td>\n",
              "      <td>Lips</td>\n",
              "      <td>None</td>\n",
              "      <td>None</td>\n",
              "    </tr>\n",
              "    <tr>\n",
              "      <th>1</th>\n",
              "      <td>Garbage Pail Kids blu ray</td>\n",
              "      <td>3</td>\n",
              "      <td>Electronics/Media/Blu-Ray</td>\n",
              "      <td>NaN</td>\n",
              "      <td>1</td>\n",
              "      <td>26Plays great. Tested. Watched once. No scratc...</td>\n",
              "      <td>15.0</td>\n",
              "      <td>Electronics</td>\n",
              "      <td>Media</td>\n",
              "      <td>Blu-Ray</td>\n",
              "      <td>None</td>\n",
              "      <td>None</td>\n",
              "    </tr>\n",
              "    <tr>\n",
              "      <th>2</th>\n",
              "      <td>green floam/slime</td>\n",
              "      <td>1</td>\n",
              "      <td>Kids/Toys/Arts &amp; Crafts</td>\n",
              "      <td>NaN</td>\n",
              "      <td>0</td>\n",
              "      <td>-6 oz, dragon fruit scented - KEEP OUT OF REAC...</td>\n",
              "      <td>8.0</td>\n",
              "      <td>Kids</td>\n",
              "      <td>Toys</td>\n",
              "      <td>Arts &amp; Crafts</td>\n",
              "      <td>None</td>\n",
              "      <td>None</td>\n",
              "    </tr>\n",
              "    <tr>\n",
              "      <th>3</th>\n",
              "      <td>Wallet beige monogram</td>\n",
              "      <td>1</td>\n",
              "      <td>Women/Women's Accessories/Wallets</td>\n",
              "      <td>NaN</td>\n",
              "      <td>0</td>\n",
              "      <td>Wallet brand new never used</td>\n",
              "      <td>31.0</td>\n",
              "      <td>Women</td>\n",
              "      <td>Women's Accessories</td>\n",
              "      <td>Wallets</td>\n",
              "      <td>None</td>\n",
              "      <td>None</td>\n",
              "    </tr>\n",
              "    <tr>\n",
              "      <th>4</th>\n",
              "      <td>Triangle Bike Or Body Blue Light</td>\n",
              "      <td>3</td>\n",
              "      <td>Sports &amp; Outdoors/Outdoors/Other</td>\n",
              "      <td>NaN</td>\n",
              "      <td>0</td>\n",
              "      <td>Triangle Bike Or Body Blue Light, steady or fl...</td>\n",
              "      <td>8.0</td>\n",
              "      <td>Sports &amp; Outdoors</td>\n",
              "      <td>Outdoors</td>\n",
              "      <td>Other</td>\n",
              "      <td>None</td>\n",
              "      <td>None</td>\n",
              "    </tr>\n",
              "  </tbody>\n",
              "</table>\n",
              "</div>\n",
              "      <button class=\"colab-df-convert\" onclick=\"convertToInteractive('df-9e3b8eda-f32d-4f12-a773-e7c28a692fb3')\"\n",
              "              title=\"Convert this dataframe to an interactive table.\"\n",
              "              style=\"display:none;\">\n",
              "        \n",
              "  <svg xmlns=\"http://www.w3.org/2000/svg\" height=\"24px\"viewBox=\"0 0 24 24\"\n",
              "       width=\"24px\">\n",
              "    <path d=\"M0 0h24v24H0V0z\" fill=\"none\"/>\n",
              "    <path d=\"M18.56 5.44l.94 2.06.94-2.06 2.06-.94-2.06-.94-.94-2.06-.94 2.06-2.06.94zm-11 1L8.5 8.5l.94-2.06 2.06-.94-2.06-.94L8.5 2.5l-.94 2.06-2.06.94zm10 10l.94 2.06.94-2.06 2.06-.94-2.06-.94-.94-2.06-.94 2.06-2.06.94z\"/><path d=\"M17.41 7.96l-1.37-1.37c-.4-.4-.92-.59-1.43-.59-.52 0-1.04.2-1.43.59L10.3 9.45l-7.72 7.72c-.78.78-.78 2.05 0 2.83L4 21.41c.39.39.9.59 1.41.59.51 0 1.02-.2 1.41-.59l7.78-7.78 2.81-2.81c.8-.78.8-2.07 0-2.86zM5.41 20L4 18.59l7.72-7.72 1.47 1.35L5.41 20z\"/>\n",
              "  </svg>\n",
              "      </button>\n",
              "      \n",
              "  <style>\n",
              "    .colab-df-container {\n",
              "      display:flex;\n",
              "      flex-wrap:wrap;\n",
              "      gap: 12px;\n",
              "    }\n",
              "\n",
              "    .colab-df-convert {\n",
              "      background-color: #E8F0FE;\n",
              "      border: none;\n",
              "      border-radius: 50%;\n",
              "      cursor: pointer;\n",
              "      display: none;\n",
              "      fill: #1967D2;\n",
              "      height: 32px;\n",
              "      padding: 0 0 0 0;\n",
              "      width: 32px;\n",
              "    }\n",
              "\n",
              "    .colab-df-convert:hover {\n",
              "      background-color: #E2EBFA;\n",
              "      box-shadow: 0px 1px 2px rgba(60, 64, 67, 0.3), 0px 1px 3px 1px rgba(60, 64, 67, 0.15);\n",
              "      fill: #174EA6;\n",
              "    }\n",
              "\n",
              "    [theme=dark] .colab-df-convert {\n",
              "      background-color: #3B4455;\n",
              "      fill: #D2E3FC;\n",
              "    }\n",
              "\n",
              "    [theme=dark] .colab-df-convert:hover {\n",
              "      background-color: #434B5C;\n",
              "      box-shadow: 0px 1px 3px 1px rgba(0, 0, 0, 0.15);\n",
              "      filter: drop-shadow(0px 1px 2px rgba(0, 0, 0, 0.3));\n",
              "      fill: #FFFFFF;\n",
              "    }\n",
              "  </style>\n",
              "\n",
              "      <script>\n",
              "        const buttonEl =\n",
              "          document.querySelector('#df-9e3b8eda-f32d-4f12-a773-e7c28a692fb3 button.colab-df-convert');\n",
              "        buttonEl.style.display =\n",
              "          google.colab.kernel.accessAllowed ? 'block' : 'none';\n",
              "\n",
              "        async function convertToInteractive(key) {\n",
              "          const element = document.querySelector('#df-9e3b8eda-f32d-4f12-a773-e7c28a692fb3');\n",
              "          const dataTable =\n",
              "            await google.colab.kernel.invokeFunction('convertToInteractive',\n",
              "                                                     [key], {});\n",
              "          if (!dataTable) return;\n",
              "\n",
              "          const docLinkHtml = 'Like what you see? Visit the ' +\n",
              "            '<a target=\"_blank\" href=https://colab.research.google.com/notebooks/data_table.ipynb>data table notebook</a>'\n",
              "            + ' to learn more about interactive tables.';\n",
              "          element.innerHTML = '';\n",
              "          dataTable['output_type'] = 'display_data';\n",
              "          await google.colab.output.renderOutput(dataTable, element);\n",
              "          const docLink = document.createElement('div');\n",
              "          docLink.innerHTML = docLinkHtml;\n",
              "          element.appendChild(docLink);\n",
              "        }\n",
              "      </script>\n",
              "    </div>\n",
              "  </div>\n",
              "  "
            ]
          },
          "metadata": {},
          "execution_count": 298
        }
      ]
    },
    {
      "cell_type": "code",
      "source": [
        "(df['CATEGORY_4'].isna()).sum()"
      ],
      "metadata": {
        "colab": {
          "base_uri": "https://localhost:8080/"
        },
        "id": "RbRyMea-PoGd",
        "outputId": "dba54a6d-6746-47aa-9fce-518aedcca476"
      },
      "execution_count": null,
      "outputs": [
        {
          "output_type": "execute_result",
          "data": {
            "text/plain": [
              "1255723"
            ]
          },
          "metadata": {},
          "execution_count": 299
        }
      ]
    },
    {
      "cell_type": "code",
      "source": [
        "(df['CATEGORY_5'].isna()).sum()"
      ],
      "metadata": {
        "colab": {
          "base_uri": "https://localhost:8080/"
        },
        "id": "qTglKD9_P4P4",
        "outputId": "a14ac6f6-b884-4c3d-d04a-8b3150ba2979"
      },
      "execution_count": null,
      "outputs": [
        {
          "output_type": "execute_result",
          "data": {
            "text/plain": [
              "1256846"
            ]
          },
          "metadata": {},
          "execution_count": 300
        }
      ]
    },
    {
      "cell_type": "code",
      "source": [
        "(df['CATEGORY_3'].isna()).sum()"
      ],
      "metadata": {
        "colab": {
          "base_uri": "https://localhost:8080/"
        },
        "id": "_UsTHRBrP-Xc",
        "outputId": "b717fa41-7495-445a-a049-171de42e9bdd"
      },
      "execution_count": null,
      "outputs": [
        {
          "output_type": "execute_result",
          "data": {
            "text/plain": [
              "5407"
            ]
          },
          "metadata": {},
          "execution_count": 301
        }
      ]
    },
    {
      "cell_type": "code",
      "source": [
        "df.shape"
      ],
      "metadata": {
        "colab": {
          "base_uri": "https://localhost:8080/"
        },
        "id": "jG5G9Zqhifpf",
        "outputId": "7cf1ab5c-707a-45c7-b785-e55faca2a81e"
      },
      "execution_count": null,
      "outputs": [
        {
          "output_type": "execute_result",
          "data": {
            "text/plain": [
              "(1259411, 12)"
            ]
          },
          "metadata": {},
          "execution_count": 302
        }
      ]
    },
    {
      "cell_type": "code",
      "source": [
        "df.drop(axis='columns',labels=['CATEGORY','CATEGORY_4','CATEGORY_5'],inplace=True)"
      ],
      "metadata": {
        "id": "C9UHcchtkkV9"
      },
      "execution_count": null,
      "outputs": []
    },
    {
      "cell_type": "code",
      "source": [
        "df.head()"
      ],
      "metadata": {
        "colab": {
          "base_uri": "https://localhost:8080/",
          "height": 337
        },
        "id": "3ogiKXfrlJyw",
        "outputId": "8f7109d7-2d2f-4c79-9aa9-dfa09c6fcd8a"
      },
      "execution_count": null,
      "outputs": [
        {
          "output_type": "execute_result",
          "data": {
            "text/plain": [
              "                       PRODUCT_NAME  PRODUCT_CONDITION PRODUCT_BRAND  \\\n",
              "0     Lipstick queen reserved maiwu                  4           NaN   \n",
              "1         Garbage Pail Kids blu ray                  3           NaN   \n",
              "2                 green floam/slime                  1           NaN   \n",
              "3             Wallet beige monogram                  1           NaN   \n",
              "4  Triangle Bike Or Body Blue Light                  3           NaN   \n",
              "\n",
              "   SHIPPING_AVAILABILITY                                PRODUCT_DESCRIPTION  \\\n",
              "0                      0  Lipstick Queen Jean Queen and medieval lipstic...   \n",
              "1                      1  26Plays great. Tested. Watched once. No scratc...   \n",
              "2                      0  -6 oz, dragon fruit scented - KEEP OUT OF REAC...   \n",
              "3                      0                        Wallet brand new never used   \n",
              "4                      0  Triangle Bike Or Body Blue Light, steady or fl...   \n",
              "\n",
              "   PRODUCT_PRICE         CATEGORY_1           CATEGORY_2     CATEGORY_3  \n",
              "0           20.0             Beauty               Makeup           Lips  \n",
              "1           15.0        Electronics                Media        Blu-Ray  \n",
              "2            8.0               Kids                 Toys  Arts & Crafts  \n",
              "3           31.0              Women  Women's Accessories        Wallets  \n",
              "4            8.0  Sports & Outdoors             Outdoors          Other  "
            ],
            "text/html": [
              "\n",
              "  <div id=\"df-9305e964-591d-430c-ae0f-baef951487a6\">\n",
              "    <div class=\"colab-df-container\">\n",
              "      <div>\n",
              "<style scoped>\n",
              "    .dataframe tbody tr th:only-of-type {\n",
              "        vertical-align: middle;\n",
              "    }\n",
              "\n",
              "    .dataframe tbody tr th {\n",
              "        vertical-align: top;\n",
              "    }\n",
              "\n",
              "    .dataframe thead th {\n",
              "        text-align: right;\n",
              "    }\n",
              "</style>\n",
              "<table border=\"1\" class=\"dataframe\">\n",
              "  <thead>\n",
              "    <tr style=\"text-align: right;\">\n",
              "      <th></th>\n",
              "      <th>PRODUCT_NAME</th>\n",
              "      <th>PRODUCT_CONDITION</th>\n",
              "      <th>PRODUCT_BRAND</th>\n",
              "      <th>SHIPPING_AVAILABILITY</th>\n",
              "      <th>PRODUCT_DESCRIPTION</th>\n",
              "      <th>PRODUCT_PRICE</th>\n",
              "      <th>CATEGORY_1</th>\n",
              "      <th>CATEGORY_2</th>\n",
              "      <th>CATEGORY_3</th>\n",
              "    </tr>\n",
              "  </thead>\n",
              "  <tbody>\n",
              "    <tr>\n",
              "      <th>0</th>\n",
              "      <td>Lipstick queen reserved maiwu</td>\n",
              "      <td>4</td>\n",
              "      <td>NaN</td>\n",
              "      <td>0</td>\n",
              "      <td>Lipstick Queen Jean Queen and medieval lipstic...</td>\n",
              "      <td>20.0</td>\n",
              "      <td>Beauty</td>\n",
              "      <td>Makeup</td>\n",
              "      <td>Lips</td>\n",
              "    </tr>\n",
              "    <tr>\n",
              "      <th>1</th>\n",
              "      <td>Garbage Pail Kids blu ray</td>\n",
              "      <td>3</td>\n",
              "      <td>NaN</td>\n",
              "      <td>1</td>\n",
              "      <td>26Plays great. Tested. Watched once. No scratc...</td>\n",
              "      <td>15.0</td>\n",
              "      <td>Electronics</td>\n",
              "      <td>Media</td>\n",
              "      <td>Blu-Ray</td>\n",
              "    </tr>\n",
              "    <tr>\n",
              "      <th>2</th>\n",
              "      <td>green floam/slime</td>\n",
              "      <td>1</td>\n",
              "      <td>NaN</td>\n",
              "      <td>0</td>\n",
              "      <td>-6 oz, dragon fruit scented - KEEP OUT OF REAC...</td>\n",
              "      <td>8.0</td>\n",
              "      <td>Kids</td>\n",
              "      <td>Toys</td>\n",
              "      <td>Arts &amp; Crafts</td>\n",
              "    </tr>\n",
              "    <tr>\n",
              "      <th>3</th>\n",
              "      <td>Wallet beige monogram</td>\n",
              "      <td>1</td>\n",
              "      <td>NaN</td>\n",
              "      <td>0</td>\n",
              "      <td>Wallet brand new never used</td>\n",
              "      <td>31.0</td>\n",
              "      <td>Women</td>\n",
              "      <td>Women's Accessories</td>\n",
              "      <td>Wallets</td>\n",
              "    </tr>\n",
              "    <tr>\n",
              "      <th>4</th>\n",
              "      <td>Triangle Bike Or Body Blue Light</td>\n",
              "      <td>3</td>\n",
              "      <td>NaN</td>\n",
              "      <td>0</td>\n",
              "      <td>Triangle Bike Or Body Blue Light, steady or fl...</td>\n",
              "      <td>8.0</td>\n",
              "      <td>Sports &amp; Outdoors</td>\n",
              "      <td>Outdoors</td>\n",
              "      <td>Other</td>\n",
              "    </tr>\n",
              "  </tbody>\n",
              "</table>\n",
              "</div>\n",
              "      <button class=\"colab-df-convert\" onclick=\"convertToInteractive('df-9305e964-591d-430c-ae0f-baef951487a6')\"\n",
              "              title=\"Convert this dataframe to an interactive table.\"\n",
              "              style=\"display:none;\">\n",
              "        \n",
              "  <svg xmlns=\"http://www.w3.org/2000/svg\" height=\"24px\"viewBox=\"0 0 24 24\"\n",
              "       width=\"24px\">\n",
              "    <path d=\"M0 0h24v24H0V0z\" fill=\"none\"/>\n",
              "    <path d=\"M18.56 5.44l.94 2.06.94-2.06 2.06-.94-2.06-.94-.94-2.06-.94 2.06-2.06.94zm-11 1L8.5 8.5l.94-2.06 2.06-.94-2.06-.94L8.5 2.5l-.94 2.06-2.06.94zm10 10l.94 2.06.94-2.06 2.06-.94-2.06-.94-.94-2.06-.94 2.06-2.06.94z\"/><path d=\"M17.41 7.96l-1.37-1.37c-.4-.4-.92-.59-1.43-.59-.52 0-1.04.2-1.43.59L10.3 9.45l-7.72 7.72c-.78.78-.78 2.05 0 2.83L4 21.41c.39.39.9.59 1.41.59.51 0 1.02-.2 1.41-.59l7.78-7.78 2.81-2.81c.8-.78.8-2.07 0-2.86zM5.41 20L4 18.59l7.72-7.72 1.47 1.35L5.41 20z\"/>\n",
              "  </svg>\n",
              "      </button>\n",
              "      \n",
              "  <style>\n",
              "    .colab-df-container {\n",
              "      display:flex;\n",
              "      flex-wrap:wrap;\n",
              "      gap: 12px;\n",
              "    }\n",
              "\n",
              "    .colab-df-convert {\n",
              "      background-color: #E8F0FE;\n",
              "      border: none;\n",
              "      border-radius: 50%;\n",
              "      cursor: pointer;\n",
              "      display: none;\n",
              "      fill: #1967D2;\n",
              "      height: 32px;\n",
              "      padding: 0 0 0 0;\n",
              "      width: 32px;\n",
              "    }\n",
              "\n",
              "    .colab-df-convert:hover {\n",
              "      background-color: #E2EBFA;\n",
              "      box-shadow: 0px 1px 2px rgba(60, 64, 67, 0.3), 0px 1px 3px 1px rgba(60, 64, 67, 0.15);\n",
              "      fill: #174EA6;\n",
              "    }\n",
              "\n",
              "    [theme=dark] .colab-df-convert {\n",
              "      background-color: #3B4455;\n",
              "      fill: #D2E3FC;\n",
              "    }\n",
              "\n",
              "    [theme=dark] .colab-df-convert:hover {\n",
              "      background-color: #434B5C;\n",
              "      box-shadow: 0px 1px 3px 1px rgba(0, 0, 0, 0.15);\n",
              "      filter: drop-shadow(0px 1px 2px rgba(0, 0, 0, 0.3));\n",
              "      fill: #FFFFFF;\n",
              "    }\n",
              "  </style>\n",
              "\n",
              "      <script>\n",
              "        const buttonEl =\n",
              "          document.querySelector('#df-9305e964-591d-430c-ae0f-baef951487a6 button.colab-df-convert');\n",
              "        buttonEl.style.display =\n",
              "          google.colab.kernel.accessAllowed ? 'block' : 'none';\n",
              "\n",
              "        async function convertToInteractive(key) {\n",
              "          const element = document.querySelector('#df-9305e964-591d-430c-ae0f-baef951487a6');\n",
              "          const dataTable =\n",
              "            await google.colab.kernel.invokeFunction('convertToInteractive',\n",
              "                                                     [key], {});\n",
              "          if (!dataTable) return;\n",
              "\n",
              "          const docLinkHtml = 'Like what you see? Visit the ' +\n",
              "            '<a target=\"_blank\" href=https://colab.research.google.com/notebooks/data_table.ipynb>data table notebook</a>'\n",
              "            + ' to learn more about interactive tables.';\n",
              "          element.innerHTML = '';\n",
              "          dataTable['output_type'] = 'display_data';\n",
              "          await google.colab.output.renderOutput(dataTable, element);\n",
              "          const docLink = document.createElement('div');\n",
              "          docLink.innerHTML = docLinkHtml;\n",
              "          element.appendChild(docLink);\n",
              "        }\n",
              "      </script>\n",
              "    </div>\n",
              "  </div>\n",
              "  "
            ]
          },
          "metadata": {},
          "execution_count": 304
        }
      ]
    },
    {
      "cell_type": "code",
      "source": [
        "df.isna().sum()"
      ],
      "metadata": {
        "colab": {
          "base_uri": "https://localhost:8080/"
        },
        "id": "-U2ke1n_lO67",
        "outputId": "66bf33f6-6607-4532-c634-b41645bf7576"
      },
      "execution_count": null,
      "outputs": [
        {
          "output_type": "execute_result",
          "data": {
            "text/plain": [
              "PRODUCT_NAME                  0\n",
              "PRODUCT_CONDITION             0\n",
              "PRODUCT_BRAND            537586\n",
              "SHIPPING_AVAILABILITY         0\n",
              "PRODUCT_DESCRIPTION           0\n",
              "PRODUCT_PRICE                 0\n",
              "CATEGORY_1                 5407\n",
              "CATEGORY_2                 5407\n",
              "CATEGORY_3                 5407\n",
              "dtype: int64"
            ]
          },
          "metadata": {},
          "execution_count": 305
        }
      ]
    },
    {
      "cell_type": "markdown",
      "source": [
        "As of now we are removing null Categories. Let us know if there is any better solution."
      ],
      "metadata": {
        "id": "Le0U8sxKykPI"
      }
    },
    {
      "cell_type": "markdown",
      "source": [
        "By removing these NULL Categories number of Brands reduced by 17."
      ],
      "metadata": {
        "id": "m_2_y_37y0G7"
      }
    },
    {
      "cell_type": "markdown",
      "source": [
        "One of the solution we came across, replaced the Null values by \"Not Available\" making it a new Category in itself"
      ],
      "metadata": {
        "id": "GW2qRyOU89kp"
      }
    },
    {
      "cell_type": "code",
      "source": [
        "df.drop(axis='rows', index= df.index[df['CATEGORY_1'].isna()], inplace=True)"
      ],
      "metadata": {
        "id": "BAueUmncxYBs"
      },
      "execution_count": null,
      "outputs": []
    },
    {
      "cell_type": "code",
      "source": [
        "category=df['CATEGORY_1'].unique()\n",
        "category.shape"
      ],
      "metadata": {
        "colab": {
          "base_uri": "https://localhost:8080/"
        },
        "id": "MqOi-gFupqSU",
        "outputId": "ba7ce02e-8d8e-4e93-fc16-80fad7829352"
      },
      "execution_count": null,
      "outputs": [
        {
          "output_type": "execute_result",
          "data": {
            "text/plain": [
              "(10,)"
            ]
          },
          "metadata": {},
          "execution_count": 307
        }
      ]
    },
    {
      "cell_type": "code",
      "source": [],
      "metadata": {
        "id": "V0lESrbrxVih"
      },
      "execution_count": null,
      "outputs": []
    },
    {
      "cell_type": "code",
      "source": [
        "catcounts=[0]*category.shape[0]\n",
        "for i in range(category.shape[0]):\n",
        "  catcounts[i] = (df['CATEGORY_1']==category[i]).sum()"
      ],
      "metadata": {
        "id": "flk6DUTS0bHE"
      },
      "execution_count": null,
      "outputs": []
    },
    {
      "cell_type": "code",
      "source": [
        "f = plt.figure()\n",
        "f.set_figwidth(20)\n",
        "plt.bar(category,catcounts,edgecolor='black',color=['skyblue','yellow','aqua','pink','red','green','blue','orange','purple','magenta'])\n",
        "plt.title(\"Category-wise division\")\n",
        "plt.xlabel(\"Category\")\n",
        "plt.ylabel(\"Counts\")\n",
        "plt.show()\n"
      ],
      "metadata": {
        "id": "4O_9x7LlqDlS",
        "colab": {
          "base_uri": "https://localhost:8080/",
          "height": 295
        },
        "outputId": "ee07a927-cbe9-493d-b588-e107c39c1f12"
      },
      "execution_count": null,
      "outputs": [
        {
          "output_type": "display_data",
          "data": {
            "text/plain": [
              "<Figure size 1440x288 with 1 Axes>"
            ],
            "image/png": "[encoded data removed]"
          },
          "metadata": {
            "needs_background": "light"
          }
        }
      ]
    },
    {
      "cell_type": "code",
      "source": [
        "category2=df['CATEGORY_2'].unique()\n",
        "category2.shape"
      ],
      "metadata": {
        "colab": {
          "base_uri": "https://localhost:8080/"
        },
        "id": "0RqJp7Me2wND",
        "outputId": "cf8175f3-9f9e-4211-cc17-4acb6b327587"
      },
      "execution_count": null,
      "outputs": [
        {
          "output_type": "execute_result",
          "data": {
            "text/plain": [
              "(113,)"
            ]
          },
          "metadata": {},
          "execution_count": 310
        }
      ]
    },
    {
      "cell_type": "code",
      "source": [
        "category3=df['CATEGORY_3'].unique()\n",
        "category3.shape"
      ],
      "metadata": {
        "colab": {
          "base_uri": "https://localhost:8080/"
        },
        "id": "3YE3C4V_30_r",
        "outputId": "6c1c2c05-0364-4716-b7bf-848e73744c31"
      },
      "execution_count": null,
      "outputs": [
        {
          "output_type": "execute_result",
          "data": {
            "text/plain": [
              "(863,)"
            ]
          },
          "metadata": {},
          "execution_count": 311
        }
      ]
    },
    {
      "cell_type": "code",
      "source": [
        "brands = df['PRODUCT_BRAND'].unique().tolist()"
      ],
      "metadata": {
        "id": "iDn4Mf4s4Pi9"
      },
      "execution_count": null,
      "outputs": []
    },
    {
      "cell_type": "code",
      "source": [
        "null_idx = df.index[df['PRODUCT_BRAND'].isna()]"
      ],
      "metadata": {
        "id": "M3XKOW2h_jQS"
      },
      "execution_count": null,
      "outputs": []
    },
    {
      "cell_type": "code",
      "source": [
        "null_idx"
      ],
      "metadata": {
        "colab": {
          "base_uri": "https://localhost:8080/"
        },
        "id": "czbbyGhOA5C0",
        "outputId": "827affae-3720-49a5-ffbe-ab7d18c56a2a"
      },
      "execution_count": null,
      "outputs": [
        {
          "output_type": "execute_result",
          "data": {
            "text/plain": [
              "Int64Index([      0,       1,       2,       3,       4,       8,      10,\n",
              "                 11,      12,      15,\n",
              "            ...\n",
              "            1260136, 1260137, 1260139, 1260140, 1260141, 1260144, 1260145,\n",
              "            1260150, 1260151, 1260153],\n",
              "           dtype='int64', length=534629)"
            ]
          },
          "metadata": {},
          "execution_count": 314
        }
      ]
    },
    {
      "cell_type": "code",
      "source": [
        "# c=0\n",
        "# for i in null_idx:\n",
        "#   if(c%10000==0):\n",
        "#     print(c) \n",
        "#   flag = 0\n",
        "#   c=c+1\n",
        "#   myStr = df['PRODUCT_DESCRIPTION'][i] + ' ' + df['PRODUCT_NAME'][i]\n",
        "#   # print(myStr)\n",
        "#   for name in brands[1:]:\n",
        "#     if(name in myStr):\n",
        "#       df.at[i, 'PRODUCT_BRAND'] = name\n",
        "#       flag=1\n",
        "#       break"
      ],
      "metadata": {
        "id": "8TfPyLJnA6rh"
      },
      "execution_count": null,
      "outputs": []
    },
    {
      "cell_type": "markdown",
      "source": [
        "The above Snippet of code takes a lot of time to execute"
      ],
      "metadata": {
        "id": "husIrHN_YPCr"
      }
    },
    {
      "cell_type": "markdown",
      "source": [
        "So, We executed it once and saved its output to another csv file, which we'll use from now on. Just to save some time"
      ],
      "metadata": {
        "id": "jRjEOgOwYyh_"
      }
    },
    {
      "cell_type": "code",
      "source": [
        "# ((df['PRODUCT_BRAND'][null_idx]).isna()).sum()"
      ],
      "metadata": {
        "id": "1HToNKh3yd41"
      },
      "execution_count": null,
      "outputs": []
    },
    {
      "cell_type": "markdown",
      "source": [
        ">Output: 204982"
      ],
      "metadata": {
        "id": "ELZb9p6CZXMV"
      }
    },
    {
      "cell_type": "markdown",
      "source": [
        "Total Null Product Brands = 534629"
      ],
      "metadata": {
        "id": "OkDxwS1HVWXV"
      }
    },
    {
      "cell_type": "markdown",
      "source": [
        "Null Product Brands After imputing values = 204982"
      ],
      "metadata": {
        "id": "9WUmksseVsXG"
      }
    },
    {
      "cell_type": "markdown",
      "source": [
        "Replacing those 204982 Null Product Brands by 'Unknown'"
      ],
      "metadata": {
        "id": "emxQkaizV0av"
      }
    },
    {
      "cell_type": "code",
      "source": [
        "# (df['PRODUCT_BRAND']).fillna('Unknown', inplace=True)"
      ],
      "metadata": {
        "id": "b4kLb-QiVzPF"
      },
      "execution_count": null,
      "outputs": []
    },
    {
      "cell_type": "code",
      "source": [
        "# (df['PRODUCT_BRAND']=='Unknown').sum()"
      ],
      "metadata": {
        "id": "7GV7fdtiWz-X"
      },
      "execution_count": null,
      "outputs": []
    },
    {
      "cell_type": "markdown",
      "source": [
        ">Output: 204982"
      ],
      "metadata": {
        "id": "VW_rNu93Zhd3"
      }
    },
    {
      "cell_type": "code",
      "source": [
        "# df.to_csv('gdrive/My Drive/Imputed_values.csv')"
      ],
      "metadata": {
        "id": "8OuEEoog5oST"
      },
      "execution_count": null,
      "outputs": []
    },
    {
      "cell_type": "markdown",
      "source": [
        ">Imputed Brand values Saved Successfully to the drive"
      ],
      "metadata": {
        "id": "dUN8tjbWZmlN"
      }
    },
    {
      "cell_type": "code",
      "source": [
        "# new_df = pd.read_csv('gdrive/My Drive/Imputed_values_unknowns.csv')"
      ],
      "metadata": {
        "id": "xaIoDx2o57dO"
      },
      "execution_count": null,
      "outputs": []
    },
    {
      "cell_type": "code",
      "source": [
        "# (((new_df['PRODUCT_BRAND']=='Unknown').sum())/new_df['PRODUCT_BRAND'].shape[0])*100"
      ],
      "metadata": {
        "id": "KRlJndIElVMu"
      },
      "execution_count": null,
      "outputs": []
    },
    {
      "cell_type": "markdown",
      "source": [
        "Still, 16.35% of Brand names are Unknown, but we will move on for now"
      ],
      "metadata": {
        "id": "SN5phsCWl6zM"
      }
    },
    {
      "cell_type": "code",
      "source": [
        "import re"
      ],
      "metadata": {
        "id": "Bn691YdhsWSQ"
      },
      "execution_count": null,
      "outputs": []
    },
    {
      "cell_type": "code",
      "source": [
        "# c = 0\n",
        "# for i in range(new_df.shape[0]):\n",
        "#   if(c%10000==0):\n",
        "#     print(c)\n",
        "#   c = c+1\n",
        "#   temp = str(new_df['CATEGORY_1'][i])\n",
        "#   temp = re.sub('[^A-Za-z0-9]+',' ',temp)\n",
        "#   temp = temp.lower()\n",
        "#   temp = temp.split()\n",
        "#   temp = '_'.join(temp)\n",
        "#   new_df.at[i, 'CATEGORY_1'] = temp\n",
        "\n",
        "#   temp = str(new_df['CATEGORY_2'][i])\n",
        "#   temp = re.sub('[^A-Za-z0-9]+',' ',temp)\n",
        "#   temp = temp.lower()\n",
        "#   temp = temp.split()\n",
        "#   temp = '_'.join(temp)\n",
        "#   new_df.at[i, 'CATEGORY_2'] = temp\n",
        "\n",
        "#   temp = str(new_df['CATEGORY_3'][i])\n",
        "#   temp = re.sub('[^A-Za-z0-9]+',' ',temp)\n",
        "#   temp = temp.lower()\n",
        "#   temp = temp.split()\n",
        "#   temp = '_'.join(temp)\n",
        "#   new_df.at[i, 'CATEGORY_3'] = temp"
      ],
      "metadata": {
        "id": "KGM-tgJ2xxIS"
      },
      "execution_count": null,
      "outputs": []
    },
    {
      "cell_type": "code",
      "source": [
        "# new_df.to_csv('gdrive/My Drive/Imputed_plus_Updated_Category.csv')"
      ],
      "metadata": {
        "id": "Hjiqid-IBRlw"
      },
      "execution_count": null,
      "outputs": []
    },
    {
      "cell_type": "markdown",
      "source": [
        "> Changes to Categories Saved Successfully to the drive"
      ],
      "metadata": {
        "id": "1rxUG7_sy64G"
      }
    },
    {
      "cell_type": "code",
      "source": [
        "# import nltk\n",
        "# nltk.download('stopwords')\n",
        "# nltk.download('wordnet')\n",
        "# nltk.download('omw-1.4')"
      ],
      "metadata": {
        "id": "7hmygE9jFFyl"
      },
      "execution_count": null,
      "outputs": []
    },
    {
      "cell_type": "code",
      "source": [
        "# from nltk.corpus import stopwords\n",
        "# from nltk.stem import WordNetLemmatizer\n",
        "\n",
        "# lemmatizer=WordNetLemmatizer()\n",
        "# c=0\n",
        "# for i in range(new_df.shape[0]):\n",
        "#     if(c%10000==0):\n",
        "#       print(c)\n",
        "#     c = c+1\n",
        "#     temp = str(new_df['PRODUCT_DESCRIPTION'][i])\n",
        "#     temp = re.sub('[^a-zA-Z0-9]', ' ', temp)\n",
        "#     temp = temp.lower()\n",
        "#     temp = temp.split()\n",
        "#     temp = [lemmatizer.lemmatize(word) for word in temp if not word in set(stopwords.words('english')) and word!='rm']\n",
        "#     temp = ' '.join(temp)\n",
        "#     new_df.at[i, 'PRODUCT_DESCRIPTION'] = temp"
      ],
      "metadata": {
        "id": "0xIIHBbBBb2b"
      },
      "execution_count": null,
      "outputs": []
    },
    {
      "cell_type": "code",
      "source": [
        "# new_df.to_csv('gdrive/My Drive/Imputed_plus_Updated_NLP.csv')"
      ],
      "metadata": {
        "id": "NAJS7syxMP8X"
      },
      "execution_count": null,
      "outputs": []
    },
    {
      "cell_type": "markdown",
      "source": [
        "> Lemmatized and removed the word \"rm\" from it (As mentioned in the Description)<br>And Saved it to the drive"
      ],
      "metadata": {
        "id": "E73g-CKtzpD5"
      }
    },
    {
      "cell_type": "code",
      "source": [
        "# from nltk.corpus import stopwords\n",
        "# from nltk.stem import WordNetLemmatizer\n",
        "\n",
        "# lemmatizer=WordNetLemmatizer()\n",
        "# c=0\n",
        "# for i in range(new_df.shape[0]):\n",
        "#     if(c%10000==0):\n",
        "#       print(c)\n",
        "#     c = c+1\n",
        "#     temp = str(new_df['PRODUCT_NAME'][i])\n",
        "#     temp = re.sub('[^a-zA-Z0-9]', ' ', temp)\n",
        "#     temp = temp.lower()\n",
        "#     temp = temp.split()\n",
        "#     temp = [lemmatizer.lemmatize(word) for word in temp if not word in set(stopwords.words('english')) and word!='rm']\n",
        "#     temp = ' '.join(temp)\n",
        "#     new_df.at[i, 'PRODUCT_NAME'] = temp"
      ],
      "metadata": {
        "id": "EKodQz3l3P4y"
      },
      "execution_count": null,
      "outputs": []
    },
    {
      "cell_type": "markdown",
      "source": [
        "**Alert: Took a loooooooooot of time!!**"
      ],
      "metadata": {
        "id": "G2L6bzcgzQ8W"
      }
    },
    {
      "cell_type": "code",
      "source": [
        "# new_df.to_csv('gdrive/My Drive/Pre_NLP.csv')"
      ],
      "metadata": {
        "id": "9cGq2tdt8rWf"
      },
      "execution_count": null,
      "outputs": []
    },
    {
      "cell_type": "markdown",
      "source": [
        "The Pre-Processed data is now saved to 'Pre_NLP.csv'"
      ],
      "metadata": {
        "id": "4bdjYM42EX5Y"
      }
    },
    {
      "cell_type": "markdown",
      "source": [
        "From now on, we'll read the 'Pre_NLP.csv' file to save Time and Computation"
      ],
      "metadata": {
        "id": "xxPDdWaVEkX1"
      }
    },
    {
      "cell_type": "code",
      "source": [
        "pf_df = pd.read_csv('gdrive/My Drive/Pre_NLP.csv')"
      ],
      "metadata": {
        "id": "oY0qAc1k9HwR"
      },
      "execution_count": null,
      "outputs": []
    },
    {
      "cell_type": "code",
      "source": [
        "pf_df.drop(axis=\"columns\", labels='Unnamed: 0', inplace=True)"
      ],
      "metadata": {
        "id": "pbbY9LMf9o-q"
      },
      "execution_count": null,
      "outputs": []
    },
    {
      "cell_type": "code",
      "source": [
        "pf_df"
      ],
      "metadata": {
        "id": "tVJhWkEb9xDv",
        "colab": {
          "base_uri": "https://localhost:8080/",
          "height": 748
        },
        "outputId": "151f1ecc-f6ec-4860-bf63-803cbcce370d"
      },
      "execution_count": null,
      "outputs": [
        {
          "output_type": "execute_result",
          "data": {
            "text/plain": [
              "                                     PRODUCT_NAME  PRODUCT_CONDITION  \\\n",
              "0                   lipstick queen reserved maiwu                  4   \n",
              "1                        garbage pail kid blu ray                  3   \n",
              "2                               green floam slime                  1   \n",
              "3                           wallet beige monogram                  1   \n",
              "4                   triangle bike body blue light                  3   \n",
              "...                                           ...                ...   \n",
              "1253999                        brook brother girl                  3   \n",
              "1254000                  lularoe randy size large                  1   \n",
              "1254001                                      sale                  1   \n",
              "1254002    iphone headphone lightning cable split                  1   \n",
              "1254003  glass replacement available iphone 4 5 6                  1   \n",
              "\n",
              "           PRODUCT_BRAND  SHIPPING_AVAILABILITY  \\\n",
              "0         Lipstick Queen                      0   \n",
              "1                Unknown                      1   \n",
              "2                    CHI                      0   \n",
              "3                Unknown                      0   \n",
              "4                Triangl                      0   \n",
              "...                  ...                    ...   \n",
              "1253999  Brooks Brothers                      0   \n",
              "1254000          Unknown                      0   \n",
              "1254001          Unknown                      0   \n",
              "1254002            Apple                      0   \n",
              "1254003          Unknown                      1   \n",
              "\n",
              "                                       PRODUCT_DESCRIPTION  PRODUCT_PRICE  \\\n",
              "0        lipstick queen jean queen medieval lipstick us...           20.0   \n",
              "1                     26plays great tested watched scratch           15.0   \n",
              "2        6 oz dragon fruit scented keep reach young chi...            8.0   \n",
              "3                              wallet brand new never used           31.0   \n",
              "4        triangle bike body blue light steady flashing ...            8.0   \n",
              "...                                                    ...            ...   \n",
              "1253999  beautiful dress another favorite sz 6 beautifu...           12.0   \n",
              "1254000  brand new never worn washed size large navy sl...           34.0   \n",
              "1254001  american girl doll tenney come doll book guita...           99.0   \n",
              "1254002                                    description yet            9.0   \n",
              "1254003  glass replacement available iphone 4 5 6 6 7 p...           16.0   \n",
              "\n",
              "              CATEGORY_1               CATEGORY_2               CATEGORY_3  \n",
              "0                 beauty                   makeup                     lips  \n",
              "1            electronics                    media                  blu_ray  \n",
              "2                   kids                     toys              arts_crafts  \n",
              "3                  women      women_s_accessories                  wallets  \n",
              "4        sports_outdoors                 outdoors                    other  \n",
              "...                  ...                      ...                      ...  \n",
              "1253999             kids                  girls_4                  dresses  \n",
              "1254000            women             tops_blouses                 knit_top  \n",
              "1254001             kids                     toys        dolls_accessories  \n",
              "1254002      electronics  cell_phones_accessories          cables_adapters  \n",
              "1254003      electronics  cell_phones_accessories  cell_phones_smartphones  \n",
              "\n",
              "[1254004 rows x 9 columns]"
            ],
            "text/html": [
              "\n",
              "  <div id=\"df-c9ba7e4b-6aa9-41f3-884a-2d446c9a0814\">\n",
              "    <div class=\"colab-df-container\">\n",
              "      <div>\n",
              "<style scoped>\n",
              "    .dataframe tbody tr th:only-of-type {\n",
              "        vertical-align: middle;\n",
              "    }\n",
              "\n",
              "    .dataframe tbody tr th {\n",
              "        vertical-align: top;\n",
              "    }\n",
              "\n",
              "    .dataframe thead th {\n",
              "        text-align: right;\n",
              "    }\n",
              "</style>\n",
              "<table border=\"1\" class=\"dataframe\">\n",
              "  <thead>\n",
              "    <tr style=\"text-align: right;\">\n",
              "      <th></th>\n",
              "      <th>PRODUCT_NAME</th>\n",
              "      <th>PRODUCT_CONDITION</th>\n",
              "      <th>PRODUCT_BRAND</th>\n",
              "      <th>SHIPPING_AVAILABILITY</th>\n",
              "      <th>PRODUCT_DESCRIPTION</th>\n",
              "      <th>PRODUCT_PRICE</th>\n",
              "      <th>CATEGORY_1</th>\n",
              "      <th>CATEGORY_2</th>\n",
              "      <th>CATEGORY_3</th>\n",
              "    </tr>\n",
              "  </thead>\n",
              "  <tbody>\n",
              "    <tr>\n",
              "      <th>0</th>\n",
              "      <td>lipstick queen reserved maiwu</td>\n",
              "      <td>4</td>\n",
              "      <td>Lipstick Queen</td>\n",
              "      <td>0</td>\n",
              "      <td>lipstick queen jean queen medieval lipstick us...</td>\n",
              "      <td>20.0</td>\n",
              "      <td>beauty</td>\n",
              "      <td>makeup</td>\n",
              "      <td>lips</td>\n",
              "    </tr>\n",
              "    <tr>\n",
              "      <th>1</th>\n",
              "      <td>garbage pail kid blu ray</td>\n",
              "      <td>3</td>\n",
              "      <td>Unknown</td>\n",
              "      <td>1</td>\n",
              "      <td>26plays great tested watched scratch</td>\n",
              "      <td>15.0</td>\n",
              "      <td>electronics</td>\n",
              "      <td>media</td>\n",
              "      <td>blu_ray</td>\n",
              "    </tr>\n",
              "    <tr>\n",
              "      <th>2</th>\n",
              "      <td>green floam slime</td>\n",
              "      <td>1</td>\n",
              "      <td>CHI</td>\n",
              "      <td>0</td>\n",
              "      <td>6 oz dragon fruit scented keep reach young chi...</td>\n",
              "      <td>8.0</td>\n",
              "      <td>kids</td>\n",
              "      <td>toys</td>\n",
              "      <td>arts_crafts</td>\n",
              "    </tr>\n",
              "    <tr>\n",
              "      <th>3</th>\n",
              "      <td>wallet beige monogram</td>\n",
              "      <td>1</td>\n",
              "      <td>Unknown</td>\n",
              "      <td>0</td>\n",
              "      <td>wallet brand new never used</td>\n",
              "      <td>31.0</td>\n",
              "      <td>women</td>\n",
              "      <td>women_s_accessories</td>\n",
              "      <td>wallets</td>\n",
              "    </tr>\n",
              "    <tr>\n",
              "      <th>4</th>\n",
              "      <td>triangle bike body blue light</td>\n",
              "      <td>3</td>\n",
              "      <td>Triangl</td>\n",
              "      <td>0</td>\n",
              "      <td>triangle bike body blue light steady flashing ...</td>\n",
              "      <td>8.0</td>\n",
              "      <td>sports_outdoors</td>\n",
              "      <td>outdoors</td>\n",
              "      <td>other</td>\n",
              "    </tr>\n",
              "    <tr>\n",
              "      <th>...</th>\n",
              "      <td>...</td>\n",
              "      <td>...</td>\n",
              "      <td>...</td>\n",
              "      <td>...</td>\n",
              "      <td>...</td>\n",
              "      <td>...</td>\n",
              "      <td>...</td>\n",
              "      <td>...</td>\n",
              "      <td>...</td>\n",
              "    </tr>\n",
              "    <tr>\n",
              "      <th>1253999</th>\n",
              "      <td>brook brother girl</td>\n",
              "      <td>3</td>\n",
              "      <td>Brooks Brothers</td>\n",
              "      <td>0</td>\n",
              "      <td>beautiful dress another favorite sz 6 beautifu...</td>\n",
              "      <td>12.0</td>\n",
              "      <td>kids</td>\n",
              "      <td>girls_4</td>\n",
              "      <td>dresses</td>\n",
              "    </tr>\n",
              "    <tr>\n",
              "      <th>1254000</th>\n",
              "      <td>lularoe randy size large</td>\n",
              "      <td>1</td>\n",
              "      <td>Unknown</td>\n",
              "      <td>0</td>\n",
              "      <td>brand new never worn washed size large navy sl...</td>\n",
              "      <td>34.0</td>\n",
              "      <td>women</td>\n",
              "      <td>tops_blouses</td>\n",
              "      <td>knit_top</td>\n",
              "    </tr>\n",
              "    <tr>\n",
              "      <th>1254001</th>\n",
              "      <td>sale</td>\n",
              "      <td>1</td>\n",
              "      <td>Unknown</td>\n",
              "      <td>0</td>\n",
              "      <td>american girl doll tenney come doll book guita...</td>\n",
              "      <td>99.0</td>\n",
              "      <td>kids</td>\n",
              "      <td>toys</td>\n",
              "      <td>dolls_accessories</td>\n",
              "    </tr>\n",
              "    <tr>\n",
              "      <th>1254002</th>\n",
              "      <td>iphone headphone lightning cable split</td>\n",
              "      <td>1</td>\n",
              "      <td>Apple</td>\n",
              "      <td>0</td>\n",
              "      <td>description yet</td>\n",
              "      <td>9.0</td>\n",
              "      <td>electronics</td>\n",
              "      <td>cell_phones_accessories</td>\n",
              "      <td>cables_adapters</td>\n",
              "    </tr>\n",
              "    <tr>\n",
              "      <th>1254003</th>\n",
              "      <td>glass replacement available iphone 4 5 6</td>\n",
              "      <td>1</td>\n",
              "      <td>Unknown</td>\n",
              "      <td>1</td>\n",
              "      <td>glass replacement available iphone 4 5 6 6 7 p...</td>\n",
              "      <td>16.0</td>\n",
              "      <td>electronics</td>\n",
              "      <td>cell_phones_accessories</td>\n",
              "      <td>cell_phones_smartphones</td>\n",
              "    </tr>\n",
              "  </tbody>\n",
              "</table>\n",
              "<p>1254004 rows × 9 columns</p>\n",
              "</div>\n",
              "      <button class=\"colab-df-convert\" onclick=\"convertToInteractive('df-c9ba7e4b-6aa9-41f3-884a-2d446c9a0814')\"\n",
              "              title=\"Convert this dataframe to an interactive table.\"\n",
              "              style=\"display:none;\">\n",
              "        \n",
              "  <svg xmlns=\"http://www.w3.org/2000/svg\" height=\"24px\"viewBox=\"0 0 24 24\"\n",
              "       width=\"24px\">\n",
              "    <path d=\"M0 0h24v24H0V0z\" fill=\"none\"/>\n",
              "    <path d=\"M18.56 5.44l.94 2.06.94-2.06 2.06-.94-2.06-.94-.94-2.06-.94 2.06-2.06.94zm-11 1L8.5 8.5l.94-2.06 2.06-.94-2.06-.94L8.5 2.5l-.94 2.06-2.06.94zm10 10l.94 2.06.94-2.06 2.06-.94-2.06-.94-.94-2.06-.94 2.06-2.06.94z\"/><path d=\"M17.41 7.96l-1.37-1.37c-.4-.4-.92-.59-1.43-.59-.52 0-1.04.2-1.43.59L10.3 9.45l-7.72 7.72c-.78.78-.78 2.05 0 2.83L4 21.41c.39.39.9.59 1.41.59.51 0 1.02-.2 1.41-.59l7.78-7.78 2.81-2.81c.8-.78.8-2.07 0-2.86zM5.41 20L4 18.59l7.72-7.72 1.47 1.35L5.41 20z\"/>\n",
              "  </svg>\n",
              "      </button>\n",
              "      \n",
              "  <style>\n",
              "    .colab-df-container {\n",
              "      display:flex;\n",
              "      flex-wrap:wrap;\n",
              "      gap: 12px;\n",
              "    }\n",
              "\n",
              "    .colab-df-convert {\n",
              "      background-color: #E8F0FE;\n",
              "      border: none;\n",
              "      border-radius: 50%;\n",
              "      cursor: pointer;\n",
              "      display: none;\n",
              "      fill: #1967D2;\n",
              "      height: 32px;\n",
              "      padding: 0 0 0 0;\n",
              "      width: 32px;\n",
              "    }\n",
              "\n",
              "    .colab-df-convert:hover {\n",
              "      background-color: #E2EBFA;\n",
              "      box-shadow: 0px 1px 2px rgba(60, 64, 67, 0.3), 0px 1px 3px 1px rgba(60, 64, 67, 0.15);\n",
              "      fill: #174EA6;\n",
              "    }\n",
              "\n",
              "    [theme=dark] .colab-df-convert {\n",
              "      background-color: #3B4455;\n",
              "      fill: #D2E3FC;\n",
              "    }\n",
              "\n",
              "    [theme=dark] .colab-df-convert:hover {\n",
              "      background-color: #434B5C;\n",
              "      box-shadow: 0px 1px 3px 1px rgba(0, 0, 0, 0.15);\n",
              "      filter: drop-shadow(0px 1px 2px rgba(0, 0, 0, 0.3));\n",
              "      fill: #FFFFFF;\n",
              "    }\n",
              "  </style>\n",
              "\n",
              "      <script>\n",
              "        const buttonEl =\n",
              "          document.querySelector('#df-c9ba7e4b-6aa9-41f3-884a-2d446c9a0814 button.colab-df-convert');\n",
              "        buttonEl.style.display =\n",
              "          google.colab.kernel.accessAllowed ? 'block' : 'none';\n",
              "\n",
              "        async function convertToInteractive(key) {\n",
              "          const element = document.querySelector('#df-c9ba7e4b-6aa9-41f3-884a-2d446c9a0814');\n",
              "          const dataTable =\n",
              "            await google.colab.kernel.invokeFunction('convertToInteractive',\n",
              "                                                     [key], {});\n",
              "          if (!dataTable) return;\n",
              "\n",
              "          const docLinkHtml = 'Like what you see? Visit the ' +\n",
              "            '<a target=\"_blank\" href=https://colab.research.google.com/notebooks/data_table.ipynb>data table notebook</a>'\n",
              "            + ' to learn more about interactive tables.';\n",
              "          element.innerHTML = '';\n",
              "          dataTable['output_type'] = 'display_data';\n",
              "          await google.colab.output.renderOutput(dataTable, element);\n",
              "          const docLink = document.createElement('div');\n",
              "          docLink.innerHTML = docLinkHtml;\n",
              "          element.appendChild(docLink);\n",
              "        }\n",
              "      </script>\n",
              "    </div>\n",
              "  </div>\n",
              "  "
            ]
          },
          "metadata": {},
          "execution_count": 332
        }
      ]
    },
    {
      "cell_type": "code",
      "source": [],
      "metadata": {
        "id": "CfbHKt1nFG2y"
      },
      "execution_count": null,
      "outputs": []
    }
  ]
}